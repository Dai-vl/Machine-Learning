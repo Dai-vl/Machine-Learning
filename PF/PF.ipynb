{
 "cells": [
  {
   "cell_type": "markdown",
   "metadata": {},
   "source": [
    "# Práctica Final Aprendizaje Automático\n",
    "\n",
    "Grupo 5: Jorge Ortega y Daniela Vidal"
   ]
  },
  {
   "attachments": {},
   "cell_type": "markdown",
   "metadata": {},
   "source": [
    "## Índice\n",
    "\n",
    "1. [Presentación del dataset](#Presentación-del-dataset)\n",
    "2. [Preprocesamiento](#Preprocesamiento)\n",
    "3. [Dataset final](#Dataset-final)\n",
    "4. [Separación en entrenamiento, validación y test](#Separación-en-entrenamiento,-validación-y-test)\n",
    "5. [Regresión logística](#Reg-logística)\n",
    "6. [Red neuronal](#Red-neuronal)\n",
    "7. [Árboles de decisión](#Árboles-de-decisión)\n",
    "8. [Comparación de resultados](#Comparación-de-resultados)\n",
    "9. [Conclusiones](#Conclusiones)\n",
    "10. [Bibliografía](#Bibliografía) "
   ]
  },
  {
   "attachments": {},
   "cell_type": "markdown",
   "metadata": {},
   "source": [
    "## 1. Presentación del dataset <a class=\"anchor\" id=\"Presentación-del-dataset\"></a>"
   ]
  },
  {
   "attachments": {},
   "cell_type": "markdown",
   "metadata": {},
   "source": [
    "Esta práctica consiste en la aplicación de los conocimientos adquiridos en la asignatura de Aprendizaje Automático a un dataset sobre reconocimiento de gestos con datos de la actividad muscular. Lo que se pretende es realizar un clasificador que sea capaz de predecir qué gesto se está realizando a partir de los datos de la actividad muscular.\n",
    "\n",
    "El dataset que hemos elegido para realizar la práctica es el de [Classify gestures by reading muscle activity](https://www.kaggle.com/datasets/kyr7plus/emg-4). Se trata de un dataset de Kaggle que contiene datos de la actividad muscular de 4 gestos diferentes: \n",
    "- Piedra (puño)\n",
    "\n",
    "- Papel (extensión de la mano)\n",
    "\n",
    "- Tijeras (dedos índice y corazón extendidos)\n",
    "\n",
    "- Okay (dedo índice tocando el pulgar y el resto de dedos extendidos). \n",
    "\n",
    "Los datos se han recogido con señales EMG (electromiografía). Las señales EMG son señales eléctricas que se producen en los músculos cuando estos se activan y se pueden utilizar para detectar y clasificar gestos. Los datos se han recogido con una banda colocada en el brazo con 8 sensores en la superficie de la piel, cada uno de ellos recoge la actividad eléctrica producida por los músculos debajo de la piel. \n",
    "Cada línea del dataset consiste en 40ms en las que se hacen 8 medidas consecutivas de los 8 sensores, es decir, 64 columnas en total de esta manera:\n",
    "\n",
    "                                    [8 sensores][8 sensores][8 sensores][8 sensores][8 sensores][8 sensores][8 sensores][8 sensores][Gesto]\n",
    "\n",
    "En total hay 120s de cada gesto.\n",
    "\n",
    "La columna 'Gesto' clasifica piedra - 0, tijeras - 1, papel - 2, okay - 3.\n",
    "\n",
    "Para asegurarse de la calidad de los datos, se realizaron 6 repeticiones de cada gesto en la que se empezaba y se paraba de medir con el gesto sostenido.\n",
    "\n",
    "Se trata de 4 datasets de alrededor de 2900 filas cada uno con la actividad de cada gesto. "
   ]
  },
  {
   "attachments": {},
   "cell_type": "markdown",
   "metadata": {},
   "source": [
    "## 2. Preprocesamiento <a class=\"anchor\" id=\"Preprocesamiento\"></a>"
   ]
  },
  {
   "cell_type": "code",
   "execution_count": 101,
   "metadata": {},
   "outputs": [],
   "source": [
    "import numpy as np\n",
    "import pandas as pd\n",
    "import matplotlib.pyplot as plt\n",
    "import sklearn as sk\n",
    "from sklearn.model_selection import train_test_split\n",
    "from sklearn import preprocessing, metrics\n",
    "from sklearn.linear_model import LogisticRegression\n",
    "from sklearn.decomposition import PCA\n",
    "from sklearn.metrics import classification_report, confusion_matrix\n",
    "import tensorflow as tf\n",
    "from tensorflow.keras import Sequential, Model, Input\n",
    "from tensorflow.keras.layers import Dense\n",
    "from tensorflow.keras.losses import BinaryCrossentropy\n",
    "from tensorflow.keras.optimizers import Adam\n",
    "from tensorflow.keras.losses import SparseCategoricalCrossentropy\n",
    "import seaborn as sns"
   ]
  },
  {
   "attachments": {},
   "cell_type": "markdown",
   "metadata": {},
   "source": [
    "### Constantes globales"
   ]
  },
  {
   "cell_type": "code",
   "execution_count": 58,
   "metadata": {},
   "outputs": [],
   "source": [
    "RANDOM_STATE = 42"
   ]
  },
  {
   "attachments": {},
   "cell_type": "markdown",
   "metadata": {},
   "source": [
    "### Lectura del dataset"
   ]
  },
  {
   "cell_type": "code",
   "execution_count": 59,
   "metadata": {},
   "outputs": [],
   "source": [
    "X0 = pd.read_csv('0.csv')\n",
    "X1 = pd.read_csv('1.csv')\n",
    "X2 = pd.read_csv('2.csv')\n",
    "X3 = pd.read_csv('3.csv')"
   ]
  },
  {
   "attachments": {},
   "cell_type": "markdown",
   "metadata": {},
   "source": [
    "Podemos ver lo que contienen los datasets en las siguientes tablas:"
   ]
  },
  {
   "cell_type": "code",
   "execution_count": 60,
   "metadata": {},
   "outputs": [
    {
     "data": {
      "text/html": [
       "<div>\n",
       "<style scoped>\n",
       "    .dataframe tbody tr th:only-of-type {\n",
       "        vertical-align: middle;\n",
       "    }\n",
       "\n",
       "    .dataframe tbody tr th {\n",
       "        vertical-align: top;\n",
       "    }\n",
       "\n",
       "    .dataframe thead th {\n",
       "        text-align: right;\n",
       "    }\n",
       "</style>\n",
       "<table border=\"1\" class=\"dataframe\">\n",
       "  <thead>\n",
       "    <tr style=\"text-align: right;\">\n",
       "      <th></th>\n",
       "      <th>26.0</th>\n",
       "      <th>4.0</th>\n",
       "      <th>5.0</th>\n",
       "      <th>8.0</th>\n",
       "      <th>-1.0</th>\n",
       "      <th>-13.0</th>\n",
       "      <th>-109.0</th>\n",
       "      <th>-66.0</th>\n",
       "      <th>-9.0</th>\n",
       "      <th>2.0</th>\n",
       "      <th>...</th>\n",
       "      <th>-28.0</th>\n",
       "      <th>61.0</th>\n",
       "      <th>4.0.3</th>\n",
       "      <th>8.0.1</th>\n",
       "      <th>5.0.1</th>\n",
       "      <th>4.0.4</th>\n",
       "      <th>-7.0.1</th>\n",
       "      <th>-59.0</th>\n",
       "      <th>16.0</th>\n",
       "      <th>0</th>\n",
       "    </tr>\n",
       "  </thead>\n",
       "  <tbody>\n",
       "    <tr>\n",
       "      <th>0</th>\n",
       "      <td>-47.0</td>\n",
       "      <td>-6.0</td>\n",
       "      <td>-5.0</td>\n",
       "      <td>-7.0</td>\n",
       "      <td>13.0</td>\n",
       "      <td>-1.0</td>\n",
       "      <td>35.0</td>\n",
       "      <td>-10.0</td>\n",
       "      <td>10.0</td>\n",
       "      <td>-4.0</td>\n",
       "      <td>...</td>\n",
       "      <td>-25.0</td>\n",
       "      <td>47.0</td>\n",
       "      <td>6.0</td>\n",
       "      <td>6.0</td>\n",
       "      <td>5.0</td>\n",
       "      <td>13.0</td>\n",
       "      <td>21.0</td>\n",
       "      <td>111.0</td>\n",
       "      <td>15.0</td>\n",
       "      <td>0</td>\n",
       "    </tr>\n",
       "    <tr>\n",
       "      <th>1</th>\n",
       "      <td>-19.0</td>\n",
       "      <td>-8.0</td>\n",
       "      <td>-8.0</td>\n",
       "      <td>-8.0</td>\n",
       "      <td>-21.0</td>\n",
       "      <td>-6.0</td>\n",
       "      <td>-79.0</td>\n",
       "      <td>12.0</td>\n",
       "      <td>0.0</td>\n",
       "      <td>5.0</td>\n",
       "      <td>...</td>\n",
       "      <td>-83.0</td>\n",
       "      <td>7.0</td>\n",
       "      <td>7.0</td>\n",
       "      <td>1.0</td>\n",
       "      <td>-8.0</td>\n",
       "      <td>7.0</td>\n",
       "      <td>21.0</td>\n",
       "      <td>114.0</td>\n",
       "      <td>48.0</td>\n",
       "      <td>0</td>\n",
       "    </tr>\n",
       "    <tr>\n",
       "      <th>2</th>\n",
       "      <td>2.0</td>\n",
       "      <td>3.0</td>\n",
       "      <td>0.0</td>\n",
       "      <td>2.0</td>\n",
       "      <td>0.0</td>\n",
       "      <td>22.0</td>\n",
       "      <td>106.0</td>\n",
       "      <td>-14.0</td>\n",
       "      <td>-16.0</td>\n",
       "      <td>-2.0</td>\n",
       "      <td>...</td>\n",
       "      <td>-38.0</td>\n",
       "      <td>-11.0</td>\n",
       "      <td>4.0</td>\n",
       "      <td>7.0</td>\n",
       "      <td>11.0</td>\n",
       "      <td>33.0</td>\n",
       "      <td>39.0</td>\n",
       "      <td>119.0</td>\n",
       "      <td>43.0</td>\n",
       "      <td>0</td>\n",
       "    </tr>\n",
       "    <tr>\n",
       "      <th>3</th>\n",
       "      <td>6.0</td>\n",
       "      <td>0.0</td>\n",
       "      <td>0.0</td>\n",
       "      <td>-2.0</td>\n",
       "      <td>-14.0</td>\n",
       "      <td>10.0</td>\n",
       "      <td>-51.0</td>\n",
       "      <td>5.0</td>\n",
       "      <td>7.0</td>\n",
       "      <td>0.0</td>\n",
       "      <td>...</td>\n",
       "      <td>38.0</td>\n",
       "      <td>-35.0</td>\n",
       "      <td>-8.0</td>\n",
       "      <td>2.0</td>\n",
       "      <td>6.0</td>\n",
       "      <td>-13.0</td>\n",
       "      <td>-24.0</td>\n",
       "      <td>-112.0</td>\n",
       "      <td>-69.0</td>\n",
       "      <td>0</td>\n",
       "    </tr>\n",
       "    <tr>\n",
       "      <th>4</th>\n",
       "      <td>15.0</td>\n",
       "      <td>-5.0</td>\n",
       "      <td>-5.0</td>\n",
       "      <td>-15.0</td>\n",
       "      <td>12.0</td>\n",
       "      <td>-22.0</td>\n",
       "      <td>-38.0</td>\n",
       "      <td>36.0</td>\n",
       "      <td>9.0</td>\n",
       "      <td>6.0</td>\n",
       "      <td>...</td>\n",
       "      <td>-26.0</td>\n",
       "      <td>5.0</td>\n",
       "      <td>6.0</td>\n",
       "      <td>6.0</td>\n",
       "      <td>11.0</td>\n",
       "      <td>5.0</td>\n",
       "      <td>30.0</td>\n",
       "      <td>-48.0</td>\n",
       "      <td>25.0</td>\n",
       "      <td>0</td>\n",
       "    </tr>\n",
       "  </tbody>\n",
       "</table>\n",
       "<p>5 rows × 65 columns</p>\n",
       "</div>"
      ],
      "text/plain": [
       "   26.0  4.0  5.0   8.0  -1.0  -13.0  -109.0  -66.0  -9.0  2.0  ...  -28.0  \\\n",
       "0 -47.0 -6.0 -5.0  -7.0  13.0   -1.0    35.0  -10.0  10.0 -4.0  ...  -25.0   \n",
       "1 -19.0 -8.0 -8.0  -8.0 -21.0   -6.0   -79.0   12.0   0.0  5.0  ...  -83.0   \n",
       "2   2.0  3.0  0.0   2.0   0.0   22.0   106.0  -14.0 -16.0 -2.0  ...  -38.0   \n",
       "3   6.0  0.0  0.0  -2.0 -14.0   10.0   -51.0    5.0   7.0  0.0  ...   38.0   \n",
       "4  15.0 -5.0 -5.0 -15.0  12.0  -22.0   -38.0   36.0   9.0  6.0  ...  -26.0   \n",
       "\n",
       "   61.0  4.0.3  8.0.1  5.0.1  4.0.4  -7.0.1  -59.0  16.0  0  \n",
       "0  47.0    6.0    6.0    5.0   13.0    21.0  111.0  15.0  0  \n",
       "1   7.0    7.0    1.0   -8.0    7.0    21.0  114.0  48.0  0  \n",
       "2 -11.0    4.0    7.0   11.0   33.0    39.0  119.0  43.0  0  \n",
       "3 -35.0   -8.0    2.0    6.0  -13.0   -24.0 -112.0 -69.0  0  \n",
       "4   5.0    6.0    6.0   11.0    5.0    30.0  -48.0  25.0  0  \n",
       "\n",
       "[5 rows x 65 columns]"
      ]
     },
     "execution_count": 60,
     "metadata": {},
     "output_type": "execute_result"
    }
   ],
   "source": [
    "X0.head()"
   ]
  },
  {
   "cell_type": "code",
   "execution_count": 61,
   "metadata": {},
   "outputs": [
    {
     "data": {
      "text/html": [
       "<div>\n",
       "<style scoped>\n",
       "    .dataframe tbody tr th:only-of-type {\n",
       "        vertical-align: middle;\n",
       "    }\n",
       "\n",
       "    .dataframe tbody tr th {\n",
       "        vertical-align: top;\n",
       "    }\n",
       "\n",
       "    .dataframe thead th {\n",
       "        text-align: right;\n",
       "    }\n",
       "</style>\n",
       "<table border=\"1\" class=\"dataframe\">\n",
       "  <thead>\n",
       "    <tr style=\"text-align: right;\">\n",
       "      <th></th>\n",
       "      <th>-7.0</th>\n",
       "      <th>-1.0</th>\n",
       "      <th>-1.0.1</th>\n",
       "      <th>0.0</th>\n",
       "      <th>-10.0</th>\n",
       "      <th>-10.0.1</th>\n",
       "      <th>-1.0.2</th>\n",
       "      <th>1.0</th>\n",
       "      <th>-5.0</th>\n",
       "      <th>-5.0.1</th>\n",
       "      <th>...</th>\n",
       "      <th>6.0.1</th>\n",
       "      <th>-4.0.6</th>\n",
       "      <th>-3.0.5</th>\n",
       "      <th>-5.0.5</th>\n",
       "      <th>-3.0.6</th>\n",
       "      <th>15.0.1</th>\n",
       "      <th>11.0</th>\n",
       "      <th>-4.0.7</th>\n",
       "      <th>-5.0.6</th>\n",
       "      <th>1</th>\n",
       "    </tr>\n",
       "  </thead>\n",
       "  <tbody>\n",
       "    <tr>\n",
       "      <th>0</th>\n",
       "      <td>-6.0</td>\n",
       "      <td>-2.0</td>\n",
       "      <td>-5.0</td>\n",
       "      <td>-2.0</td>\n",
       "      <td>27.0</td>\n",
       "      <td>42.0</td>\n",
       "      <td>3.0</td>\n",
       "      <td>5.0</td>\n",
       "      <td>11.0</td>\n",
       "      <td>1.0</td>\n",
       "      <td>...</td>\n",
       "      <td>2.0</td>\n",
       "      <td>-17.0</td>\n",
       "      <td>-5.0</td>\n",
       "      <td>-7.0</td>\n",
       "      <td>-2.0</td>\n",
       "      <td>15.0</td>\n",
       "      <td>12.0</td>\n",
       "      <td>0.0</td>\n",
       "      <td>-7.0</td>\n",
       "      <td>1</td>\n",
       "    </tr>\n",
       "    <tr>\n",
       "      <th>1</th>\n",
       "      <td>5.0</td>\n",
       "      <td>0.0</td>\n",
       "      <td>-1.0</td>\n",
       "      <td>-2.0</td>\n",
       "      <td>2.0</td>\n",
       "      <td>-9.0</td>\n",
       "      <td>1.0</td>\n",
       "      <td>5.0</td>\n",
       "      <td>1.0</td>\n",
       "      <td>-3.0</td>\n",
       "      <td>...</td>\n",
       "      <td>-11.0</td>\n",
       "      <td>-23.0</td>\n",
       "      <td>1.0</td>\n",
       "      <td>-1.0</td>\n",
       "      <td>-1.0</td>\n",
       "      <td>-23.0</td>\n",
       "      <td>-25.0</td>\n",
       "      <td>2.0</td>\n",
       "      <td>-1.0</td>\n",
       "      <td>1</td>\n",
       "    </tr>\n",
       "    <tr>\n",
       "      <th>2</th>\n",
       "      <td>31.0</td>\n",
       "      <td>4.0</td>\n",
       "      <td>2.0</td>\n",
       "      <td>-2.0</td>\n",
       "      <td>38.0</td>\n",
       "      <td>14.0</td>\n",
       "      <td>2.0</td>\n",
       "      <td>7.0</td>\n",
       "      <td>-2.0</td>\n",
       "      <td>4.0</td>\n",
       "      <td>...</td>\n",
       "      <td>-4.0</td>\n",
       "      <td>13.0</td>\n",
       "      <td>2.0</td>\n",
       "      <td>-1.0</td>\n",
       "      <td>-3.0</td>\n",
       "      <td>-7.0</td>\n",
       "      <td>0.0</td>\n",
       "      <td>-3.0</td>\n",
       "      <td>-2.0</td>\n",
       "      <td>1</td>\n",
       "    </tr>\n",
       "    <tr>\n",
       "      <th>3</th>\n",
       "      <td>-4.0</td>\n",
       "      <td>-4.0</td>\n",
       "      <td>3.0</td>\n",
       "      <td>3.0</td>\n",
       "      <td>-25.0</td>\n",
       "      <td>-46.0</td>\n",
       "      <td>-1.0</td>\n",
       "      <td>3.0</td>\n",
       "      <td>-7.0</td>\n",
       "      <td>-6.0</td>\n",
       "      <td>...</td>\n",
       "      <td>15.0</td>\n",
       "      <td>4.0</td>\n",
       "      <td>-4.0</td>\n",
       "      <td>-1.0</td>\n",
       "      <td>-1.0</td>\n",
       "      <td>7.0</td>\n",
       "      <td>26.0</td>\n",
       "      <td>3.0</td>\n",
       "      <td>-7.0</td>\n",
       "      <td>1</td>\n",
       "    </tr>\n",
       "    <tr>\n",
       "      <th>4</th>\n",
       "      <td>-8.0</td>\n",
       "      <td>-3.0</td>\n",
       "      <td>-1.0</td>\n",
       "      <td>0.0</td>\n",
       "      <td>14.0</td>\n",
       "      <td>5.0</td>\n",
       "      <td>-4.0</td>\n",
       "      <td>-6.0</td>\n",
       "      <td>2.0</td>\n",
       "      <td>0.0</td>\n",
       "      <td>...</td>\n",
       "      <td>-18.0</td>\n",
       "      <td>53.0</td>\n",
       "      <td>8.0</td>\n",
       "      <td>-1.0</td>\n",
       "      <td>-1.0</td>\n",
       "      <td>-2.0</td>\n",
       "      <td>-5.0</td>\n",
       "      <td>-2.0</td>\n",
       "      <td>9.0</td>\n",
       "      <td>1</td>\n",
       "    </tr>\n",
       "  </tbody>\n",
       "</table>\n",
       "<p>5 rows × 65 columns</p>\n",
       "</div>"
      ],
      "text/plain": [
       "   -7.0  -1.0  -1.0.1  0.0  -10.0  -10.0.1  -1.0.2  1.0  -5.0  -5.0.1  ...  \\\n",
       "0  -6.0  -2.0    -5.0 -2.0   27.0     42.0     3.0  5.0  11.0     1.0  ...   \n",
       "1   5.0   0.0    -1.0 -2.0    2.0     -9.0     1.0  5.0   1.0    -3.0  ...   \n",
       "2  31.0   4.0     2.0 -2.0   38.0     14.0     2.0  7.0  -2.0     4.0  ...   \n",
       "3  -4.0  -4.0     3.0  3.0  -25.0    -46.0    -1.0  3.0  -7.0    -6.0  ...   \n",
       "4  -8.0  -3.0    -1.0  0.0   14.0      5.0    -4.0 -6.0   2.0     0.0  ...   \n",
       "\n",
       "   6.0.1  -4.0.6  -3.0.5  -5.0.5  -3.0.6  15.0.1  11.0  -4.0.7  -5.0.6  1  \n",
       "0    2.0   -17.0    -5.0    -7.0    -2.0    15.0  12.0     0.0    -7.0  1  \n",
       "1  -11.0   -23.0     1.0    -1.0    -1.0   -23.0 -25.0     2.0    -1.0  1  \n",
       "2   -4.0    13.0     2.0    -1.0    -3.0    -7.0   0.0    -3.0    -2.0  1  \n",
       "3   15.0     4.0    -4.0    -1.0    -1.0     7.0  26.0     3.0    -7.0  1  \n",
       "4  -18.0    53.0     8.0    -1.0    -1.0    -2.0  -5.0    -2.0     9.0  1  \n",
       "\n",
       "[5 rows x 65 columns]"
      ]
     },
     "execution_count": 61,
     "metadata": {},
     "output_type": "execute_result"
    }
   ],
   "source": [
    "X1.head()"
   ]
  },
  {
   "cell_type": "code",
   "execution_count": 62,
   "metadata": {},
   "outputs": [
    {
     "data": {
      "text/html": [
       "<div>\n",
       "<style scoped>\n",
       "    .dataframe tbody tr th:only-of-type {\n",
       "        vertical-align: middle;\n",
       "    }\n",
       "\n",
       "    .dataframe tbody tr th {\n",
       "        vertical-align: top;\n",
       "    }\n",
       "\n",
       "    .dataframe thead th {\n",
       "        text-align: right;\n",
       "    }\n",
       "</style>\n",
       "<table border=\"1\" class=\"dataframe\">\n",
       "  <thead>\n",
       "    <tr style=\"text-align: right;\">\n",
       "      <th></th>\n",
       "      <th>4.0</th>\n",
       "      <th>19.0</th>\n",
       "      <th>-9.0</th>\n",
       "      <th>-7.0</th>\n",
       "      <th>-3.0</th>\n",
       "      <th>-36.0</th>\n",
       "      <th>-6.0</th>\n",
       "      <th>-23.0</th>\n",
       "      <th>3.0</th>\n",
       "      <th>-21.0</th>\n",
       "      <th>...</th>\n",
       "      <th>9.0</th>\n",
       "      <th>-14.0.1</th>\n",
       "      <th>-2.0.5</th>\n",
       "      <th>-3.0.3</th>\n",
       "      <th>-4.0</th>\n",
       "      <th>-21.0.1</th>\n",
       "      <th>7.0</th>\n",
       "      <th>-8.0.1</th>\n",
       "      <th>-12.0.2</th>\n",
       "      <th>2</th>\n",
       "    </tr>\n",
       "  </thead>\n",
       "  <tbody>\n",
       "    <tr>\n",
       "      <th>0</th>\n",
       "      <td>-1.0</td>\n",
       "      <td>12.0</td>\n",
       "      <td>20.0</td>\n",
       "      <td>7.0</td>\n",
       "      <td>20.0</td>\n",
       "      <td>-73.0</td>\n",
       "      <td>-4.0</td>\n",
       "      <td>-2.0</td>\n",
       "      <td>4.0</td>\n",
       "      <td>5.0</td>\n",
       "      <td>...</td>\n",
       "      <td>-3.0</td>\n",
       "      <td>-5.0</td>\n",
       "      <td>-2.0</td>\n",
       "      <td>0.0</td>\n",
       "      <td>-4.0</td>\n",
       "      <td>-7.0</td>\n",
       "      <td>5.0</td>\n",
       "      <td>6.0</td>\n",
       "      <td>9.0</td>\n",
       "      <td>2</td>\n",
       "    </tr>\n",
       "    <tr>\n",
       "      <th>1</th>\n",
       "      <td>4.0</td>\n",
       "      <td>5.0</td>\n",
       "      <td>-8.0</td>\n",
       "      <td>-2.0</td>\n",
       "      <td>10.0</td>\n",
       "      <td>-10.0</td>\n",
       "      <td>-10.0</td>\n",
       "      <td>16.0</td>\n",
       "      <td>-3.0</td>\n",
       "      <td>-18.0</td>\n",
       "      <td>...</td>\n",
       "      <td>2.0</td>\n",
       "      <td>0.0</td>\n",
       "      <td>2.0</td>\n",
       "      <td>3.0</td>\n",
       "      <td>-8.0</td>\n",
       "      <td>19.0</td>\n",
       "      <td>20.0</td>\n",
       "      <td>0.0</td>\n",
       "      <td>-8.0</td>\n",
       "      <td>2</td>\n",
       "    </tr>\n",
       "    <tr>\n",
       "      <th>2</th>\n",
       "      <td>-3.0</td>\n",
       "      <td>-3.0</td>\n",
       "      <td>5.0</td>\n",
       "      <td>11.0</td>\n",
       "      <td>25.0</td>\n",
       "      <td>-20.0</td>\n",
       "      <td>-2.0</td>\n",
       "      <td>14.0</td>\n",
       "      <td>9.0</td>\n",
       "      <td>32.0</td>\n",
       "      <td>...</td>\n",
       "      <td>15.0</td>\n",
       "      <td>-2.0</td>\n",
       "      <td>16.0</td>\n",
       "      <td>6.0</td>\n",
       "      <td>9.0</td>\n",
       "      <td>1.0</td>\n",
       "      <td>31.0</td>\n",
       "      <td>16.0</td>\n",
       "      <td>4.0</td>\n",
       "      <td>2</td>\n",
       "    </tr>\n",
       "    <tr>\n",
       "      <th>3</th>\n",
       "      <td>-5.0</td>\n",
       "      <td>-9.0</td>\n",
       "      <td>-2.0</td>\n",
       "      <td>-5.0</td>\n",
       "      <td>-46.0</td>\n",
       "      <td>-34.0</td>\n",
       "      <td>-9.0</td>\n",
       "      <td>-4.0</td>\n",
       "      <td>0.0</td>\n",
       "      <td>8.0</td>\n",
       "      <td>...</td>\n",
       "      <td>-5.0</td>\n",
       "      <td>-11.0</td>\n",
       "      <td>-6.0</td>\n",
       "      <td>7.0</td>\n",
       "      <td>6.0</td>\n",
       "      <td>-10.0</td>\n",
       "      <td>-24.0</td>\n",
       "      <td>-6.0</td>\n",
       "      <td>0.0</td>\n",
       "      <td>2</td>\n",
       "    </tr>\n",
       "    <tr>\n",
       "      <th>4</th>\n",
       "      <td>3.0</td>\n",
       "      <td>-3.0</td>\n",
       "      <td>-6.0</td>\n",
       "      <td>-5.0</td>\n",
       "      <td>-3.0</td>\n",
       "      <td>-4.0</td>\n",
       "      <td>-5.0</td>\n",
       "      <td>-4.0</td>\n",
       "      <td>-5.0</td>\n",
       "      <td>8.0</td>\n",
       "      <td>...</td>\n",
       "      <td>-18.0</td>\n",
       "      <td>-14.0</td>\n",
       "      <td>8.0</td>\n",
       "      <td>1.0</td>\n",
       "      <td>-2.0</td>\n",
       "      <td>-4.0</td>\n",
       "      <td>-34.0</td>\n",
       "      <td>-3.0</td>\n",
       "      <td>6.0</td>\n",
       "      <td>2</td>\n",
       "    </tr>\n",
       "  </tbody>\n",
       "</table>\n",
       "<p>5 rows × 65 columns</p>\n",
       "</div>"
      ],
      "text/plain": [
       "   4.0  19.0  -9.0  -7.0  -3.0  -36.0  -6.0  -23.0  3.0  -21.0  ...   9.0  \\\n",
       "0 -1.0  12.0  20.0   7.0  20.0  -73.0  -4.0   -2.0  4.0    5.0  ...  -3.0   \n",
       "1  4.0   5.0  -8.0  -2.0  10.0  -10.0 -10.0   16.0 -3.0  -18.0  ...   2.0   \n",
       "2 -3.0  -3.0   5.0  11.0  25.0  -20.0  -2.0   14.0  9.0   32.0  ...  15.0   \n",
       "3 -5.0  -9.0  -2.0  -5.0 -46.0  -34.0  -9.0   -4.0  0.0    8.0  ...  -5.0   \n",
       "4  3.0  -3.0  -6.0  -5.0  -3.0   -4.0  -5.0   -4.0 -5.0    8.0  ... -18.0   \n",
       "\n",
       "   -14.0.1  -2.0.5  -3.0.3  -4.0  -21.0.1   7.0  -8.0.1  -12.0.2  2  \n",
       "0     -5.0    -2.0     0.0  -4.0     -7.0   5.0     6.0      9.0  2  \n",
       "1      0.0     2.0     3.0  -8.0     19.0  20.0     0.0     -8.0  2  \n",
       "2     -2.0    16.0     6.0   9.0      1.0  31.0    16.0      4.0  2  \n",
       "3    -11.0    -6.0     7.0   6.0    -10.0 -24.0    -6.0      0.0  2  \n",
       "4    -14.0     8.0     1.0  -2.0     -4.0 -34.0    -3.0      6.0  2  \n",
       "\n",
       "[5 rows x 65 columns]"
      ]
     },
     "execution_count": 62,
     "metadata": {},
     "output_type": "execute_result"
    }
   ],
   "source": [
    "X2.head()"
   ]
  },
  {
   "cell_type": "code",
   "execution_count": 63,
   "metadata": {},
   "outputs": [
    {
     "data": {
      "text/html": [
       "<div>\n",
       "<style scoped>\n",
       "    .dataframe tbody tr th:only-of-type {\n",
       "        vertical-align: middle;\n",
       "    }\n",
       "\n",
       "    .dataframe tbody tr th {\n",
       "        vertical-align: top;\n",
       "    }\n",
       "\n",
       "    .dataframe thead th {\n",
       "        text-align: right;\n",
       "    }\n",
       "</style>\n",
       "<table border=\"1\" class=\"dataframe\">\n",
       "  <thead>\n",
       "    <tr style=\"text-align: right;\">\n",
       "      <th></th>\n",
       "      <th>-22.0</th>\n",
       "      <th>-9.0</th>\n",
       "      <th>-6.0</th>\n",
       "      <th>-1.0</th>\n",
       "      <th>21.0</th>\n",
       "      <th>26.0</th>\n",
       "      <th>-2.0</th>\n",
       "      <th>5.0</th>\n",
       "      <th>5.0.1</th>\n",
       "      <th>0.0</th>\n",
       "      <th>...</th>\n",
       "      <th>-10.0</th>\n",
       "      <th>-15.0.1</th>\n",
       "      <th>-6.0.3</th>\n",
       "      <th>-3.0.4</th>\n",
       "      <th>3.0.1</th>\n",
       "      <th>20.0</th>\n",
       "      <th>25.0</th>\n",
       "      <th>1.0.5</th>\n",
       "      <th>1.0.6</th>\n",
       "      <th>3</th>\n",
       "    </tr>\n",
       "  </thead>\n",
       "  <tbody>\n",
       "    <tr>\n",
       "      <th>0</th>\n",
       "      <td>-7.0</td>\n",
       "      <td>0.0</td>\n",
       "      <td>1.0</td>\n",
       "      <td>0.0</td>\n",
       "      <td>-13.0</td>\n",
       "      <td>-18.0</td>\n",
       "      <td>0.0</td>\n",
       "      <td>-9.0</td>\n",
       "      <td>-6.0</td>\n",
       "      <td>-2.0</td>\n",
       "      <td>...</td>\n",
       "      <td>-1.0</td>\n",
       "      <td>11.0</td>\n",
       "      <td>-4.0</td>\n",
       "      <td>-5.0</td>\n",
       "      <td>-4.0</td>\n",
       "      <td>3.0</td>\n",
       "      <td>-8.0</td>\n",
       "      <td>-7.0</td>\n",
       "      <td>-3.0</td>\n",
       "      <td>3</td>\n",
       "    </tr>\n",
       "    <tr>\n",
       "      <th>1</th>\n",
       "      <td>-6.0</td>\n",
       "      <td>-6.0</td>\n",
       "      <td>-6.0</td>\n",
       "      <td>-8.0</td>\n",
       "      <td>25.0</td>\n",
       "      <td>43.0</td>\n",
       "      <td>-4.0</td>\n",
       "      <td>7.0</td>\n",
       "      <td>6.0</td>\n",
       "      <td>1.0</td>\n",
       "      <td>...</td>\n",
       "      <td>3.0</td>\n",
       "      <td>2.0</td>\n",
       "      <td>1.0</td>\n",
       "      <td>3.0</td>\n",
       "      <td>-1.0</td>\n",
       "      <td>1.0</td>\n",
       "      <td>9.0</td>\n",
       "      <td>4.0</td>\n",
       "      <td>4.0</td>\n",
       "      <td>3</td>\n",
       "    </tr>\n",
       "    <tr>\n",
       "      <th>2</th>\n",
       "      <td>2.0</td>\n",
       "      <td>1.0</td>\n",
       "      <td>1.0</td>\n",
       "      <td>1.0</td>\n",
       "      <td>0.0</td>\n",
       "      <td>-23.0</td>\n",
       "      <td>2.0</td>\n",
       "      <td>-6.0</td>\n",
       "      <td>-1.0</td>\n",
       "      <td>-2.0</td>\n",
       "      <td>...</td>\n",
       "      <td>16.0</td>\n",
       "      <td>-3.0</td>\n",
       "      <td>-1.0</td>\n",
       "      <td>-1.0</td>\n",
       "      <td>-3.0</td>\n",
       "      <td>0.0</td>\n",
       "      <td>-3.0</td>\n",
       "      <td>4.0</td>\n",
       "      <td>3.0</td>\n",
       "      <td>3</td>\n",
       "    </tr>\n",
       "    <tr>\n",
       "      <th>3</th>\n",
       "      <td>0.0</td>\n",
       "      <td>3.0</td>\n",
       "      <td>4.0</td>\n",
       "      <td>5.0</td>\n",
       "      <td>1.0</td>\n",
       "      <td>25.0</td>\n",
       "      <td>-9.0</td>\n",
       "      <td>0.0</td>\n",
       "      <td>0.0</td>\n",
       "      <td>1.0</td>\n",
       "      <td>...</td>\n",
       "      <td>1.0</td>\n",
       "      <td>6.0</td>\n",
       "      <td>2.0</td>\n",
       "      <td>1.0</td>\n",
       "      <td>-3.0</td>\n",
       "      <td>-20.0</td>\n",
       "      <td>-42.0</td>\n",
       "      <td>-4.0</td>\n",
       "      <td>2.0</td>\n",
       "      <td>3</td>\n",
       "    </tr>\n",
       "    <tr>\n",
       "      <th>4</th>\n",
       "      <td>-11.0</td>\n",
       "      <td>-2.0</td>\n",
       "      <td>-5.0</td>\n",
       "      <td>1.0</td>\n",
       "      <td>-7.0</td>\n",
       "      <td>-11.0</td>\n",
       "      <td>-4.0</td>\n",
       "      <td>-23.0</td>\n",
       "      <td>-9.0</td>\n",
       "      <td>0.0</td>\n",
       "      <td>...</td>\n",
       "      <td>-4.0</td>\n",
       "      <td>9.0</td>\n",
       "      <td>1.0</td>\n",
       "      <td>2.0</td>\n",
       "      <td>8.0</td>\n",
       "      <td>21.0</td>\n",
       "      <td>41.0</td>\n",
       "      <td>15.0</td>\n",
       "      <td>9.0</td>\n",
       "      <td>3</td>\n",
       "    </tr>\n",
       "  </tbody>\n",
       "</table>\n",
       "<p>5 rows × 65 columns</p>\n",
       "</div>"
      ],
      "text/plain": [
       "   -22.0  -9.0  -6.0  -1.0  21.0  26.0  -2.0   5.0  5.0.1  0.0  ...  -10.0  \\\n",
       "0   -7.0   0.0   1.0   0.0 -13.0 -18.0   0.0  -9.0   -6.0 -2.0  ...   -1.0   \n",
       "1   -6.0  -6.0  -6.0  -8.0  25.0  43.0  -4.0   7.0    6.0  1.0  ...    3.0   \n",
       "2    2.0   1.0   1.0   1.0   0.0 -23.0   2.0  -6.0   -1.0 -2.0  ...   16.0   \n",
       "3    0.0   3.0   4.0   5.0   1.0  25.0  -9.0   0.0    0.0  1.0  ...    1.0   \n",
       "4  -11.0  -2.0  -5.0   1.0  -7.0 -11.0  -4.0 -23.0   -9.0  0.0  ...   -4.0   \n",
       "\n",
       "   -15.0.1  -6.0.3  -3.0.4  3.0.1  20.0  25.0  1.0.5  1.0.6  3  \n",
       "0     11.0    -4.0    -5.0   -4.0   3.0  -8.0   -7.0   -3.0  3  \n",
       "1      2.0     1.0     3.0   -1.0   1.0   9.0    4.0    4.0  3  \n",
       "2     -3.0    -1.0    -1.0   -3.0   0.0  -3.0    4.0    3.0  3  \n",
       "3      6.0     2.0     1.0   -3.0 -20.0 -42.0   -4.0    2.0  3  \n",
       "4      9.0     1.0     2.0    8.0  21.0  41.0   15.0    9.0  3  \n",
       "\n",
       "[5 rows x 65 columns]"
      ]
     },
     "execution_count": 63,
     "metadata": {},
     "output_type": "execute_result"
    }
   ],
   "source": [
    "X3.head()"
   ]
  },
  {
   "attachments": {},
   "cell_type": "markdown",
   "metadata": {},
   "source": [
    "Como habíamos comentado, cada dataset tiene 2900 filas, 8 columnas de sensores y una columna de gesto. En este caso, los gestos están codificados como 0, 1, 2 y 3 para piedra, tijeras, papel y okay respectivamente. En el resto de columnas podemos ver datos numéricos que representan la actividad muscular en cada sensor."
   ]
  },
  {
   "cell_type": "code",
   "execution_count": 64,
   "metadata": {},
   "outputs": [
    {
     "name": "stdout",
     "output_type": "stream",
     "text": [
      "(2909, 65) (2902, 65) (2942, 65) (2921, 65)\n"
     ]
    }
   ],
   "source": [
    "print(X0.shape, X1.shape, X2.shape, X3.shape)"
   ]
  },
  {
   "attachments": {},
   "cell_type": "markdown",
   "metadata": {},
   "source": [
    "Como podemos hay más o menos el mismo número de gestos de cada tipo y el mismo número de medidas. Igualmente nos encargaremos del desbalanceo de clases para obtener mejores resultados."
   ]
  },
  {
   "attachments": {},
   "cell_type": "markdown",
   "metadata": {},
   "source": [
    "A continuación vamos a comprobar si para cada archivo está correctamente clasificada su clase:"
   ]
  },
  {
   "cell_type": "code",
   "execution_count": 65,
   "metadata": {},
   "outputs": [
    {
     "data": {
      "text/plain": [
       "(0    2909\n",
       " Name: 0, dtype: int64,\n",
       " 1    2902\n",
       " Name: 1, dtype: int64,\n",
       " 2    2942\n",
       " Name: 2, dtype: int64,\n",
       " 3    2921\n",
       " Name: 3, dtype: int64)"
      ]
     },
     "execution_count": 65,
     "metadata": {},
     "output_type": "execute_result"
    }
   ],
   "source": [
    "X0.iloc[:,-1].value_counts(), X1.iloc[:,-1].value_counts(), X2.iloc[:,-1].value_counts(), X3.iloc[:,-1].value_counts()"
   ]
  },
  {
   "attachments": {},
   "cell_type": "markdown",
   "metadata": {},
   "source": [
    "Comprobaremos también que no hay valores nulos en los datasets:"
   ]
  },
  {
   "cell_type": "code",
   "execution_count": 66,
   "metadata": {},
   "outputs": [
    {
     "data": {
      "text/plain": [
       "(0, 0, 0, 0)"
      ]
     },
     "execution_count": 66,
     "metadata": {},
     "output_type": "execute_result"
    }
   ],
   "source": [
    "X0.isna().sum().sum(), X1.isna().sum().sum(), X2.isna().sum().sum(), X3.isna().sum().sum()"
   ]
  },
  {
   "attachments": {},
   "cell_type": "markdown",
   "metadata": {},
   "source": [
    "Ahora que hemos comprobado que los datos están bien clasificados y no hay valores nulos, vamos a unir los 4 datasets en uno solo para poder trabajar con todos los datos a la vez:"
   ]
  },
  {
   "cell_type": "code",
   "execution_count": 67,
   "metadata": {},
   "outputs": [],
   "source": [
    "allFiles=['0.csv','1.csv','2.csv','3.csv']\n",
    "\n",
    "list = []\n",
    "for file in allFiles:\n",
    "    read = pd.read_csv(file, header = None)\n",
    "    list.append(read)\n",
    "data = pd.concat(list)\n"
   ]
  },
  {
   "cell_type": "code",
   "execution_count": 68,
   "metadata": {},
   "outputs": [
    {
     "data": {
      "text/html": [
       "<div>\n",
       "<style scoped>\n",
       "    .dataframe tbody tr th:only-of-type {\n",
       "        vertical-align: middle;\n",
       "    }\n",
       "\n",
       "    .dataframe tbody tr th {\n",
       "        vertical-align: top;\n",
       "    }\n",
       "\n",
       "    .dataframe thead th {\n",
       "        text-align: right;\n",
       "    }\n",
       "</style>\n",
       "<table border=\"1\" class=\"dataframe\">\n",
       "  <thead>\n",
       "    <tr style=\"text-align: right;\">\n",
       "      <th></th>\n",
       "      <th>0</th>\n",
       "      <th>1</th>\n",
       "      <th>2</th>\n",
       "      <th>3</th>\n",
       "      <th>4</th>\n",
       "      <th>5</th>\n",
       "      <th>6</th>\n",
       "      <th>7</th>\n",
       "      <th>8</th>\n",
       "      <th>9</th>\n",
       "      <th>...</th>\n",
       "      <th>55</th>\n",
       "      <th>56</th>\n",
       "      <th>57</th>\n",
       "      <th>58</th>\n",
       "      <th>59</th>\n",
       "      <th>60</th>\n",
       "      <th>61</th>\n",
       "      <th>62</th>\n",
       "      <th>63</th>\n",
       "      <th>64</th>\n",
       "    </tr>\n",
       "  </thead>\n",
       "  <tbody>\n",
       "    <tr>\n",
       "      <th>0</th>\n",
       "      <td>26.0</td>\n",
       "      <td>4.0</td>\n",
       "      <td>5.0</td>\n",
       "      <td>8.0</td>\n",
       "      <td>-1.0</td>\n",
       "      <td>-13.0</td>\n",
       "      <td>-109.0</td>\n",
       "      <td>-66.0</td>\n",
       "      <td>-9.0</td>\n",
       "      <td>2.0</td>\n",
       "      <td>...</td>\n",
       "      <td>-28.0</td>\n",
       "      <td>61.0</td>\n",
       "      <td>4.0</td>\n",
       "      <td>8.0</td>\n",
       "      <td>5.0</td>\n",
       "      <td>4.0</td>\n",
       "      <td>-7.0</td>\n",
       "      <td>-59.0</td>\n",
       "      <td>16.0</td>\n",
       "      <td>0</td>\n",
       "    </tr>\n",
       "    <tr>\n",
       "      <th>1</th>\n",
       "      <td>-47.0</td>\n",
       "      <td>-6.0</td>\n",
       "      <td>-5.0</td>\n",
       "      <td>-7.0</td>\n",
       "      <td>13.0</td>\n",
       "      <td>-1.0</td>\n",
       "      <td>35.0</td>\n",
       "      <td>-10.0</td>\n",
       "      <td>10.0</td>\n",
       "      <td>-4.0</td>\n",
       "      <td>...</td>\n",
       "      <td>-25.0</td>\n",
       "      <td>47.0</td>\n",
       "      <td>6.0</td>\n",
       "      <td>6.0</td>\n",
       "      <td>5.0</td>\n",
       "      <td>13.0</td>\n",
       "      <td>21.0</td>\n",
       "      <td>111.0</td>\n",
       "      <td>15.0</td>\n",
       "      <td>0</td>\n",
       "    </tr>\n",
       "    <tr>\n",
       "      <th>2</th>\n",
       "      <td>-19.0</td>\n",
       "      <td>-8.0</td>\n",
       "      <td>-8.0</td>\n",
       "      <td>-8.0</td>\n",
       "      <td>-21.0</td>\n",
       "      <td>-6.0</td>\n",
       "      <td>-79.0</td>\n",
       "      <td>12.0</td>\n",
       "      <td>0.0</td>\n",
       "      <td>5.0</td>\n",
       "      <td>...</td>\n",
       "      <td>-83.0</td>\n",
       "      <td>7.0</td>\n",
       "      <td>7.0</td>\n",
       "      <td>1.0</td>\n",
       "      <td>-8.0</td>\n",
       "      <td>7.0</td>\n",
       "      <td>21.0</td>\n",
       "      <td>114.0</td>\n",
       "      <td>48.0</td>\n",
       "      <td>0</td>\n",
       "    </tr>\n",
       "    <tr>\n",
       "      <th>3</th>\n",
       "      <td>2.0</td>\n",
       "      <td>3.0</td>\n",
       "      <td>0.0</td>\n",
       "      <td>2.0</td>\n",
       "      <td>0.0</td>\n",
       "      <td>22.0</td>\n",
       "      <td>106.0</td>\n",
       "      <td>-14.0</td>\n",
       "      <td>-16.0</td>\n",
       "      <td>-2.0</td>\n",
       "      <td>...</td>\n",
       "      <td>-38.0</td>\n",
       "      <td>-11.0</td>\n",
       "      <td>4.0</td>\n",
       "      <td>7.0</td>\n",
       "      <td>11.0</td>\n",
       "      <td>33.0</td>\n",
       "      <td>39.0</td>\n",
       "      <td>119.0</td>\n",
       "      <td>43.0</td>\n",
       "      <td>0</td>\n",
       "    </tr>\n",
       "    <tr>\n",
       "      <th>4</th>\n",
       "      <td>6.0</td>\n",
       "      <td>0.0</td>\n",
       "      <td>0.0</td>\n",
       "      <td>-2.0</td>\n",
       "      <td>-14.0</td>\n",
       "      <td>10.0</td>\n",
       "      <td>-51.0</td>\n",
       "      <td>5.0</td>\n",
       "      <td>7.0</td>\n",
       "      <td>0.0</td>\n",
       "      <td>...</td>\n",
       "      <td>38.0</td>\n",
       "      <td>-35.0</td>\n",
       "      <td>-8.0</td>\n",
       "      <td>2.0</td>\n",
       "      <td>6.0</td>\n",
       "      <td>-13.0</td>\n",
       "      <td>-24.0</td>\n",
       "      <td>-112.0</td>\n",
       "      <td>-69.0</td>\n",
       "      <td>0</td>\n",
       "    </tr>\n",
       "  </tbody>\n",
       "</table>\n",
       "<p>5 rows × 65 columns</p>\n",
       "</div>"
      ],
      "text/plain": [
       "     0    1    2    3     4     5      6     7     8    9   ...    55    56  \\\n",
       "0  26.0  4.0  5.0  8.0  -1.0 -13.0 -109.0 -66.0  -9.0  2.0  ... -28.0  61.0   \n",
       "1 -47.0 -6.0 -5.0 -7.0  13.0  -1.0   35.0 -10.0  10.0 -4.0  ... -25.0  47.0   \n",
       "2 -19.0 -8.0 -8.0 -8.0 -21.0  -6.0  -79.0  12.0   0.0  5.0  ... -83.0   7.0   \n",
       "3   2.0  3.0  0.0  2.0   0.0  22.0  106.0 -14.0 -16.0 -2.0  ... -38.0 -11.0   \n",
       "4   6.0  0.0  0.0 -2.0 -14.0  10.0  -51.0   5.0   7.0  0.0  ...  38.0 -35.0   \n",
       "\n",
       "    57   58    59    60    61     62    63  64  \n",
       "0  4.0  8.0   5.0   4.0  -7.0  -59.0  16.0   0  \n",
       "1  6.0  6.0   5.0  13.0  21.0  111.0  15.0   0  \n",
       "2  7.0  1.0  -8.0   7.0  21.0  114.0  48.0   0  \n",
       "3  4.0  7.0  11.0  33.0  39.0  119.0  43.0   0  \n",
       "4 -8.0  2.0   6.0 -13.0 -24.0 -112.0 -69.0   0  \n",
       "\n",
       "[5 rows x 65 columns]"
      ]
     },
     "execution_count": 68,
     "metadata": {},
     "output_type": "execute_result"
    }
   ],
   "source": [
    "data.head()"
   ]
  },
  {
   "attachments": {},
   "cell_type": "markdown",
   "metadata": {},
   "source": [
    "Por otro lado podemos ver como los rangos de los datos son relativamente diferentes, por lo que tendremos que normalizarlos para que no haya problemas a la hora de entrenar los modelos."
   ]
  },
  {
   "cell_type": "code",
   "execution_count": 69,
   "metadata": {},
   "outputs": [],
   "source": [
    "def min_max_scale(X):\n",
    "    x = X.iloc[:, :-1].values\n",
    "    min_max_scaler = preprocessing.MinMaxScaler()\n",
    "    x_scaled = min_max_scaler.fit_transform(x)\n",
    "    df_scaled = pd.DataFrame(x_scaled, columns=X.columns[:-1]) #La columna de la clase no se escala\n",
    "    df_scaled[X.columns[-1]] = X[X.columns[-1]].values\n",
    "    return df_scaled"
   ]
  },
  {
   "cell_type": "code",
   "execution_count": 70,
   "metadata": {},
   "outputs": [],
   "source": [
    "X_scal = min_max_scale(data)"
   ]
  },
  {
   "attachments": {},
   "cell_type": "markdown",
   "metadata": {},
   "source": [
    "## 3. Dataset final <a class=\"anchor\" id=\"Dataset-final\"></a>"
   ]
  },
  {
   "attachments": {},
   "cell_type": "markdown",
   "metadata": {},
   "source": [
    "El dataset final que vamos a utilizar para entrenar los modelos es el siguiente:"
   ]
  },
  {
   "cell_type": "code",
   "execution_count": 71,
   "metadata": {},
   "outputs": [
    {
     "data": {
      "text/html": [
       "<div>\n",
       "<style scoped>\n",
       "    .dataframe tbody tr th:only-of-type {\n",
       "        vertical-align: middle;\n",
       "    }\n",
       "\n",
       "    .dataframe tbody tr th {\n",
       "        vertical-align: top;\n",
       "    }\n",
       "\n",
       "    .dataframe thead th {\n",
       "        text-align: right;\n",
       "    }\n",
       "</style>\n",
       "<table border=\"1\" class=\"dataframe\">\n",
       "  <thead>\n",
       "    <tr style=\"text-align: right;\">\n",
       "      <th></th>\n",
       "      <th>0</th>\n",
       "      <th>1</th>\n",
       "      <th>2</th>\n",
       "      <th>3</th>\n",
       "      <th>4</th>\n",
       "      <th>5</th>\n",
       "      <th>6</th>\n",
       "      <th>7</th>\n",
       "      <th>8</th>\n",
       "      <th>9</th>\n",
       "      <th>...</th>\n",
       "      <th>55</th>\n",
       "      <th>56</th>\n",
       "      <th>57</th>\n",
       "      <th>58</th>\n",
       "      <th>59</th>\n",
       "      <th>60</th>\n",
       "      <th>61</th>\n",
       "      <th>62</th>\n",
       "      <th>63</th>\n",
       "      <th>64</th>\n",
       "    </tr>\n",
       "  </thead>\n",
       "  <tbody>\n",
       "    <tr>\n",
       "      <th>0</th>\n",
       "      <td>0.625551</td>\n",
       "      <td>0.556701</td>\n",
       "      <td>0.567164</td>\n",
       "      <td>0.638462</td>\n",
       "      <td>0.563380</td>\n",
       "      <td>0.437751</td>\n",
       "      <td>0.074510</td>\n",
       "      <td>0.244094</td>\n",
       "      <td>0.426160</td>\n",
       "      <td>0.555556</td>\n",
       "      <td>...</td>\n",
       "      <td>0.413223</td>\n",
       "      <td>0.728395</td>\n",
       "      <td>0.566524</td>\n",
       "      <td>0.720000</td>\n",
       "      <td>0.632</td>\n",
       "      <td>0.502347</td>\n",
       "      <td>0.474510</td>\n",
       "      <td>0.270588</td>\n",
       "      <td>0.557769</td>\n",
       "      <td>0</td>\n",
       "    </tr>\n",
       "    <tr>\n",
       "      <th>1</th>\n",
       "      <td>0.303965</td>\n",
       "      <td>0.505155</td>\n",
       "      <td>0.417910</td>\n",
       "      <td>0.523077</td>\n",
       "      <td>0.629108</td>\n",
       "      <td>0.485944</td>\n",
       "      <td>0.639216</td>\n",
       "      <td>0.464567</td>\n",
       "      <td>0.506329</td>\n",
       "      <td>0.529915</td>\n",
       "      <td>...</td>\n",
       "      <td>0.425620</td>\n",
       "      <td>0.670782</td>\n",
       "      <td>0.575107</td>\n",
       "      <td>0.693333</td>\n",
       "      <td>0.632</td>\n",
       "      <td>0.544601</td>\n",
       "      <td>0.584314</td>\n",
       "      <td>0.937255</td>\n",
       "      <td>0.553785</td>\n",
       "      <td>0</td>\n",
       "    </tr>\n",
       "    <tr>\n",
       "      <th>2</th>\n",
       "      <td>0.427313</td>\n",
       "      <td>0.494845</td>\n",
       "      <td>0.373134</td>\n",
       "      <td>0.515385</td>\n",
       "      <td>0.469484</td>\n",
       "      <td>0.465863</td>\n",
       "      <td>0.192157</td>\n",
       "      <td>0.551181</td>\n",
       "      <td>0.464135</td>\n",
       "      <td>0.568376</td>\n",
       "      <td>...</td>\n",
       "      <td>0.185950</td>\n",
       "      <td>0.506173</td>\n",
       "      <td>0.579399</td>\n",
       "      <td>0.626667</td>\n",
       "      <td>0.528</td>\n",
       "      <td>0.516432</td>\n",
       "      <td>0.584314</td>\n",
       "      <td>0.949020</td>\n",
       "      <td>0.685259</td>\n",
       "      <td>0</td>\n",
       "    </tr>\n",
       "    <tr>\n",
       "      <th>3</th>\n",
       "      <td>0.519824</td>\n",
       "      <td>0.551546</td>\n",
       "      <td>0.492537</td>\n",
       "      <td>0.592308</td>\n",
       "      <td>0.568075</td>\n",
       "      <td>0.578313</td>\n",
       "      <td>0.917647</td>\n",
       "      <td>0.448819</td>\n",
       "      <td>0.396624</td>\n",
       "      <td>0.538462</td>\n",
       "      <td>...</td>\n",
       "      <td>0.371901</td>\n",
       "      <td>0.432099</td>\n",
       "      <td>0.566524</td>\n",
       "      <td>0.706667</td>\n",
       "      <td>0.680</td>\n",
       "      <td>0.638498</td>\n",
       "      <td>0.654902</td>\n",
       "      <td>0.968627</td>\n",
       "      <td>0.665339</td>\n",
       "      <td>0</td>\n",
       "    </tr>\n",
       "    <tr>\n",
       "      <th>4</th>\n",
       "      <td>0.537445</td>\n",
       "      <td>0.536082</td>\n",
       "      <td>0.492537</td>\n",
       "      <td>0.561538</td>\n",
       "      <td>0.502347</td>\n",
       "      <td>0.530120</td>\n",
       "      <td>0.301961</td>\n",
       "      <td>0.523622</td>\n",
       "      <td>0.493671</td>\n",
       "      <td>0.547009</td>\n",
       "      <td>...</td>\n",
       "      <td>0.685950</td>\n",
       "      <td>0.333333</td>\n",
       "      <td>0.515021</td>\n",
       "      <td>0.640000</td>\n",
       "      <td>0.640</td>\n",
       "      <td>0.422535</td>\n",
       "      <td>0.407843</td>\n",
       "      <td>0.062745</td>\n",
       "      <td>0.219124</td>\n",
       "      <td>0</td>\n",
       "    </tr>\n",
       "  </tbody>\n",
       "</table>\n",
       "<p>5 rows × 65 columns</p>\n",
       "</div>"
      ],
      "text/plain": [
       "         0         1         2         3         4         5         6   \\\n",
       "0  0.625551  0.556701  0.567164  0.638462  0.563380  0.437751  0.074510   \n",
       "1  0.303965  0.505155  0.417910  0.523077  0.629108  0.485944  0.639216   \n",
       "2  0.427313  0.494845  0.373134  0.515385  0.469484  0.465863  0.192157   \n",
       "3  0.519824  0.551546  0.492537  0.592308  0.568075  0.578313  0.917647   \n",
       "4  0.537445  0.536082  0.492537  0.561538  0.502347  0.530120  0.301961   \n",
       "\n",
       "         7         8         9   ...        55        56        57        58  \\\n",
       "0  0.244094  0.426160  0.555556  ...  0.413223  0.728395  0.566524  0.720000   \n",
       "1  0.464567  0.506329  0.529915  ...  0.425620  0.670782  0.575107  0.693333   \n",
       "2  0.551181  0.464135  0.568376  ...  0.185950  0.506173  0.579399  0.626667   \n",
       "3  0.448819  0.396624  0.538462  ...  0.371901  0.432099  0.566524  0.706667   \n",
       "4  0.523622  0.493671  0.547009  ...  0.685950  0.333333  0.515021  0.640000   \n",
       "\n",
       "      59        60        61        62        63  64  \n",
       "0  0.632  0.502347  0.474510  0.270588  0.557769   0  \n",
       "1  0.632  0.544601  0.584314  0.937255  0.553785   0  \n",
       "2  0.528  0.516432  0.584314  0.949020  0.685259   0  \n",
       "3  0.680  0.638498  0.654902  0.968627  0.665339   0  \n",
       "4  0.640  0.422535  0.407843  0.062745  0.219124   0  \n",
       "\n",
       "[5 rows x 65 columns]"
      ]
     },
     "execution_count": 71,
     "metadata": {},
     "output_type": "execute_result"
    }
   ],
   "source": [
    "X_scal.head()"
   ]
  },
  {
   "cell_type": "code",
   "execution_count": 72,
   "metadata": {},
   "outputs": [
    {
     "data": {
      "text/plain": [
       "(11678, 65)"
      ]
     },
     "execution_count": 72,
     "metadata": {},
     "output_type": "execute_result"
    }
   ],
   "source": [
    "X_scal.shape"
   ]
  },
  {
   "attachments": {},
   "cell_type": "markdown",
   "metadata": {},
   "source": [
    "Es decir 11678 filas y 65 columnas."
   ]
  },
  {
   "cell_type": "code",
   "execution_count": 73,
   "metadata": {},
   "outputs": [
    {
     "data": {
      "text/plain": [
       "2    2943\n",
       "3    2922\n",
       "0    2910\n",
       "1    2903\n",
       "Name: 64, dtype: int64"
      ]
     },
     "execution_count": 73,
     "metadata": {},
     "output_type": "execute_result"
    }
   ],
   "source": [
    "X_scal.iloc[:,-1].value_counts()"
   ]
  },
  {
   "attachments": {},
   "cell_type": "markdown",
   "metadata": {},
   "source": [
    "## 4. Separación en entrenamiento, validación y test <a class=\"anchor\" id=\"Separación-en-entrenamiento,-validación-y-test\"></a>"
   ]
  },
  {
   "attachments": {},
   "cell_type": "markdown",
   "metadata": {},
   "source": [
    "Deberemos dividir de manera distinta para los modelos de clasificación y los de regresión. Para los modelos de clasificación, dividiremos en entrenamiento, validación y test, mientras que para los de regresión, dividiremos en entrenamiento y test. Además para el de regresión usaremos dos el dataset de piedra y el de papel de manera que haya dos posibles salidas y podamos aplicar la función sigmoide para calcular la probabilidad de que sea una u otra, mientras que para el de clasificación usaremos todos los gestos."
   ]
  },
  {
   "attachments": {},
   "cell_type": "markdown",
   "metadata": {},
   "source": [
    "#### Regresión"
   ]
  },
  {
   "attachments": {},
   "cell_type": "markdown",
   "metadata": {},
   "source": [
    "Primero sacaremos los datos de piedra y papel para el modelo de regresión:"
   ]
  },
  {
   "cell_type": "code",
   "execution_count": 74,
   "metadata": {},
   "outputs": [],
   "source": [
    "allFiles=['0.csv','1.csv']\n",
    "\n",
    "list = []\n",
    "for file in allFiles:\n",
    "    read = pd.read_csv(file, header = None)\n",
    "    list.append(read)\n",
    "data_reg = pd.concat(list)"
   ]
  },
  {
   "attachments": {},
   "cell_type": "markdown",
   "metadata": {},
   "source": [
    "Los normalizamos:"
   ]
  },
  {
   "cell_type": "code",
   "execution_count": 75,
   "metadata": {},
   "outputs": [],
   "source": [
    "X_reg_scal = min_max_scale(data_reg)"
   ]
  },
  {
   "cell_type": "code",
   "execution_count": 76,
   "metadata": {},
   "outputs": [],
   "source": [
    "X_R = X_reg_scal.iloc[:, :-1].values\n",
    "y_R = X_reg_scal.iloc[:, -1].values"
   ]
  },
  {
   "attachments": {},
   "cell_type": "markdown",
   "metadata": {},
   "source": [
    "Y los dividimos en entrenamiento y test (80-20):"
   ]
  },
  {
   "cell_type": "code",
   "execution_count": 77,
   "metadata": {},
   "outputs": [],
   "source": [
    "X_trainR, X_testR, y_trainR, y_testR = train_test_split(X_R, y_R, test_size=0.2, random_state=RANDOM_STATE, stratify=y_R)"
   ]
  },
  {
   "cell_type": "code",
   "execution_count": 78,
   "metadata": {},
   "outputs": [
    {
     "data": {
      "text/plain": [
       "((4650, 64), (1163, 64))"
      ]
     },
     "execution_count": 78,
     "metadata": {},
     "output_type": "execute_result"
    }
   ],
   "source": [
    "X_trainR.shape, X_testR.shape"
   ]
  },
  {
   "attachments": {},
   "cell_type": "markdown",
   "metadata": {},
   "source": [
    "#### Clasificación"
   ]
  },
  {
   "attachments": {},
   "cell_type": "markdown",
   "metadata": {},
   "source": [
    "Dividiremos en 60-20-20 para entrenamiento, test y validación. Aunque las clases están balanceadas, utilizaremos la función de sklearn para asegurarnos de que se mantienen las proporciones de cada clase en cada conjunto."
   ]
  },
  {
   "cell_type": "code",
   "execution_count": 79,
   "metadata": {},
   "outputs": [],
   "source": [
    "X_train, X, y_train, y = train_test_split(X_scal.iloc[:, :-1], X_scal.iloc[:, -1],test_size=0.4, random_state=RANDOM_STATE, stratify=X_scal.iloc[:, -1])\n",
    "X_val, X_test, y_val, y_test = train_test_split(X, y, test_size=0.5, random_state=RANDOM_STATE, stratify=y)"
   ]
  },
  {
   "cell_type": "code",
   "execution_count": 80,
   "metadata": {},
   "outputs": [
    {
     "data": {
      "text/plain": [
       "((7006, 64), (2336, 64), (2336, 64))"
      ]
     },
     "execution_count": 80,
     "metadata": {},
     "output_type": "execute_result"
    }
   ],
   "source": [
    "X_train.shape, X_val.shape, X_test.shape"
   ]
  },
  {
   "attachments": {},
   "cell_type": "markdown",
   "metadata": {},
   "source": [
    "## 5. Regresión logística <a class=\"anchor\" id=\"Reg-logística\"></a>"
   ]
  },
  {
   "attachments": {},
   "cell_type": "markdown",
   "metadata": {},
   "source": [
    "Primero estudiaremos los datos para ver cómo de fuerte es la correlación entre las variables, esto es la relación existente entre ellas, y si hay alguna que no aporta información. \n",
    "\n",
    "Para ello usaremos la matriz de correlación ya que son demasiados valores para verlos en una tabla:"
   ]
  },
  {
   "cell_type": "code",
   "execution_count": 83,
   "metadata": {},
   "outputs": [
    {
     "data": {
      "text/plain": [
       "<Axes: >"
      ]
     },
     "execution_count": 83,
     "metadata": {},
     "output_type": "execute_result"
    },
    {
     "data": {
      "image/png": "[encoded data removed]",
      "text/plain": [
       "<Figure size 640x480 with 2 Axes>"
      ]
     },
     "metadata": {},
     "output_type": "display_data"
    }
   ],
   "source": [
    "corr_matrix = X_reg_scal.corr()\n",
    "corr_matrix.to_csv('corr_matrix.csv', index=False)\n",
    "sns.heatmap(corr_matrix, cmap='coolwarm')"
   ]
  },
  {
   "attachments": {},
   "cell_type": "markdown",
   "metadata": {},
   "source": [
    "Podemos observar aquí que el único caso en el que tenemos un color rojo (1.0 en correlación) es en la diagonal lo cual es evidente ya que una variable está correlacionada consigo misma. Esto nos indica que no hay variables que estén fuertemente correlacionadas entre sí y que todas aportan información. La máxima correlación que tenemos es de 0.6 en menos de 10 variables (lo que se puede ver de color más clarito, esto se puede comprobar em corr_matrix.csv) pero en general se pueden ver colores más oscuros, lo cual indica que la correlación es baja. Debido a esto, al hacer regresión logística podemos esperar que el modelo obtenga resultados medios. Pero está claro que no es el mejor modelo para este dataset. "
   ]
  },
  {
   "attachments": {},
   "cell_type": "markdown",
   "metadata": {},
   "source": [
    "#### Funciones necesarias para la regresión logística:"
   ]
  },
  {
   "attachments": {},
   "cell_type": "markdown",
   "metadata": {},
   "source": [
    "1. Cálculo de la función de coste y su gradiente"
   ]
  },
  {
   "attachments": {},
   "cell_type": "markdown",
   "metadata": {},
   "source": [
    "Definición de la función sigmoide a la que se le pasa el vector w, el valor de b y el vector x y se hace el producto escalar para calcular z."
   ]
  },
  {
   "cell_type": "code",
   "execution_count": null,
   "metadata": {},
   "outputs": [],
   "source": [
    "def func_sigmoide(x, w, b):\n",
    "    z = np.dot(x,w)+b\n",
    "    return 1/(1+np.exp(-z))"
   ]
  },
  {
   "attachments": {},
   "cell_type": "markdown",
   "metadata": {},
   "source": [
    "Función que devuelve la predicción según el modelo entrenado."
   ]
  },
  {
   "cell_type": "code",
   "execution_count": null,
   "metadata": {},
   "outputs": [],
   "source": [
    "def predict(X, Y, w, b):\n",
    "   # XX = map_feature(X[:, 0], X[:, 1])\n",
    "    y_hat= func_sigmoide(X, w, b)\n",
    "    y_hat = np.where(y_hat >= 0.5, 1, 0)\n",
    "    return y_hat"
   ]
  },
  {
   "attachments": {
    "image.png": {
     "image/png": "[encoded data removed]"
    }
   },
   "cell_type": "markdown",
   "metadata": {},
   "source": [
    "Función de coste regularizada: (siendo θ nuestro w,b)\n",
    "\n",
    "![image.png](attachment:image.png)\n",
    "\n",
    "*Figura 1: Función de coste regularizada*"
   ]
  },
  {
   "cell_type": "code",
   "execution_count": null,
   "metadata": {},
   "outputs": [],
   "source": [
    "def func_coste(X, Y, w, b, L):\n",
    "    m = len(Y)\n",
    "    f = func_sigmoide(X, w, b)\n",
    "    coste = (-1/m)*np.sum(Y*np.log(f)+(1-Y)*np.log(1-f))\n",
    "    coste += (L/(2*m))*np.sum(w**2)\n",
    "    return coste"
   ]
  },
  {
   "attachments": {
    "image-2.png": {
     "image/png": "[encoded data removed]"
    },
    "image.png": {
     "image/png": "[encoded data removed]"
    }
   },
   "cell_type": "markdown",
   "metadata": {},
   "source": [
    "La función del cálculo de gradiente con regularización es:\n",
    "\n",
    "Para w:\n",
    "\n",
    "![image.png](attachment:image.png)\n",
    "\n",
    "Para b:\n",
    "\n",
    "![image.png](attachment:image-2.png)\n",
    "\n",
    "*Figuras 2 y 3: Gradiente de la función de coste regularizada*\n"
   ]
  },
  {
   "cell_type": "code",
   "execution_count": null,
   "metadata": {},
   "outputs": [],
   "source": [
    "def funcion_grad(X, y, w, b, L):\n",
    "    m = len(y)\n",
    "    gw = np.zeros(w.shape)\n",
    "    gb = 0\n",
    "    y_hat = func_sigmoide(X, w, b)\n",
    "    dif = y_hat-y\n",
    "    \n",
    "    gb = np.sum(dif)/m                                    \n",
    "    gw = (1/m) * np.dot(dif,X) + L*w/m\n",
    "    \n",
    "    return gw, gb"
   ]
  },
  {
   "cell_type": "code",
   "execution_count": null,
   "metadata": {},
   "outputs": [],
   "source": [
    "def funcion_grad_desc(X, y, w, b, alpha, num_iter, L):   \n",
    "    for i in range(num_iter):\n",
    "        gw, gb = funcion_grad(X, y, w, b, L)\n",
    "        w = w - alpha*gw\n",
    "        b = b - alpha*gb\n",
    "    return w, b"
   ]
  },
  {
   "attachments": {},
   "cell_type": "markdown",
   "metadata": {},
   "source": [
    "2. Cálculo de los valores \n",
    "\n",
    "Haremos una regresión logística con regularización, para ello probaremos con diferentes valores de lambda y veremos cuál es el que mejor resultado nos da. \n",
    "Los valores que vamos a probar son:\n",
    "\n",
    "Lambda: 0.1, 1, 2, 4, 6, 8, 10\n",
    "\n",
    "En cuanto al valor de alpha hemos decidido dejarlo en 0.001 un valor lo suficientemente pequeño como para garantizar una solución sin que se pase.  "
   ]
  },
  {
   "cell_type": "code",
   "execution_count": null,
   "metadata": {},
   "outputs": [],
   "source": [
    "def regresion_logistica(X, y, alpha, num_iter, L):\n",
    "    w, b = funcion_grad_desc(X, y, np.zeros(X.shape[1]), 0, alpha, num_iter, L)\n",
    "    return w, b"
   ]
  },
  {
   "cell_type": "code",
   "execution_count": null,
   "metadata": {},
   "outputs": [],
   "source": [
    "Ls = [0.1, 1, 2, 4, 6, 8, 10]\n",
    "train_acc = []\n",
    "test_acc = []\n",
    "\n",
    "for l in Ls:\n",
    "    w, b = regresion_logistica(X_trainR, y_trainR, 0.001, 100000, l)\n",
    "    print(\"Lambda: \", l)\n",
    "    y_hat_train = predict(X_trainR, y_trainR, w, b)\n",
    "    print(\"Accuracy: \", np.mean(y_hat_train == y_trainR)*100, \"%\")\n",
    "    y_hat = predict(X_testR, y_testR, w, b)\n",
    "    print(\"Accuracy: \", np.mean(y_hat == y_testR)*100, \"%\")\n",
    "    \n",
    "    train_acc.append(np.mean(y_hat_train == y_trainR)*100)\n",
    "    test_acc.append(np.mean(y_hat == y_testR)*100)"
   ]
  },
  {
   "attachments": {},
   "cell_type": "markdown",
   "metadata": {},
   "source": [
    "4. Pintamos la curva de aprendizaje según los distintos valores de lambda:"
   ]
  },
  {
   "cell_type": "code",
   "execution_count": null,
   "metadata": {},
   "outputs": [],
   "source": [
    "fig, ax = plt.subplots()\n",
    "\n",
    "ax.plot(Ls , train_acc, label='Train Accuracy')\n",
    "ax.plot(Ls , test_acc, label='Test Accuracy')\n",
    "\n",
    "ax.set_xlabel('Lambda')\n",
    "ax.set_ylabel('Accuracy')\n",
    "ax.set_title('Aprendizaje según Lambda')\n",
    "\n",
    "ax.legend()\n",
    "plt.show()"
   ]
  },
  {
   "attachments": {},
   "cell_type": "markdown",
   "metadata": {},
   "source": [
    "# 6. Red neuronal multiclase <a class=\"anchor\" id=\"Red-neuronal\"></a> "
   ]
  },
  {
   "attachments": {},
   "cell_type": "markdown",
   "metadata": {},
   "source": [
    "Vamos a desarrollar una red neuronal para clasificar los gestos. Exploraremos el proceso de construcción, entrenamiento y evaluación de una red neuronal multicapa. Para ello usaremos la librería Keras de Tensor Flow.\n",
    "\n",
    "En este caso ya usaremos los cuatro gestos para entrenar el modelo cuyo objetivo es clasificarlo en uno de estos, por lo que usaremos el dataset de clasificación. \n",
    "\n",
    "Se trata de un problema de clasificación multiclase, por lo que usaremos:\n",
    "- **Función de activación softmax** en la capa de salida. Esta función es una generalización de la función sigmoide para más de dos clases la cual devuelve un vector de probabilidades de que la entrada pertenezca a cada una de las clases (una distribución de probabilidad). \n",
    "- **Optimizador Adam**, el cual utiliza una tasa de aprendizaje adaptativa para cada parámetro en lugar de una global y que, además, es una buena opción por su eficiencia computacional y su capacidad para manejar problemas con muchos datos y parámetros. \n",
    "- La función de coste que usaremos será la **entropía cruzada categórica**, la cual es la más utilizada para problemas de clasificación multiclase.\n",
    "- Por último, en las capas ocultas usaremos la función de **activación ReLU**, la cual es la más utilizada en redes neuronales ya que es muy eficiente computacionalmente."
   ]
  },
  {
   "attachments": {},
   "cell_type": "markdown",
   "metadata": {},
   "source": [
    "Los datos de entrada son los valores de los sensores y la salida es un vector de 4 posiciones con la probabilidad de que la entrada pertenezca a cada una de las clases.\n",
    "\n",
    "Estos datos están ya normalizados y divididos en entrenamiento, validación y test. Recordemos qué datos tenemos:"
   ]
  },
  {
   "cell_type": "code",
   "execution_count": 85,
   "metadata": {},
   "outputs": [
    {
     "data": {
      "text/plain": [
       "((7006, 64), (2336, 64), (2336, 64))"
      ]
     },
     "execution_count": 85,
     "metadata": {},
     "output_type": "execute_result"
    }
   ],
   "source": [
    "X_train.shape, X_val.shape, X_test.shape"
   ]
  },
  {
   "attachments": {},
   "cell_type": "markdown",
   "metadata": {},
   "source": [
    "En total tenemos 7006 datos de entrenamiento, 2336 de validación y 2336 de test. Además son 64 columnas, es decir, la cantidad de datos de entrenamiento es bastante alta, por lo que usaremos un modelo complejo con regularización."
   ]
  },
  {
   "attachments": {},
   "cell_type": "markdown",
   "metadata": {},
   "source": [
    "Modelo con 150 unidades en la primera capa, 50 en la segunda y 4 en la de salida:"
   ]
  },
  {
   "attachments": {},
   "cell_type": "markdown",
   "metadata": {},
   "source": [
    "Probaremos con diferentes valores de lambda para ver cuál es el que mejor resultado nos da. Los valores que vamos a probar son:"
   ]
  },
  {
   "attachments": {},
   "cell_type": "markdown",
   "metadata": {},
   "source": [
    "## Ajuste"
   ]
  },
  {
   "cell_type": "code",
   "execution_count": 110,
   "metadata": {},
   "outputs": [
    {
     "data": {
      "text/plain": [
       "((7006, 64), (2336, 64), (2336, 64))"
      ]
     },
     "execution_count": 110,
     "metadata": {},
     "output_type": "execute_result"
    }
   ],
   "source": [
    "X_train.shape, X_val.shape, X_test.shape"
   ]
  },
  {
   "cell_type": "code",
   "execution_count": 118,
   "metadata": {},
   "outputs": [],
   "source": [
    "lambdas = [0.001, 0.01, 0.1, 1]\n",
    "iters = 1000"
   ]
  },
  {
   "cell_type": "code",
   "execution_count": 119,
   "metadata": {},
   "outputs": [],
   "source": [
    "def parameter_decision(X_train, y_train, X_val, y_val, X_test, y_test, lambdas):\n",
    "    acc = []\n",
    "    inputs = tf.keras.Input(shape=(64,))\n",
    "    for l in lambdas:\n",
    "        x = tf.keras.layers.Dense(units=150, activation='relu', kernel_regularizer=tf.keras.regularizers.l2(l))(inputs)\n",
    "        x = tf.keras.layers.Dense(units=50, activation='relu', kernel_regularizer=tf.keras.regularizers.l2(l))(x)\n",
    "        outputs = tf.keras.layers.Dense(units=4, activation='softmax')(x)\n",
    "        modelo = tf.keras.Model(inputs=inputs, outputs=outputs)\n",
    "        modelo.compile(loss=SparseCategoricalCrossentropy(),\n",
    "                       optimizer=Adam(learning_rate=1e-3))\n",
    "        modelo.fit(X_train, y_train, epochs=iters, validation_data=(X_val, y_val), verbose=0)\n",
    "        \n",
    "        y_hat = modelo.predict(X_test)\n",
    "        aux = np.mean(np.argmax(y_hat, axis=1) == y_test)\n",
    "        \n",
    "        acc.append(aux)\n",
    "    return acc"
   ]
  },
  {
   "cell_type": "code",
   "execution_count": 120,
   "metadata": {},
   "outputs": [
    {
     "name": "stdout",
     "output_type": "stream",
     "text": [
      "73/73 [==============================] - 0s 3ms/step\n",
      "73/73 [==============================] - 0s 3ms/step\n",
      "73/73 [==============================] - 0s 3ms/step\n",
      "73/73 [==============================] - 0s 2ms/step\n"
     ]
    }
   ],
   "source": [
    "acc = parameter_decision(X_train, y_train, X_val, y_val, X_test, y_test, lambdas)"
   ]
  },
  {
   "attachments": {},
   "cell_type": "markdown",
   "metadata": {},
   "source": [
    "Visualizamos los datos"
   ]
  },
  {
   "cell_type": "code",
   "execution_count": 121,
   "metadata": {},
   "outputs": [
    {
     "data": {
      "text/plain": [
       "[0.8762842465753424,\n",
       " 0.2521404109589041,\n",
       " 0.2521404109589041,\n",
       " 0.2521404109589041]"
      ]
     },
     "execution_count": 121,
     "metadata": {},
     "output_type": "execute_result"
    },
    {
     "data": {
      "image/png": "[encoded data removed]",
      "text/plain": [
       "<Figure size 640x480 with 1 Axes>"
      ]
     },
     "metadata": {},
     "output_type": "display_data"
    }
   ],
   "source": [
    "plt.plot(lambdas, acc, color=\"green\")\n",
    "plt.xlabel(\"Lambda\")\n",
    "plt.ylabel(\"Precisión\")\n",
    "plt.title(\"Precisión vs Lambda\")\n",
    "acc"
   ]
  },
  {
   "attachments": {},
   "cell_type": "markdown",
   "metadata": {},
   "source": [
    "En este caso el mejor resultado lo obtenemos para lambda:"
   ]
  },
  {
   "cell_type": "code",
   "execution_count": 122,
   "metadata": {},
   "outputs": [
    {
     "data": {
      "text/plain": [
       "0.001"
      ]
     },
     "execution_count": 122,
     "metadata": {},
     "output_type": "execute_result"
    }
   ],
   "source": [
    "best_lambda = lambdas[np.argmax(acc)]\n",
    "best_lambda"
   ]
  },
  {
   "attachments": {},
   "cell_type": "markdown",
   "metadata": {},
   "source": [
    "## Red neuronal con mejor resultado:"
   ]
  },
  {
   "cell_type": "code",
   "execution_count": 125,
   "metadata": {},
   "outputs": [
    {
     "name": "stdout",
     "output_type": "stream",
     "text": [
      "73/73 [==============================] - 1s 5ms/step\n"
     ]
    }
   ],
   "source": [
    "inputs = tf.keras.Input(shape=(64,))\n",
    "x = tf.keras.layers.Dense(units=150, activation='relu', kernel_regularizer=tf.keras.regularizers.l2(best_lambda))(inputs)\n",
    "x = tf.keras.layers.Dense(units=50, activation='relu', kernel_regularizer=tf.keras.regularizers.l2(best_lambda))(x)\n",
    "outputs = tf.keras.layers.Dense(units=4, activation='softmax')(x)\n",
    "modelo = tf.keras.Model(inputs=inputs, outputs=outputs)\n",
    "modelo.compile(loss=SparseCategoricalCrossentropy(),\n",
    "                optimizer=Adam(learning_rate=1e-3))\n",
    "modelo.fit(X_train, y_train, epochs=iters, validation_data=(X_val, y_val), verbose=0)"
   ]
  },
  {
   "cell_type": "code",
   "execution_count": 127,
   "metadata": {},
   "outputs": [
    {
     "name": "stdout",
     "output_type": "stream",
     "text": [
      "73/73 [==============================] - 1s 7ms/step\n",
      "Precisión:  86.08732876712328 %\n"
     ]
    }
   ],
   "source": [
    "y_hat = modelo.predict(X_test)\n",
    "aux = np.mean(np.argmax(y_hat, axis=1) == y_test)\n",
    "print(\"Precisión: \", aux*100, \"%\")"
   ]
  },
  {
   "attachments": {},
   "cell_type": "markdown",
   "metadata": {},
   "source": [
    "## Estudio de la precisión:\n"
   ]
  },
  {
   "attachments": {},
   "cell_type": "markdown",
   "metadata": {},
   "source": [
    "Primero veremos las medidas de calidad respecto a los datos de entrenamiento (métricas de entrenamiento):\n",
    "- Precision: fracción de predicciones correctas que el modelo ha hecho\n",
    "- Recall: fracción de ejemplos positivos que el modelo ha predicho correctamente\n",
    "- F1-score: medida de la precisión y exhaustividad del modelo"
   ]
  },
  {
   "cell_type": "code",
   "execution_count": 129,
   "metadata": {},
   "outputs": [
    {
     "ename": "ValueError",
     "evalue": "Classification metrics can't handle a mix of multiclass and continuous-multioutput targets",
     "output_type": "error",
     "traceback": [
      "\u001b[0;31m---------------------------------------------------------------------------\u001b[0m",
      "\u001b[0;31mValueError\u001b[0m                                Traceback (most recent call last)",
      "Cell \u001b[0;32mIn[129], line 1\u001b[0m\n\u001b[0;32m----> 1\u001b[0m cr \u001b[39m=\u001b[39m classification_report(y_test, y_hat, target_names\u001b[39m=\u001b[39;49m[\u001b[39m'\u001b[39;49m\u001b[39m0\u001b[39;49m\u001b[39m'\u001b[39;49m, \u001b[39m'\u001b[39;49m\u001b[39m1\u001b[39;49m\u001b[39m'\u001b[39;49m, \u001b[39m'\u001b[39;49m\u001b[39m2\u001b[39;49m\u001b[39m'\u001b[39;49m, \u001b[39m'\u001b[39;49m\u001b[39m3\u001b[39;49m\u001b[39m'\u001b[39;49m])\n\u001b[1;32m      2\u001b[0m \u001b[39mprint\u001b[39m (cr)\n",
      "File \u001b[0;32m~/.local/lib/python3.10/site-packages/sklearn/metrics/_classification.py:2310\u001b[0m, in \u001b[0;36mclassification_report\u001b[0;34m(y_true, y_pred, labels, target_names, sample_weight, digits, output_dict, zero_division)\u001b[0m\n\u001b[1;32m   2195\u001b[0m \u001b[39mdef\u001b[39;00m \u001b[39mclassification_report\u001b[39m(\n\u001b[1;32m   2196\u001b[0m     y_true,\n\u001b[1;32m   2197\u001b[0m     y_pred,\n\u001b[0;32m   (...)\u001b[0m\n\u001b[1;32m   2204\u001b[0m     zero_division\u001b[39m=\u001b[39m\u001b[39m\"\u001b[39m\u001b[39mwarn\u001b[39m\u001b[39m\"\u001b[39m,\n\u001b[1;32m   2205\u001b[0m ):\n\u001b[1;32m   2206\u001b[0m \u001b[39m    \u001b[39m\u001b[39m\"\"\"Build a text report showing the main classification metrics.\u001b[39;00m\n\u001b[1;32m   2207\u001b[0m \n\u001b[1;32m   2208\u001b[0m \u001b[39m    Read more in the :ref:`User Guide <classification_report>`.\u001b[39;00m\n\u001b[0;32m   (...)\u001b[0m\n\u001b[1;32m   2307\u001b[0m \u001b[39m    <BLANKLINE>\u001b[39;00m\n\u001b[1;32m   2308\u001b[0m \u001b[39m    \"\"\"\u001b[39;00m\n\u001b[0;32m-> 2310\u001b[0m     y_type, y_true, y_pred \u001b[39m=\u001b[39m _check_targets(y_true, y_pred)\n\u001b[1;32m   2312\u001b[0m     \u001b[39mif\u001b[39;00m labels \u001b[39mis\u001b[39;00m \u001b[39mNone\u001b[39;00m:\n\u001b[1;32m   2313\u001b[0m         labels \u001b[39m=\u001b[39m unique_labels(y_true, y_pred)\n",
      "File \u001b[0;32m~/.local/lib/python3.10/site-packages/sklearn/metrics/_classification.py:95\u001b[0m, in \u001b[0;36m_check_targets\u001b[0;34m(y_true, y_pred)\u001b[0m\n\u001b[1;32m     92\u001b[0m     y_type \u001b[39m=\u001b[39m {\u001b[39m\"\u001b[39m\u001b[39mmulticlass\u001b[39m\u001b[39m\"\u001b[39m}\n\u001b[1;32m     94\u001b[0m \u001b[39mif\u001b[39;00m \u001b[39mlen\u001b[39m(y_type) \u001b[39m>\u001b[39m \u001b[39m1\u001b[39m:\n\u001b[0;32m---> 95\u001b[0m     \u001b[39mraise\u001b[39;00m \u001b[39mValueError\u001b[39;00m(\n\u001b[1;32m     96\u001b[0m         \u001b[39m\"\u001b[39m\u001b[39mClassification metrics can\u001b[39m\u001b[39m'\u001b[39m\u001b[39mt handle a mix of \u001b[39m\u001b[39m{0}\u001b[39;00m\u001b[39m and \u001b[39m\u001b[39m{1}\u001b[39;00m\u001b[39m targets\u001b[39m\u001b[39m\"\u001b[39m\u001b[39m.\u001b[39mformat(\n\u001b[1;32m     97\u001b[0m             type_true, type_pred\n\u001b[1;32m     98\u001b[0m         )\n\u001b[1;32m     99\u001b[0m     )\n\u001b[1;32m    101\u001b[0m \u001b[39m# We can't have more than one value on y_type => The set is no more needed\u001b[39;00m\n\u001b[1;32m    102\u001b[0m y_type \u001b[39m=\u001b[39m y_type\u001b[39m.\u001b[39mpop()\n",
      "\u001b[0;31mValueError\u001b[0m: Classification metrics can't handle a mix of multiclass and continuous-multioutput targets"
     ]
    }
   ],
   "source": [
    "cr = classification_report(y_test, y_hat, target_names=['0', '1', '2', '3'])\n",
    "print (cr)"
   ]
  },
  {
   "attachments": {},
   "cell_type": "markdown",
   "metadata": {},
   "source": [
    "TODO conclusiones"
   ]
  },
  {
   "attachments": {},
   "cell_type": "markdown",
   "metadata": {},
   "source": [
    "Podemos ver también cómo de bien clasifica cada clase con la matriz de confusión:"
   ]
  },
  {
   "cell_type": "code",
   "execution_count": null,
   "metadata": {},
   "outputs": [],
   "source": [
    "confussion_matrix = confusion_matrix(y_test, r_m_pred, labels= [0, 1, 2, 3])\n",
    "cm_display = metrics.ConfusionMatrixDisplay(confusion_matrix = confusion_matrix, display_labels = ['Piedra', 'Papel', 'Tijera', 'Okay'])\n",
    "cm_display.plot()\n",
    "plt.show()"
   ]
  },
  {
   "attachments": {},
   "cell_type": "markdown",
   "metadata": {},
   "source": [
    "# 10. Bibiliografía <a class=\"anchor\" id=\"Bibliografía\"></a>"
   ]
  },
  {
   "attachments": {},
   "cell_type": "markdown",
   "metadata": {},
   "source": [
    "- Ng, A. “C1_W3 classification + regularization.” Stanford. Disponible en el Campus Virtual.\n",
    "- Ng, A. \"C2_W1 NN.\" Stanford. Disponible en el Campus Virtual.\n",
    "- Ng, A. \"C2_W2 NN training + multiclass.\" Stanford. Disponible en el Campus Virtual.\n",
    "- Ng, A. \"C2_W3 evaluation.\" Stanford. Disponible en el Campus Virtual.\n",
    "\n",
    "- Amat Rodrigo, J. (2020) Regresión Lineal con python, Regresión lineal con python. Cienciadedatos.net. Disponible en: https://www.cienciadedatos.net/documentos/py10-regresion-lineal-python.html (Visitado: 28 de abril, 2023). \n",
    "\n",
    "- Amat Rodrigo, J. (2020) Regresión Lineal con python, Regresión lineal con python. Cienciadedatos.net. Disponible en: https://www.cienciadedatos.net/documentos/py10-regresion-lineal-python.html (Visitado: 28 de abril, 2023). \n",
    "\n",
    "- Redacción KeepCoding (2022) Función Softmax en tensorflow, Función softmax en TensorFlow . KeepCoding Bootcamps. Disponible en: https://keepcoding.io/blog/funcion-softmax-tensorflow/#Funcion_softmax_en_TensorFlow (Visitado: 1 de mayo, 2023). \n",
    "\n",
    "- Brownlee, J. (2021) Gentle introduction to the adam optimization algorithm for deep learning, MachineLearningMastery.com. machinelearningmastery.com. Disponible en: https://machinelearningmastery.com/adam-optimization-algorithm-for-deep-learning/ (Visitado: 1 de mayo, 2023). \n",
    "\n",
    "- Prácticas 4, 6, 7 de la asignatura de Aprendizaje Automático."
   ]
  },
  {
   "attachments": {},
   "cell_type": "markdown",
   "metadata": {},
   "source": [
    "### Figuras:"
   ]
  },
  {
   "attachments": {},
   "cell_type": "markdown",
   "metadata": {},
   "source": [
    "- Figura 1:\n",
    "    Ng, A. Machine Learning , Machine learning. Disponible en: http://openclassroom.stanford.edu/MainFolder/DocumentPage.php?course=MachineLearning&amp;doc=exercises%2Fex5%2Fex5.html (Visitado: 1 de mayo, 2023). \n",
    "\n",
    "- Figuras 2 y 3:\n",
    "    Ng, A. “C1_W3 classification + regularization.” Stanford. "
   ]
  }
 ],
 "metadata": {
  "kernelspec": {
   "display_name": "Python 3",
   "language": "python",
   "name": "python3"
  },
  "language_info": {
   "codemirror_mode": {
    "name": "ipython",
    "version": 3
   },
   "file_extension": ".py",
   "mimetype": "text/x-python",
   "name": "python",
   "nbconvert_exporter": "python",
   "pygments_lexer": "ipython3",
   "version": "3.10.6"
  },
  "orig_nbformat": 4
 },
 "nbformat": 4,
 "nbformat_minor": 2
}
