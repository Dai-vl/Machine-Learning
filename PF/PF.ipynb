{
 "cells": [
  {
   "attachments": {},
   "cell_type": "markdown",
   "metadata": {},
   "source": [
    "# Práctica Final Aprendizaje Automático\n",
    "\n",
    "Grupo 5: Jorge Ortega y Daniela Vidal"
   ]
  },
  {
   "attachments": {},
   "cell_type": "markdown",
   "metadata": {},
   "source": [
    "## Índice\n",
    "\n",
    "1. [Presentación del dataset](#Presentación-del-dataset)\n",
    "2. [Preprocesamiento](#Preprocesamiento)\n",
    "3. [Dataset final](#Dataset-final)\n",
    "4. [Separación en entrenamiento, validación y test](#Separación-en-entrenamiento,-validación-y-test)\n",
    "5. [Regresión logística](#Reg-logística)\n",
    "6. [Red neuronal](#Red-neuronal)\n",
    "7. [Árboles de decisión](#Árboles-de-decisión)\n",
    "8. [Comparación de resultados](#Comparación-de-resultados)\n",
    "9. [Conclusiones](#Conclusiones)\n",
    "10. [Bibliografía](#Bibliografía) "
   ]
  },
  {
   "attachments": {},
   "cell_type": "markdown",
   "metadata": {},
   "source": [
    "## 1. Presentación del dataset <a class=\"anchor\" id=\"Presentación-del-dataset\"></a>"
   ]
  },
  {
   "attachments": {},
   "cell_type": "markdown",
   "metadata": {},
   "source": [
    "Esta práctica consiste en la aplicación de los conocimientos adquiridos en la asignatura de Aprendizaje Automático a un dataset sobre reconocimiento de gestos con datos de la actividad muscular. Lo que se pretende es realizar un clasificador que sea capaz de predecir qué gesto se está realizando a partir de los datos de la actividad muscular.\n",
    "\n",
    "El dataset que hemos elegido para realizar la práctica es el de [Classify gestures by reading muscle activity](https://www.kaggle.com/datasets/kyr7plus/emg-4). Se trata de un dataset de Kaggle que contiene datos de la actividad muscular de 4 gestos diferentes: \n",
    "- Piedra (puño)\n",
    "\n",
    "- Papel (extensión de la mano)\n",
    "\n",
    "- Tijeras (dedos índice y corazón extendidos)\n",
    "\n",
    "- Okay (dedo índice tocando el pulgar y el resto de dedos extendidos). \n",
    "\n",
    "Los datos se han recogido con señales EMG (electromiografía). Las señales EMG son señales eléctricas que se producen en los músculos cuando estos se activan y se pueden utilizar para detectar y clasificar gestos. Los datos se han recogido con una banda colocada en el brazo con 8 sensores en la superficie de la piel, cada uno de ellos recoge la actividad eléctrica producida por los músculos debajo de la piel. \n",
    "Cada línea del dataset consiste en 40ms en las que se hacen 8 medidas consecutivas de los 8 sensores, es decir, 64 columnas en total de esta manera:\n",
    "\n",
    "                                    [8 sensores][8 sensores][8 sensores][8 sensores][8 sensores][8 sensores][8 sensores][8 sensores][Gesto]\n",
    "\n",
    "En total hay 120s de cada gesto.\n",
    "\n",
    "La columna 'Gesto' clasifica piedra - 0, tijeras - 1, papel - 2, okay - 3.\n",
    "\n",
    "Para asegurarse de la calidad de los datos, se realizaron 6 repeticiones de cada gesto en la que se empezaba y se paraba de medir con el gesto sostenido.\n",
    "\n",
    "Se trata de 4 datasets de alrededor de 2900 filas cada uno con la actividad de cada gesto. \n",
    "\n",
    "Sin embargo hemos decidido usar solo 3 de los 4 datasets, ya que la dimensionalidad de los datos es muy grande y para algunos algoritmos de aprendizaje automático se hace muy tedioso. Por ello hemos decidido usar solo los datos de los gestos de piedra, papel y tijeras."
   ]
  },
  {
   "attachments": {},
   "cell_type": "markdown",
   "metadata": {},
   "source": [
    "## 2. Preprocesamiento <a class=\"anchor\" id=\"Preprocesamiento\"></a>"
   ]
  },
  {
   "cell_type": "code",
   "execution_count": 2,
   "metadata": {},
   "outputs": [
    {
     "name": "stderr",
     "output_type": "stream",
     "text": [
      "2023-05-07 22:40:15.724850: I tensorflow/core/platform/cpu_feature_guard.cc:193] This TensorFlow binary is optimized with oneAPI Deep Neural Network Library (oneDNN) to use the following CPU instructions in performance-critical operations:  AVX2 FMA\n",
      "To enable them in other operations, rebuild TensorFlow with the appropriate compiler flags.\n",
      "2023-05-07 22:40:16.563141: W tensorflow/compiler/xla/stream_executor/platform/default/dso_loader.cc:64] Could not load dynamic library 'libcudart.so.11.0'; dlerror: libcudart.so.11.0: cannot open shared object file: No such file or directory\n",
      "2023-05-07 22:40:16.563160: I tensorflow/compiler/xla/stream_executor/cuda/cudart_stub.cc:29] Ignore above cudart dlerror if you do not have a GPU set up on your machine.\n",
      "2023-05-07 22:40:19.709671: W tensorflow/compiler/xla/stream_executor/platform/default/dso_loader.cc:64] Could not load dynamic library 'libnvinfer.so.7'; dlerror: libnvinfer.so.7: cannot open shared object file: No such file or directory\n",
      "2023-05-07 22:40:19.709798: W tensorflow/compiler/xla/stream_executor/platform/default/dso_loader.cc:64] Could not load dynamic library 'libnvinfer_plugin.so.7'; dlerror: libnvinfer_plugin.so.7: cannot open shared object file: No such file or directory\n",
      "2023-05-07 22:40:19.709807: W tensorflow/compiler/tf2tensorrt/utils/py_utils.cc:38] TF-TRT Warning: Cannot dlopen some TensorRT libraries. If you would like to use Nvidia GPU with TensorRT, please make sure the missing libraries mentioned above are installed properly.\n"
     ]
    }
   ],
   "source": [
    "import numpy as np\n",
    "import pandas as pd\n",
    "import matplotlib.pyplot as plt\n",
    "import sklearn as sk\n",
    "from sklearn.model_selection import train_test_split\n",
    "from sklearn.preprocessing import StandardScaler, PolynomialFeatures\n",
    "from sklearn.linear_model import LogisticRegression\n",
    "from sklearn.metrics import classification_report, confusion_matrix\n",
    "import tensorflow as tf\n",
    "from tensorflow.keras import Sequential, Model, Input\n",
    "from tensorflow.keras.layers import Dense\n",
    "from tensorflow.keras.losses import BinaryCrossentropy\n",
    "from tensorflow.keras.optimizers import Adam\n",
    "from tensorflow.keras.losses import SparseCategoricalCrossentropy\n",
    "import seaborn as sns"
   ]
  },
  {
   "attachments": {},
   "cell_type": "markdown",
   "metadata": {},
   "source": [
    "### Constantes globales"
   ]
  },
  {
   "cell_type": "code",
   "execution_count": 3,
   "metadata": {},
   "outputs": [],
   "source": [
    "RANDOM_STATE = 42"
   ]
  },
  {
   "attachments": {},
   "cell_type": "markdown",
   "metadata": {},
   "source": [
    "### Lectura del dataset"
   ]
  },
  {
   "cell_type": "code",
   "execution_count": 4,
   "metadata": {},
   "outputs": [],
   "source": [
    "X0 = pd.read_csv('0.csv')\n",
    "X1 = pd.read_csv('1.csv')\n",
    "X2 = pd.read_csv('2.csv')\n",
    "X3 = pd.read_csv('3.csv')"
   ]
  },
  {
   "attachments": {},
   "cell_type": "markdown",
   "metadata": {},
   "source": [
    "Podemos ver lo que contienen los datasets en las siguientes tablas:"
   ]
  },
  {
   "cell_type": "code",
   "execution_count": 5,
   "metadata": {},
   "outputs": [
    {
     "data": {
      "text/html": [
       "<div>\n",
       "<style scoped>\n",
       "    .dataframe tbody tr th:only-of-type {\n",
       "        vertical-align: middle;\n",
       "    }\n",
       "\n",
       "    .dataframe tbody tr th {\n",
       "        vertical-align: top;\n",
       "    }\n",
       "\n",
       "    .dataframe thead th {\n",
       "        text-align: right;\n",
       "    }\n",
       "</style>\n",
       "<table border=\"1\" class=\"dataframe\">\n",
       "  <thead>\n",
       "    <tr style=\"text-align: right;\">\n",
       "      <th></th>\n",
       "      <th>26.0</th>\n",
       "      <th>4.0</th>\n",
       "      <th>5.0</th>\n",
       "      <th>8.0</th>\n",
       "      <th>-1.0</th>\n",
       "      <th>-13.0</th>\n",
       "      <th>-109.0</th>\n",
       "      <th>-66.0</th>\n",
       "      <th>-9.0</th>\n",
       "      <th>2.0</th>\n",
       "      <th>...</th>\n",
       "      <th>-28.0</th>\n",
       "      <th>61.0</th>\n",
       "      <th>4.0.3</th>\n",
       "      <th>8.0.1</th>\n",
       "      <th>5.0.1</th>\n",
       "      <th>4.0.4</th>\n",
       "      <th>-7.0.1</th>\n",
       "      <th>-59.0</th>\n",
       "      <th>16.0</th>\n",
       "      <th>0</th>\n",
       "    </tr>\n",
       "  </thead>\n",
       "  <tbody>\n",
       "    <tr>\n",
       "      <th>0</th>\n",
       "      <td>-47.0</td>\n",
       "      <td>-6.0</td>\n",
       "      <td>-5.0</td>\n",
       "      <td>-7.0</td>\n",
       "      <td>13.0</td>\n",
       "      <td>-1.0</td>\n",
       "      <td>35.0</td>\n",
       "      <td>-10.0</td>\n",
       "      <td>10.0</td>\n",
       "      <td>-4.0</td>\n",
       "      <td>...</td>\n",
       "      <td>-25.0</td>\n",
       "      <td>47.0</td>\n",
       "      <td>6.0</td>\n",
       "      <td>6.0</td>\n",
       "      <td>5.0</td>\n",
       "      <td>13.0</td>\n",
       "      <td>21.0</td>\n",
       "      <td>111.0</td>\n",
       "      <td>15.0</td>\n",
       "      <td>0</td>\n",
       "    </tr>\n",
       "    <tr>\n",
       "      <th>1</th>\n",
       "      <td>-19.0</td>\n",
       "      <td>-8.0</td>\n",
       "      <td>-8.0</td>\n",
       "      <td>-8.0</td>\n",
       "      <td>-21.0</td>\n",
       "      <td>-6.0</td>\n",
       "      <td>-79.0</td>\n",
       "      <td>12.0</td>\n",
       "      <td>0.0</td>\n",
       "      <td>5.0</td>\n",
       "      <td>...</td>\n",
       "      <td>-83.0</td>\n",
       "      <td>7.0</td>\n",
       "      <td>7.0</td>\n",
       "      <td>1.0</td>\n",
       "      <td>-8.0</td>\n",
       "      <td>7.0</td>\n",
       "      <td>21.0</td>\n",
       "      <td>114.0</td>\n",
       "      <td>48.0</td>\n",
       "      <td>0</td>\n",
       "    </tr>\n",
       "    <tr>\n",
       "      <th>2</th>\n",
       "      <td>2.0</td>\n",
       "      <td>3.0</td>\n",
       "      <td>0.0</td>\n",
       "      <td>2.0</td>\n",
       "      <td>0.0</td>\n",
       "      <td>22.0</td>\n",
       "      <td>106.0</td>\n",
       "      <td>-14.0</td>\n",
       "      <td>-16.0</td>\n",
       "      <td>-2.0</td>\n",
       "      <td>...</td>\n",
       "      <td>-38.0</td>\n",
       "      <td>-11.0</td>\n",
       "      <td>4.0</td>\n",
       "      <td>7.0</td>\n",
       "      <td>11.0</td>\n",
       "      <td>33.0</td>\n",
       "      <td>39.0</td>\n",
       "      <td>119.0</td>\n",
       "      <td>43.0</td>\n",
       "      <td>0</td>\n",
       "    </tr>\n",
       "    <tr>\n",
       "      <th>3</th>\n",
       "      <td>6.0</td>\n",
       "      <td>0.0</td>\n",
       "      <td>0.0</td>\n",
       "      <td>-2.0</td>\n",
       "      <td>-14.0</td>\n",
       "      <td>10.0</td>\n",
       "      <td>-51.0</td>\n",
       "      <td>5.0</td>\n",
       "      <td>7.0</td>\n",
       "      <td>0.0</td>\n",
       "      <td>...</td>\n",
       "      <td>38.0</td>\n",
       "      <td>-35.0</td>\n",
       "      <td>-8.0</td>\n",
       "      <td>2.0</td>\n",
       "      <td>6.0</td>\n",
       "      <td>-13.0</td>\n",
       "      <td>-24.0</td>\n",
       "      <td>-112.0</td>\n",
       "      <td>-69.0</td>\n",
       "      <td>0</td>\n",
       "    </tr>\n",
       "    <tr>\n",
       "      <th>4</th>\n",
       "      <td>15.0</td>\n",
       "      <td>-5.0</td>\n",
       "      <td>-5.0</td>\n",
       "      <td>-15.0</td>\n",
       "      <td>12.0</td>\n",
       "      <td>-22.0</td>\n",
       "      <td>-38.0</td>\n",
       "      <td>36.0</td>\n",
       "      <td>9.0</td>\n",
       "      <td>6.0</td>\n",
       "      <td>...</td>\n",
       "      <td>-26.0</td>\n",
       "      <td>5.0</td>\n",
       "      <td>6.0</td>\n",
       "      <td>6.0</td>\n",
       "      <td>11.0</td>\n",
       "      <td>5.0</td>\n",
       "      <td>30.0</td>\n",
       "      <td>-48.0</td>\n",
       "      <td>25.0</td>\n",
       "      <td>0</td>\n",
       "    </tr>\n",
       "  </tbody>\n",
       "</table>\n",
       "<p>5 rows × 65 columns</p>\n",
       "</div>"
      ],
      "text/plain": [
       "   26.0  4.0  5.0   8.0  -1.0  -13.0  -109.0  -66.0  -9.0  2.0  ...  -28.0  \\\n",
       "0 -47.0 -6.0 -5.0  -7.0  13.0   -1.0    35.0  -10.0  10.0 -4.0  ...  -25.0   \n",
       "1 -19.0 -8.0 -8.0  -8.0 -21.0   -6.0   -79.0   12.0   0.0  5.0  ...  -83.0   \n",
       "2   2.0  3.0  0.0   2.0   0.0   22.0   106.0  -14.0 -16.0 -2.0  ...  -38.0   \n",
       "3   6.0  0.0  0.0  -2.0 -14.0   10.0   -51.0    5.0   7.0  0.0  ...   38.0   \n",
       "4  15.0 -5.0 -5.0 -15.0  12.0  -22.0   -38.0   36.0   9.0  6.0  ...  -26.0   \n",
       "\n",
       "   61.0  4.0.3  8.0.1  5.0.1  4.0.4  -7.0.1  -59.0  16.0  0  \n",
       "0  47.0    6.0    6.0    5.0   13.0    21.0  111.0  15.0  0  \n",
       "1   7.0    7.0    1.0   -8.0    7.0    21.0  114.0  48.0  0  \n",
       "2 -11.0    4.0    7.0   11.0   33.0    39.0  119.0  43.0  0  \n",
       "3 -35.0   -8.0    2.0    6.0  -13.0   -24.0 -112.0 -69.0  0  \n",
       "4   5.0    6.0    6.0   11.0    5.0    30.0  -48.0  25.0  0  \n",
       "\n",
       "[5 rows x 65 columns]"
      ]
     },
     "execution_count": 5,
     "metadata": {},
     "output_type": "execute_result"
    }
   ],
   "source": [
    "X0.head()"
   ]
  },
  {
   "cell_type": "code",
   "execution_count": 6,
   "metadata": {},
   "outputs": [
    {
     "data": {
      "text/html": [
       "<div>\n",
       "<style scoped>\n",
       "    .dataframe tbody tr th:only-of-type {\n",
       "        vertical-align: middle;\n",
       "    }\n",
       "\n",
       "    .dataframe tbody tr th {\n",
       "        vertical-align: top;\n",
       "    }\n",
       "\n",
       "    .dataframe thead th {\n",
       "        text-align: right;\n",
       "    }\n",
       "</style>\n",
       "<table border=\"1\" class=\"dataframe\">\n",
       "  <thead>\n",
       "    <tr style=\"text-align: right;\">\n",
       "      <th></th>\n",
       "      <th>-7.0</th>\n",
       "      <th>-1.0</th>\n",
       "      <th>-1.0.1</th>\n",
       "      <th>0.0</th>\n",
       "      <th>-10.0</th>\n",
       "      <th>-10.0.1</th>\n",
       "      <th>-1.0.2</th>\n",
       "      <th>1.0</th>\n",
       "      <th>-5.0</th>\n",
       "      <th>-5.0.1</th>\n",
       "      <th>...</th>\n",
       "      <th>6.0.1</th>\n",
       "      <th>-4.0.6</th>\n",
       "      <th>-3.0.5</th>\n",
       "      <th>-5.0.5</th>\n",
       "      <th>-3.0.6</th>\n",
       "      <th>15.0.1</th>\n",
       "      <th>11.0</th>\n",
       "      <th>-4.0.7</th>\n",
       "      <th>-5.0.6</th>\n",
       "      <th>1</th>\n",
       "    </tr>\n",
       "  </thead>\n",
       "  <tbody>\n",
       "    <tr>\n",
       "      <th>0</th>\n",
       "      <td>-6.0</td>\n",
       "      <td>-2.0</td>\n",
       "      <td>-5.0</td>\n",
       "      <td>-2.0</td>\n",
       "      <td>27.0</td>\n",
       "      <td>42.0</td>\n",
       "      <td>3.0</td>\n",
       "      <td>5.0</td>\n",
       "      <td>11.0</td>\n",
       "      <td>1.0</td>\n",
       "      <td>...</td>\n",
       "      <td>2.0</td>\n",
       "      <td>-17.0</td>\n",
       "      <td>-5.0</td>\n",
       "      <td>-7.0</td>\n",
       "      <td>-2.0</td>\n",
       "      <td>15.0</td>\n",
       "      <td>12.0</td>\n",
       "      <td>0.0</td>\n",
       "      <td>-7.0</td>\n",
       "      <td>1</td>\n",
       "    </tr>\n",
       "    <tr>\n",
       "      <th>1</th>\n",
       "      <td>5.0</td>\n",
       "      <td>0.0</td>\n",
       "      <td>-1.0</td>\n",
       "      <td>-2.0</td>\n",
       "      <td>2.0</td>\n",
       "      <td>-9.0</td>\n",
       "      <td>1.0</td>\n",
       "      <td>5.0</td>\n",
       "      <td>1.0</td>\n",
       "      <td>-3.0</td>\n",
       "      <td>...</td>\n",
       "      <td>-11.0</td>\n",
       "      <td>-23.0</td>\n",
       "      <td>1.0</td>\n",
       "      <td>-1.0</td>\n",
       "      <td>-1.0</td>\n",
       "      <td>-23.0</td>\n",
       "      <td>-25.0</td>\n",
       "      <td>2.0</td>\n",
       "      <td>-1.0</td>\n",
       "      <td>1</td>\n",
       "    </tr>\n",
       "    <tr>\n",
       "      <th>2</th>\n",
       "      <td>31.0</td>\n",
       "      <td>4.0</td>\n",
       "      <td>2.0</td>\n",
       "      <td>-2.0</td>\n",
       "      <td>38.0</td>\n",
       "      <td>14.0</td>\n",
       "      <td>2.0</td>\n",
       "      <td>7.0</td>\n",
       "      <td>-2.0</td>\n",
       "      <td>4.0</td>\n",
       "      <td>...</td>\n",
       "      <td>-4.0</td>\n",
       "      <td>13.0</td>\n",
       "      <td>2.0</td>\n",
       "      <td>-1.0</td>\n",
       "      <td>-3.0</td>\n",
       "      <td>-7.0</td>\n",
       "      <td>0.0</td>\n",
       "      <td>-3.0</td>\n",
       "      <td>-2.0</td>\n",
       "      <td>1</td>\n",
       "    </tr>\n",
       "    <tr>\n",
       "      <th>3</th>\n",
       "      <td>-4.0</td>\n",
       "      <td>-4.0</td>\n",
       "      <td>3.0</td>\n",
       "      <td>3.0</td>\n",
       "      <td>-25.0</td>\n",
       "      <td>-46.0</td>\n",
       "      <td>-1.0</td>\n",
       "      <td>3.0</td>\n",
       "      <td>-7.0</td>\n",
       "      <td>-6.0</td>\n",
       "      <td>...</td>\n",
       "      <td>15.0</td>\n",
       "      <td>4.0</td>\n",
       "      <td>-4.0</td>\n",
       "      <td>-1.0</td>\n",
       "      <td>-1.0</td>\n",
       "      <td>7.0</td>\n",
       "      <td>26.0</td>\n",
       "      <td>3.0</td>\n",
       "      <td>-7.0</td>\n",
       "      <td>1</td>\n",
       "    </tr>\n",
       "    <tr>\n",
       "      <th>4</th>\n",
       "      <td>-8.0</td>\n",
       "      <td>-3.0</td>\n",
       "      <td>-1.0</td>\n",
       "      <td>0.0</td>\n",
       "      <td>14.0</td>\n",
       "      <td>5.0</td>\n",
       "      <td>-4.0</td>\n",
       "      <td>-6.0</td>\n",
       "      <td>2.0</td>\n",
       "      <td>0.0</td>\n",
       "      <td>...</td>\n",
       "      <td>-18.0</td>\n",
       "      <td>53.0</td>\n",
       "      <td>8.0</td>\n",
       "      <td>-1.0</td>\n",
       "      <td>-1.0</td>\n",
       "      <td>-2.0</td>\n",
       "      <td>-5.0</td>\n",
       "      <td>-2.0</td>\n",
       "      <td>9.0</td>\n",
       "      <td>1</td>\n",
       "    </tr>\n",
       "  </tbody>\n",
       "</table>\n",
       "<p>5 rows × 65 columns</p>\n",
       "</div>"
      ],
      "text/plain": [
       "   -7.0  -1.0  -1.0.1  0.0  -10.0  -10.0.1  -1.0.2  1.0  -5.0  -5.0.1  ...  \\\n",
       "0  -6.0  -2.0    -5.0 -2.0   27.0     42.0     3.0  5.0  11.0     1.0  ...   \n",
       "1   5.0   0.0    -1.0 -2.0    2.0     -9.0     1.0  5.0   1.0    -3.0  ...   \n",
       "2  31.0   4.0     2.0 -2.0   38.0     14.0     2.0  7.0  -2.0     4.0  ...   \n",
       "3  -4.0  -4.0     3.0  3.0  -25.0    -46.0    -1.0  3.0  -7.0    -6.0  ...   \n",
       "4  -8.0  -3.0    -1.0  0.0   14.0      5.0    -4.0 -6.0   2.0     0.0  ...   \n",
       "\n",
       "   6.0.1  -4.0.6  -3.0.5  -5.0.5  -3.0.6  15.0.1  11.0  -4.0.7  -5.0.6  1  \n",
       "0    2.0   -17.0    -5.0    -7.0    -2.0    15.0  12.0     0.0    -7.0  1  \n",
       "1  -11.0   -23.0     1.0    -1.0    -1.0   -23.0 -25.0     2.0    -1.0  1  \n",
       "2   -4.0    13.0     2.0    -1.0    -3.0    -7.0   0.0    -3.0    -2.0  1  \n",
       "3   15.0     4.0    -4.0    -1.0    -1.0     7.0  26.0     3.0    -7.0  1  \n",
       "4  -18.0    53.0     8.0    -1.0    -1.0    -2.0  -5.0    -2.0     9.0  1  \n",
       "\n",
       "[5 rows x 65 columns]"
      ]
     },
     "execution_count": 6,
     "metadata": {},
     "output_type": "execute_result"
    }
   ],
   "source": [
    "X1.head()"
   ]
  },
  {
   "cell_type": "code",
   "execution_count": 7,
   "metadata": {},
   "outputs": [
    {
     "data": {
      "text/html": [
       "<div>\n",
       "<style scoped>\n",
       "    .dataframe tbody tr th:only-of-type {\n",
       "        vertical-align: middle;\n",
       "    }\n",
       "\n",
       "    .dataframe tbody tr th {\n",
       "        vertical-align: top;\n",
       "    }\n",
       "\n",
       "    .dataframe thead th {\n",
       "        text-align: right;\n",
       "    }\n",
       "</style>\n",
       "<table border=\"1\" class=\"dataframe\">\n",
       "  <thead>\n",
       "    <tr style=\"text-align: right;\">\n",
       "      <th></th>\n",
       "      <th>4.0</th>\n",
       "      <th>19.0</th>\n",
       "      <th>-9.0</th>\n",
       "      <th>-7.0</th>\n",
       "      <th>-3.0</th>\n",
       "      <th>-36.0</th>\n",
       "      <th>-6.0</th>\n",
       "      <th>-23.0</th>\n",
       "      <th>3.0</th>\n",
       "      <th>-21.0</th>\n",
       "      <th>...</th>\n",
       "      <th>9.0</th>\n",
       "      <th>-14.0.1</th>\n",
       "      <th>-2.0.5</th>\n",
       "      <th>-3.0.3</th>\n",
       "      <th>-4.0</th>\n",
       "      <th>-21.0.1</th>\n",
       "      <th>7.0</th>\n",
       "      <th>-8.0.1</th>\n",
       "      <th>-12.0.2</th>\n",
       "      <th>2</th>\n",
       "    </tr>\n",
       "  </thead>\n",
       "  <tbody>\n",
       "    <tr>\n",
       "      <th>0</th>\n",
       "      <td>-1.0</td>\n",
       "      <td>12.0</td>\n",
       "      <td>20.0</td>\n",
       "      <td>7.0</td>\n",
       "      <td>20.0</td>\n",
       "      <td>-73.0</td>\n",
       "      <td>-4.0</td>\n",
       "      <td>-2.0</td>\n",
       "      <td>4.0</td>\n",
       "      <td>5.0</td>\n",
       "      <td>...</td>\n",
       "      <td>-3.0</td>\n",
       "      <td>-5.0</td>\n",
       "      <td>-2.0</td>\n",
       "      <td>0.0</td>\n",
       "      <td>-4.0</td>\n",
       "      <td>-7.0</td>\n",
       "      <td>5.0</td>\n",
       "      <td>6.0</td>\n",
       "      <td>9.0</td>\n",
       "      <td>2</td>\n",
       "    </tr>\n",
       "    <tr>\n",
       "      <th>1</th>\n",
       "      <td>4.0</td>\n",
       "      <td>5.0</td>\n",
       "      <td>-8.0</td>\n",
       "      <td>-2.0</td>\n",
       "      <td>10.0</td>\n",
       "      <td>-10.0</td>\n",
       "      <td>-10.0</td>\n",
       "      <td>16.0</td>\n",
       "      <td>-3.0</td>\n",
       "      <td>-18.0</td>\n",
       "      <td>...</td>\n",
       "      <td>2.0</td>\n",
       "      <td>0.0</td>\n",
       "      <td>2.0</td>\n",
       "      <td>3.0</td>\n",
       "      <td>-8.0</td>\n",
       "      <td>19.0</td>\n",
       "      <td>20.0</td>\n",
       "      <td>0.0</td>\n",
       "      <td>-8.0</td>\n",
       "      <td>2</td>\n",
       "    </tr>\n",
       "    <tr>\n",
       "      <th>2</th>\n",
       "      <td>-3.0</td>\n",
       "      <td>-3.0</td>\n",
       "      <td>5.0</td>\n",
       "      <td>11.0</td>\n",
       "      <td>25.0</td>\n",
       "      <td>-20.0</td>\n",
       "      <td>-2.0</td>\n",
       "      <td>14.0</td>\n",
       "      <td>9.0</td>\n",
       "      <td>32.0</td>\n",
       "      <td>...</td>\n",
       "      <td>15.0</td>\n",
       "      <td>-2.0</td>\n",
       "      <td>16.0</td>\n",
       "      <td>6.0</td>\n",
       "      <td>9.0</td>\n",
       "      <td>1.0</td>\n",
       "      <td>31.0</td>\n",
       "      <td>16.0</td>\n",
       "      <td>4.0</td>\n",
       "      <td>2</td>\n",
       "    </tr>\n",
       "    <tr>\n",
       "      <th>3</th>\n",
       "      <td>-5.0</td>\n",
       "      <td>-9.0</td>\n",
       "      <td>-2.0</td>\n",
       "      <td>-5.0</td>\n",
       "      <td>-46.0</td>\n",
       "      <td>-34.0</td>\n",
       "      <td>-9.0</td>\n",
       "      <td>-4.0</td>\n",
       "      <td>0.0</td>\n",
       "      <td>8.0</td>\n",
       "      <td>...</td>\n",
       "      <td>-5.0</td>\n",
       "      <td>-11.0</td>\n",
       "      <td>-6.0</td>\n",
       "      <td>7.0</td>\n",
       "      <td>6.0</td>\n",
       "      <td>-10.0</td>\n",
       "      <td>-24.0</td>\n",
       "      <td>-6.0</td>\n",
       "      <td>0.0</td>\n",
       "      <td>2</td>\n",
       "    </tr>\n",
       "    <tr>\n",
       "      <th>4</th>\n",
       "      <td>3.0</td>\n",
       "      <td>-3.0</td>\n",
       "      <td>-6.0</td>\n",
       "      <td>-5.0</td>\n",
       "      <td>-3.0</td>\n",
       "      <td>-4.0</td>\n",
       "      <td>-5.0</td>\n",
       "      <td>-4.0</td>\n",
       "      <td>-5.0</td>\n",
       "      <td>8.0</td>\n",
       "      <td>...</td>\n",
       "      <td>-18.0</td>\n",
       "      <td>-14.0</td>\n",
       "      <td>8.0</td>\n",
       "      <td>1.0</td>\n",
       "      <td>-2.0</td>\n",
       "      <td>-4.0</td>\n",
       "      <td>-34.0</td>\n",
       "      <td>-3.0</td>\n",
       "      <td>6.0</td>\n",
       "      <td>2</td>\n",
       "    </tr>\n",
       "  </tbody>\n",
       "</table>\n",
       "<p>5 rows × 65 columns</p>\n",
       "</div>"
      ],
      "text/plain": [
       "   4.0  19.0  -9.0  -7.0  -3.0  -36.0  -6.0  -23.0  3.0  -21.0  ...   9.0  \\\n",
       "0 -1.0  12.0  20.0   7.0  20.0  -73.0  -4.0   -2.0  4.0    5.0  ...  -3.0   \n",
       "1  4.0   5.0  -8.0  -2.0  10.0  -10.0 -10.0   16.0 -3.0  -18.0  ...   2.0   \n",
       "2 -3.0  -3.0   5.0  11.0  25.0  -20.0  -2.0   14.0  9.0   32.0  ...  15.0   \n",
       "3 -5.0  -9.0  -2.0  -5.0 -46.0  -34.0  -9.0   -4.0  0.0    8.0  ...  -5.0   \n",
       "4  3.0  -3.0  -6.0  -5.0  -3.0   -4.0  -5.0   -4.0 -5.0    8.0  ... -18.0   \n",
       "\n",
       "   -14.0.1  -2.0.5  -3.0.3  -4.0  -21.0.1   7.0  -8.0.1  -12.0.2  2  \n",
       "0     -5.0    -2.0     0.0  -4.0     -7.0   5.0     6.0      9.0  2  \n",
       "1      0.0     2.0     3.0  -8.0     19.0  20.0     0.0     -8.0  2  \n",
       "2     -2.0    16.0     6.0   9.0      1.0  31.0    16.0      4.0  2  \n",
       "3    -11.0    -6.0     7.0   6.0    -10.0 -24.0    -6.0      0.0  2  \n",
       "4    -14.0     8.0     1.0  -2.0     -4.0 -34.0    -3.0      6.0  2  \n",
       "\n",
       "[5 rows x 65 columns]"
      ]
     },
     "execution_count": 7,
     "metadata": {},
     "output_type": "execute_result"
    }
   ],
   "source": [
    "X2.head()"
   ]
  },
  {
   "cell_type": "code",
   "execution_count": 8,
   "metadata": {},
   "outputs": [
    {
     "data": {
      "text/html": [
       "<div>\n",
       "<style scoped>\n",
       "    .dataframe tbody tr th:only-of-type {\n",
       "        vertical-align: middle;\n",
       "    }\n",
       "\n",
       "    .dataframe tbody tr th {\n",
       "        vertical-align: top;\n",
       "    }\n",
       "\n",
       "    .dataframe thead th {\n",
       "        text-align: right;\n",
       "    }\n",
       "</style>\n",
       "<table border=\"1\" class=\"dataframe\">\n",
       "  <thead>\n",
       "    <tr style=\"text-align: right;\">\n",
       "      <th></th>\n",
       "      <th>-22.0</th>\n",
       "      <th>-9.0</th>\n",
       "      <th>-6.0</th>\n",
       "      <th>-1.0</th>\n",
       "      <th>21.0</th>\n",
       "      <th>26.0</th>\n",
       "      <th>-2.0</th>\n",
       "      <th>5.0</th>\n",
       "      <th>5.0.1</th>\n",
       "      <th>0.0</th>\n",
       "      <th>...</th>\n",
       "      <th>-10.0</th>\n",
       "      <th>-15.0.1</th>\n",
       "      <th>-6.0.3</th>\n",
       "      <th>-3.0.4</th>\n",
       "      <th>3.0.1</th>\n",
       "      <th>20.0</th>\n",
       "      <th>25.0</th>\n",
       "      <th>1.0.5</th>\n",
       "      <th>1.0.6</th>\n",
       "      <th>3</th>\n",
       "    </tr>\n",
       "  </thead>\n",
       "  <tbody>\n",
       "    <tr>\n",
       "      <th>0</th>\n",
       "      <td>-7.0</td>\n",
       "      <td>0.0</td>\n",
       "      <td>1.0</td>\n",
       "      <td>0.0</td>\n",
       "      <td>-13.0</td>\n",
       "      <td>-18.0</td>\n",
       "      <td>0.0</td>\n",
       "      <td>-9.0</td>\n",
       "      <td>-6.0</td>\n",
       "      <td>-2.0</td>\n",
       "      <td>...</td>\n",
       "      <td>-1.0</td>\n",
       "      <td>11.0</td>\n",
       "      <td>-4.0</td>\n",
       "      <td>-5.0</td>\n",
       "      <td>-4.0</td>\n",
       "      <td>3.0</td>\n",
       "      <td>-8.0</td>\n",
       "      <td>-7.0</td>\n",
       "      <td>-3.0</td>\n",
       "      <td>3</td>\n",
       "    </tr>\n",
       "    <tr>\n",
       "      <th>1</th>\n",
       "      <td>-6.0</td>\n",
       "      <td>-6.0</td>\n",
       "      <td>-6.0</td>\n",
       "      <td>-8.0</td>\n",
       "      <td>25.0</td>\n",
       "      <td>43.0</td>\n",
       "      <td>-4.0</td>\n",
       "      <td>7.0</td>\n",
       "      <td>6.0</td>\n",
       "      <td>1.0</td>\n",
       "      <td>...</td>\n",
       "      <td>3.0</td>\n",
       "      <td>2.0</td>\n",
       "      <td>1.0</td>\n",
       "      <td>3.0</td>\n",
       "      <td>-1.0</td>\n",
       "      <td>1.0</td>\n",
       "      <td>9.0</td>\n",
       "      <td>4.0</td>\n",
       "      <td>4.0</td>\n",
       "      <td>3</td>\n",
       "    </tr>\n",
       "    <tr>\n",
       "      <th>2</th>\n",
       "      <td>2.0</td>\n",
       "      <td>1.0</td>\n",
       "      <td>1.0</td>\n",
       "      <td>1.0</td>\n",
       "      <td>0.0</td>\n",
       "      <td>-23.0</td>\n",
       "      <td>2.0</td>\n",
       "      <td>-6.0</td>\n",
       "      <td>-1.0</td>\n",
       "      <td>-2.0</td>\n",
       "      <td>...</td>\n",
       "      <td>16.0</td>\n",
       "      <td>-3.0</td>\n",
       "      <td>-1.0</td>\n",
       "      <td>-1.0</td>\n",
       "      <td>-3.0</td>\n",
       "      <td>0.0</td>\n",
       "      <td>-3.0</td>\n",
       "      <td>4.0</td>\n",
       "      <td>3.0</td>\n",
       "      <td>3</td>\n",
       "    </tr>\n",
       "    <tr>\n",
       "      <th>3</th>\n",
       "      <td>0.0</td>\n",
       "      <td>3.0</td>\n",
       "      <td>4.0</td>\n",
       "      <td>5.0</td>\n",
       "      <td>1.0</td>\n",
       "      <td>25.0</td>\n",
       "      <td>-9.0</td>\n",
       "      <td>0.0</td>\n",
       "      <td>0.0</td>\n",
       "      <td>1.0</td>\n",
       "      <td>...</td>\n",
       "      <td>1.0</td>\n",
       "      <td>6.0</td>\n",
       "      <td>2.0</td>\n",
       "      <td>1.0</td>\n",
       "      <td>-3.0</td>\n",
       "      <td>-20.0</td>\n",
       "      <td>-42.0</td>\n",
       "      <td>-4.0</td>\n",
       "      <td>2.0</td>\n",
       "      <td>3</td>\n",
       "    </tr>\n",
       "    <tr>\n",
       "      <th>4</th>\n",
       "      <td>-11.0</td>\n",
       "      <td>-2.0</td>\n",
       "      <td>-5.0</td>\n",
       "      <td>1.0</td>\n",
       "      <td>-7.0</td>\n",
       "      <td>-11.0</td>\n",
       "      <td>-4.0</td>\n",
       "      <td>-23.0</td>\n",
       "      <td>-9.0</td>\n",
       "      <td>0.0</td>\n",
       "      <td>...</td>\n",
       "      <td>-4.0</td>\n",
       "      <td>9.0</td>\n",
       "      <td>1.0</td>\n",
       "      <td>2.0</td>\n",
       "      <td>8.0</td>\n",
       "      <td>21.0</td>\n",
       "      <td>41.0</td>\n",
       "      <td>15.0</td>\n",
       "      <td>9.0</td>\n",
       "      <td>3</td>\n",
       "    </tr>\n",
       "  </tbody>\n",
       "</table>\n",
       "<p>5 rows × 65 columns</p>\n",
       "</div>"
      ],
      "text/plain": [
       "   -22.0  -9.0  -6.0  -1.0  21.0  26.0  -2.0   5.0  5.0.1  0.0  ...  -10.0  \\\n",
       "0   -7.0   0.0   1.0   0.0 -13.0 -18.0   0.0  -9.0   -6.0 -2.0  ...   -1.0   \n",
       "1   -6.0  -6.0  -6.0  -8.0  25.0  43.0  -4.0   7.0    6.0  1.0  ...    3.0   \n",
       "2    2.0   1.0   1.0   1.0   0.0 -23.0   2.0  -6.0   -1.0 -2.0  ...   16.0   \n",
       "3    0.0   3.0   4.0   5.0   1.0  25.0  -9.0   0.0    0.0  1.0  ...    1.0   \n",
       "4  -11.0  -2.0  -5.0   1.0  -7.0 -11.0  -4.0 -23.0   -9.0  0.0  ...   -4.0   \n",
       "\n",
       "   -15.0.1  -6.0.3  -3.0.4  3.0.1  20.0  25.0  1.0.5  1.0.6  3  \n",
       "0     11.0    -4.0    -5.0   -4.0   3.0  -8.0   -7.0   -3.0  3  \n",
       "1      2.0     1.0     3.0   -1.0   1.0   9.0    4.0    4.0  3  \n",
       "2     -3.0    -1.0    -1.0   -3.0   0.0  -3.0    4.0    3.0  3  \n",
       "3      6.0     2.0     1.0   -3.0 -20.0 -42.0   -4.0    2.0  3  \n",
       "4      9.0     1.0     2.0    8.0  21.0  41.0   15.0    9.0  3  \n",
       "\n",
       "[5 rows x 65 columns]"
      ]
     },
     "execution_count": 8,
     "metadata": {},
     "output_type": "execute_result"
    }
   ],
   "source": [
    "X3.head()"
   ]
  },
  {
   "attachments": {},
   "cell_type": "markdown",
   "metadata": {},
   "source": [
    "Como habíamos comentado, cada dataset tiene 2900 filas, 8 columnas de sensores y una columna de gesto. En este caso, los gestos están codificados como 0, 1 y 2 para piedra, tijeras y papel respectivamente. En el resto de columnas podemos ver datos numéricos que representan la actividad muscular en cada sensor."
   ]
  },
  {
   "cell_type": "code",
   "execution_count": 9,
   "metadata": {},
   "outputs": [
    {
     "name": "stdout",
     "output_type": "stream",
     "text": [
      "(2909, 65) (2902, 65) (2942, 65) (2921, 65)\n"
     ]
    }
   ],
   "source": [
    "print(X0.shape, X1.shape, X2.shape, X3.shape)"
   ]
  },
  {
   "attachments": {},
   "cell_type": "markdown",
   "metadata": {},
   "source": [
    "Como podemos hay más o menos el mismo número de gestos de cada tipo y el mismo número de medidas. Igualmente nos encargaremos del desbalanceo de clases para obtener mejores resultados."
   ]
  },
  {
   "attachments": {},
   "cell_type": "markdown",
   "metadata": {},
   "source": [
    "A continuación vamos a comprobar si para cada archivo está correctamente clasificada su clase:"
   ]
  },
  {
   "cell_type": "code",
   "execution_count": 10,
   "metadata": {},
   "outputs": [
    {
     "data": {
      "text/plain": [
       "(0    2909\n",
       " Name: 0, dtype: int64,\n",
       " 1    2902\n",
       " Name: 1, dtype: int64,\n",
       " 2    2942\n",
       " Name: 2, dtype: int64,\n",
       " 3    2921\n",
       " Name: 3, dtype: int64)"
      ]
     },
     "execution_count": 10,
     "metadata": {},
     "output_type": "execute_result"
    }
   ],
   "source": [
    "X0.iloc[:,-1].value_counts(), X1.iloc[:,-1].value_counts(), X2.iloc[:,-1].value_counts(), X3.iloc[:,-1].value_counts()"
   ]
  },
  {
   "attachments": {},
   "cell_type": "markdown",
   "metadata": {},
   "source": [
    "Comprobaremos también que no hay valores nulos en los datasets:"
   ]
  },
  {
   "cell_type": "code",
   "execution_count": 11,
   "metadata": {},
   "outputs": [
    {
     "data": {
      "text/plain": [
       "(0, 0, 0, 0)"
      ]
     },
     "execution_count": 11,
     "metadata": {},
     "output_type": "execute_result"
    }
   ],
   "source": [
    "X0.isna().sum().sum(), X1.isna().sum().sum(), X2.isna().sum().sum(), X3.isna().sum().sum()"
   ]
  },
  {
   "attachments": {},
   "cell_type": "markdown",
   "metadata": {},
   "source": [
    "Ahora que hemos comprobado que los datos están bien clasificados y no hay valores nulos, vamos a unir los 4 datasets en uno solo para poder trabajar con todos los datos a la vez:"
   ]
  },
  {
   "cell_type": "code",
   "execution_count": 12,
   "metadata": {},
   "outputs": [],
   "source": [
    "allFiles=['0.csv','1.csv','2.csv', '3.csv']\n",
    "\n",
    "list = []\n",
    "for file in allFiles:\n",
    "    read = pd.read_csv(file, header = None)\n",
    "    list.append(read)\n",
    "data = pd.concat(list)\n"
   ]
  },
  {
   "cell_type": "code",
   "execution_count": 13,
   "metadata": {},
   "outputs": [
    {
     "data": {
      "text/html": [
       "<div>\n",
       "<style scoped>\n",
       "    .dataframe tbody tr th:only-of-type {\n",
       "        vertical-align: middle;\n",
       "    }\n",
       "\n",
       "    .dataframe tbody tr th {\n",
       "        vertical-align: top;\n",
       "    }\n",
       "\n",
       "    .dataframe thead th {\n",
       "        text-align: right;\n",
       "    }\n",
       "</style>\n",
       "<table border=\"1\" class=\"dataframe\">\n",
       "  <thead>\n",
       "    <tr style=\"text-align: right;\">\n",
       "      <th></th>\n",
       "      <th>0</th>\n",
       "      <th>1</th>\n",
       "      <th>2</th>\n",
       "      <th>3</th>\n",
       "      <th>4</th>\n",
       "      <th>5</th>\n",
       "      <th>6</th>\n",
       "      <th>7</th>\n",
       "      <th>8</th>\n",
       "      <th>9</th>\n",
       "      <th>...</th>\n",
       "      <th>55</th>\n",
       "      <th>56</th>\n",
       "      <th>57</th>\n",
       "      <th>58</th>\n",
       "      <th>59</th>\n",
       "      <th>60</th>\n",
       "      <th>61</th>\n",
       "      <th>62</th>\n",
       "      <th>63</th>\n",
       "      <th>64</th>\n",
       "    </tr>\n",
       "  </thead>\n",
       "  <tbody>\n",
       "    <tr>\n",
       "      <th>0</th>\n",
       "      <td>26.0</td>\n",
       "      <td>4.0</td>\n",
       "      <td>5.0</td>\n",
       "      <td>8.0</td>\n",
       "      <td>-1.0</td>\n",
       "      <td>-13.0</td>\n",
       "      <td>-109.0</td>\n",
       "      <td>-66.0</td>\n",
       "      <td>-9.0</td>\n",
       "      <td>2.0</td>\n",
       "      <td>...</td>\n",
       "      <td>-28.0</td>\n",
       "      <td>61.0</td>\n",
       "      <td>4.0</td>\n",
       "      <td>8.0</td>\n",
       "      <td>5.0</td>\n",
       "      <td>4.0</td>\n",
       "      <td>-7.0</td>\n",
       "      <td>-59.0</td>\n",
       "      <td>16.0</td>\n",
       "      <td>0</td>\n",
       "    </tr>\n",
       "    <tr>\n",
       "      <th>1</th>\n",
       "      <td>-47.0</td>\n",
       "      <td>-6.0</td>\n",
       "      <td>-5.0</td>\n",
       "      <td>-7.0</td>\n",
       "      <td>13.0</td>\n",
       "      <td>-1.0</td>\n",
       "      <td>35.0</td>\n",
       "      <td>-10.0</td>\n",
       "      <td>10.0</td>\n",
       "      <td>-4.0</td>\n",
       "      <td>...</td>\n",
       "      <td>-25.0</td>\n",
       "      <td>47.0</td>\n",
       "      <td>6.0</td>\n",
       "      <td>6.0</td>\n",
       "      <td>5.0</td>\n",
       "      <td>13.0</td>\n",
       "      <td>21.0</td>\n",
       "      <td>111.0</td>\n",
       "      <td>15.0</td>\n",
       "      <td>0</td>\n",
       "    </tr>\n",
       "    <tr>\n",
       "      <th>2</th>\n",
       "      <td>-19.0</td>\n",
       "      <td>-8.0</td>\n",
       "      <td>-8.0</td>\n",
       "      <td>-8.0</td>\n",
       "      <td>-21.0</td>\n",
       "      <td>-6.0</td>\n",
       "      <td>-79.0</td>\n",
       "      <td>12.0</td>\n",
       "      <td>0.0</td>\n",
       "      <td>5.0</td>\n",
       "      <td>...</td>\n",
       "      <td>-83.0</td>\n",
       "      <td>7.0</td>\n",
       "      <td>7.0</td>\n",
       "      <td>1.0</td>\n",
       "      <td>-8.0</td>\n",
       "      <td>7.0</td>\n",
       "      <td>21.0</td>\n",
       "      <td>114.0</td>\n",
       "      <td>48.0</td>\n",
       "      <td>0</td>\n",
       "    </tr>\n",
       "    <tr>\n",
       "      <th>3</th>\n",
       "      <td>2.0</td>\n",
       "      <td>3.0</td>\n",
       "      <td>0.0</td>\n",
       "      <td>2.0</td>\n",
       "      <td>0.0</td>\n",
       "      <td>22.0</td>\n",
       "      <td>106.0</td>\n",
       "      <td>-14.0</td>\n",
       "      <td>-16.0</td>\n",
       "      <td>-2.0</td>\n",
       "      <td>...</td>\n",
       "      <td>-38.0</td>\n",
       "      <td>-11.0</td>\n",
       "      <td>4.0</td>\n",
       "      <td>7.0</td>\n",
       "      <td>11.0</td>\n",
       "      <td>33.0</td>\n",
       "      <td>39.0</td>\n",
       "      <td>119.0</td>\n",
       "      <td>43.0</td>\n",
       "      <td>0</td>\n",
       "    </tr>\n",
       "    <tr>\n",
       "      <th>4</th>\n",
       "      <td>6.0</td>\n",
       "      <td>0.0</td>\n",
       "      <td>0.0</td>\n",
       "      <td>-2.0</td>\n",
       "      <td>-14.0</td>\n",
       "      <td>10.0</td>\n",
       "      <td>-51.0</td>\n",
       "      <td>5.0</td>\n",
       "      <td>7.0</td>\n",
       "      <td>0.0</td>\n",
       "      <td>...</td>\n",
       "      <td>38.0</td>\n",
       "      <td>-35.0</td>\n",
       "      <td>-8.0</td>\n",
       "      <td>2.0</td>\n",
       "      <td>6.0</td>\n",
       "      <td>-13.0</td>\n",
       "      <td>-24.0</td>\n",
       "      <td>-112.0</td>\n",
       "      <td>-69.0</td>\n",
       "      <td>0</td>\n",
       "    </tr>\n",
       "  </tbody>\n",
       "</table>\n",
       "<p>5 rows × 65 columns</p>\n",
       "</div>"
      ],
      "text/plain": [
       "     0    1    2    3     4     5      6     7     8    9   ...    55    56  \\\n",
       "0  26.0  4.0  5.0  8.0  -1.0 -13.0 -109.0 -66.0  -9.0  2.0  ... -28.0  61.0   \n",
       "1 -47.0 -6.0 -5.0 -7.0  13.0  -1.0   35.0 -10.0  10.0 -4.0  ... -25.0  47.0   \n",
       "2 -19.0 -8.0 -8.0 -8.0 -21.0  -6.0  -79.0  12.0   0.0  5.0  ... -83.0   7.0   \n",
       "3   2.0  3.0  0.0  2.0   0.0  22.0  106.0 -14.0 -16.0 -2.0  ... -38.0 -11.0   \n",
       "4   6.0  0.0  0.0 -2.0 -14.0  10.0  -51.0   5.0   7.0  0.0  ...  38.0 -35.0   \n",
       "\n",
       "    57   58    59    60    61     62    63  64  \n",
       "0  4.0  8.0   5.0   4.0  -7.0  -59.0  16.0   0  \n",
       "1  6.0  6.0   5.0  13.0  21.0  111.0  15.0   0  \n",
       "2  7.0  1.0  -8.0   7.0  21.0  114.0  48.0   0  \n",
       "3  4.0  7.0  11.0  33.0  39.0  119.0  43.0   0  \n",
       "4 -8.0  2.0   6.0 -13.0 -24.0 -112.0 -69.0   0  \n",
       "\n",
       "[5 rows x 65 columns]"
      ]
     },
     "execution_count": 13,
     "metadata": {},
     "output_type": "execute_result"
    }
   ],
   "source": [
    "data.head()"
   ]
  },
  {
   "attachments": {},
   "cell_type": "markdown",
   "metadata": {},
   "source": [
    "Por otro lado podemos ver como los rangos de los datos son relativamente diferentes, por lo que tendremos que escalarlos para que no haya problemas a la hora de entrenar los modelos."
   ]
  },
  {
   "cell_type": "code",
   "execution_count": 14,
   "metadata": {},
   "outputs": [],
   "source": [
    "def scale(X):\n",
    "    x = X.iloc[:, :-1].values\n",
    "    s = StandardScaler()\n",
    "    x_scaled = s.fit_transform(x)\n",
    "    df_scaled = pd.DataFrame(x_scaled, columns=X.columns[:-1]) #La columna de la clase no se escala\n",
    "    df_scaled[X.columns[-1]] = X[X.columns[-1]].values\n",
    "    return df_scaled"
   ]
  },
  {
   "cell_type": "code",
   "execution_count": 15,
   "metadata": {},
   "outputs": [],
   "source": [
    "X_scal = scale(data)"
   ]
  },
  {
   "attachments": {},
   "cell_type": "markdown",
   "metadata": {},
   "source": [
    "## 3. Dataset final <a class=\"anchor\" id=\"Dataset-final\"></a>"
   ]
  },
  {
   "attachments": {},
   "cell_type": "markdown",
   "metadata": {},
   "source": [
    "El dataset final que vamos a utilizar para entrenar los modelos es el siguiente:"
   ]
  },
  {
   "cell_type": "code",
   "execution_count": 16,
   "metadata": {},
   "outputs": [
    {
     "data": {
      "text/html": [
       "<div>\n",
       "<style scoped>\n",
       "    .dataframe tbody tr th:only-of-type {\n",
       "        vertical-align: middle;\n",
       "    }\n",
       "\n",
       "    .dataframe tbody tr th {\n",
       "        vertical-align: top;\n",
       "    }\n",
       "\n",
       "    .dataframe thead th {\n",
       "        text-align: right;\n",
       "    }\n",
       "</style>\n",
       "<table border=\"1\" class=\"dataframe\">\n",
       "  <thead>\n",
       "    <tr style=\"text-align: right;\">\n",
       "      <th></th>\n",
       "      <th>0</th>\n",
       "      <th>1</th>\n",
       "      <th>2</th>\n",
       "      <th>3</th>\n",
       "      <th>4</th>\n",
       "      <th>5</th>\n",
       "      <th>6</th>\n",
       "      <th>7</th>\n",
       "      <th>8</th>\n",
       "      <th>9</th>\n",
       "      <th>...</th>\n",
       "      <th>55</th>\n",
       "      <th>56</th>\n",
       "      <th>57</th>\n",
       "      <th>58</th>\n",
       "      <th>59</th>\n",
       "      <th>60</th>\n",
       "      <th>61</th>\n",
       "      <th>62</th>\n",
       "      <th>63</th>\n",
       "      <th>64</th>\n",
       "    </tr>\n",
       "  </thead>\n",
       "  <tbody>\n",
       "    <tr>\n",
       "      <th>0</th>\n",
       "      <td>26.0</td>\n",
       "      <td>4.0</td>\n",
       "      <td>5.0</td>\n",
       "      <td>8.0</td>\n",
       "      <td>-1.0</td>\n",
       "      <td>-13.0</td>\n",
       "      <td>-109.0</td>\n",
       "      <td>-66.0</td>\n",
       "      <td>-9.0</td>\n",
       "      <td>2.0</td>\n",
       "      <td>...</td>\n",
       "      <td>-28.0</td>\n",
       "      <td>61.0</td>\n",
       "      <td>4.0</td>\n",
       "      <td>8.0</td>\n",
       "      <td>5.0</td>\n",
       "      <td>4.0</td>\n",
       "      <td>-7.0</td>\n",
       "      <td>-59.0</td>\n",
       "      <td>16.0</td>\n",
       "      <td>0</td>\n",
       "    </tr>\n",
       "    <tr>\n",
       "      <th>1</th>\n",
       "      <td>-47.0</td>\n",
       "      <td>-6.0</td>\n",
       "      <td>-5.0</td>\n",
       "      <td>-7.0</td>\n",
       "      <td>13.0</td>\n",
       "      <td>-1.0</td>\n",
       "      <td>35.0</td>\n",
       "      <td>-10.0</td>\n",
       "      <td>10.0</td>\n",
       "      <td>-4.0</td>\n",
       "      <td>...</td>\n",
       "      <td>-25.0</td>\n",
       "      <td>47.0</td>\n",
       "      <td>6.0</td>\n",
       "      <td>6.0</td>\n",
       "      <td>5.0</td>\n",
       "      <td>13.0</td>\n",
       "      <td>21.0</td>\n",
       "      <td>111.0</td>\n",
       "      <td>15.0</td>\n",
       "      <td>0</td>\n",
       "    </tr>\n",
       "    <tr>\n",
       "      <th>2</th>\n",
       "      <td>-19.0</td>\n",
       "      <td>-8.0</td>\n",
       "      <td>-8.0</td>\n",
       "      <td>-8.0</td>\n",
       "      <td>-21.0</td>\n",
       "      <td>-6.0</td>\n",
       "      <td>-79.0</td>\n",
       "      <td>12.0</td>\n",
       "      <td>0.0</td>\n",
       "      <td>5.0</td>\n",
       "      <td>...</td>\n",
       "      <td>-83.0</td>\n",
       "      <td>7.0</td>\n",
       "      <td>7.0</td>\n",
       "      <td>1.0</td>\n",
       "      <td>-8.0</td>\n",
       "      <td>7.0</td>\n",
       "      <td>21.0</td>\n",
       "      <td>114.0</td>\n",
       "      <td>48.0</td>\n",
       "      <td>0</td>\n",
       "    </tr>\n",
       "    <tr>\n",
       "      <th>3</th>\n",
       "      <td>2.0</td>\n",
       "      <td>3.0</td>\n",
       "      <td>0.0</td>\n",
       "      <td>2.0</td>\n",
       "      <td>0.0</td>\n",
       "      <td>22.0</td>\n",
       "      <td>106.0</td>\n",
       "      <td>-14.0</td>\n",
       "      <td>-16.0</td>\n",
       "      <td>-2.0</td>\n",
       "      <td>...</td>\n",
       "      <td>-38.0</td>\n",
       "      <td>-11.0</td>\n",
       "      <td>4.0</td>\n",
       "      <td>7.0</td>\n",
       "      <td>11.0</td>\n",
       "      <td>33.0</td>\n",
       "      <td>39.0</td>\n",
       "      <td>119.0</td>\n",
       "      <td>43.0</td>\n",
       "      <td>0</td>\n",
       "    </tr>\n",
       "    <tr>\n",
       "      <th>4</th>\n",
       "      <td>6.0</td>\n",
       "      <td>0.0</td>\n",
       "      <td>0.0</td>\n",
       "      <td>-2.0</td>\n",
       "      <td>-14.0</td>\n",
       "      <td>10.0</td>\n",
       "      <td>-51.0</td>\n",
       "      <td>5.0</td>\n",
       "      <td>7.0</td>\n",
       "      <td>0.0</td>\n",
       "      <td>...</td>\n",
       "      <td>38.0</td>\n",
       "      <td>-35.0</td>\n",
       "      <td>-8.0</td>\n",
       "      <td>2.0</td>\n",
       "      <td>6.0</td>\n",
       "      <td>-13.0</td>\n",
       "      <td>-24.0</td>\n",
       "      <td>-112.0</td>\n",
       "      <td>-69.0</td>\n",
       "      <td>0</td>\n",
       "    </tr>\n",
       "  </tbody>\n",
       "</table>\n",
       "<p>5 rows × 65 columns</p>\n",
       "</div>"
      ],
      "text/plain": [
       "     0    1    2    3     4     5      6     7     8    9   ...    55    56  \\\n",
       "0  26.0  4.0  5.0  8.0  -1.0 -13.0 -109.0 -66.0  -9.0  2.0  ... -28.0  61.0   \n",
       "1 -47.0 -6.0 -5.0 -7.0  13.0  -1.0   35.0 -10.0  10.0 -4.0  ... -25.0  47.0   \n",
       "2 -19.0 -8.0 -8.0 -8.0 -21.0  -6.0  -79.0  12.0   0.0  5.0  ... -83.0   7.0   \n",
       "3   2.0  3.0  0.0  2.0   0.0  22.0  106.0 -14.0 -16.0 -2.0  ... -38.0 -11.0   \n",
       "4   6.0  0.0  0.0 -2.0 -14.0  10.0  -51.0   5.0   7.0  0.0  ...  38.0 -35.0   \n",
       "\n",
       "    57   58    59    60    61     62    63  64  \n",
       "0  4.0  8.0   5.0   4.0  -7.0  -59.0  16.0   0  \n",
       "1  6.0  6.0   5.0  13.0  21.0  111.0  15.0   0  \n",
       "2  7.0  1.0  -8.0   7.0  21.0  114.0  48.0   0  \n",
       "3  4.0  7.0  11.0  33.0  39.0  119.0  43.0   0  \n",
       "4 -8.0  2.0   6.0 -13.0 -24.0 -112.0 -69.0   0  \n",
       "\n",
       "[5 rows x 65 columns]"
      ]
     },
     "execution_count": 16,
     "metadata": {},
     "output_type": "execute_result"
    }
   ],
   "source": [
    "data.head()"
   ]
  },
  {
   "cell_type": "code",
   "execution_count": 17,
   "metadata": {},
   "outputs": [
    {
     "data": {
      "text/plain": [
       "(11678, 65)"
      ]
     },
     "execution_count": 17,
     "metadata": {},
     "output_type": "execute_result"
    }
   ],
   "source": [
    "data.shape"
   ]
  },
  {
   "attachments": {},
   "cell_type": "markdown",
   "metadata": {},
   "source": [
    "Es decir 11678 filas y 65 columnas."
   ]
  },
  {
   "cell_type": "code",
   "execution_count": 18,
   "metadata": {},
   "outputs": [
    {
     "data": {
      "text/plain": [
       "2    2943\n",
       "3    2922\n",
       "0    2910\n",
       "1    2903\n",
       "Name: 64, dtype: int64"
      ]
     },
     "execution_count": 18,
     "metadata": {},
     "output_type": "execute_result"
    }
   ],
   "source": [
    "data.iloc[:,-1].value_counts()"
   ]
  },
  {
   "attachments": {},
   "cell_type": "markdown",
   "metadata": {},
   "source": [
    "## 4. Separación en entrenamiento, validación y test <a class=\"anchor\" id=\"Separación-en-entrenamiento,-validación-y-test\"></a>"
   ]
  },
  {
   "attachments": {},
   "cell_type": "markdown",
   "metadata": {},
   "source": [
    "Deberemos dividir de manera distinta para los modelos de clasificación y los de regresión. Para los modelos de clasificación, dividiremos en entrenamiento, validación y test, mientras que para los de regresión, dividiremos en entrenamiento y test. Además para el de regresión usaremos dos el dataset de piedra y el de tijeras de manera que haya dos posibles salidas y podamos aplicar la función sigmoide para calcular la probabilidad de que sea una u otra, mientras que para el de clasificación usaremos todos los gestos."
   ]
  },
  {
   "attachments": {},
   "cell_type": "markdown",
   "metadata": {},
   "source": [
    "#### Regresión"
   ]
  },
  {
   "attachments": {},
   "cell_type": "markdown",
   "metadata": {},
   "source": [
    "Primero sacaremos los datos de piedra y tijeras para el modelo de regresión:"
   ]
  },
  {
   "cell_type": "code",
   "execution_count": 19,
   "metadata": {},
   "outputs": [],
   "source": [
    "allFiles=['0.csv','1.csv']\n",
    "\n",
    "list = []\n",
    "for file in allFiles:\n",
    "    read = pd.read_csv(file, header = None)\n",
    "    list.append(read)\n",
    "data_reg = pd.concat(list)"
   ]
  },
  {
   "attachments": {},
   "cell_type": "markdown",
   "metadata": {},
   "source": [
    "Los normalizamos:"
   ]
  },
  {
   "cell_type": "code",
   "execution_count": 20,
   "metadata": {},
   "outputs": [],
   "source": [
    "X_reg_scal = scale(data_reg)"
   ]
  },
  {
   "cell_type": "code",
   "execution_count": 21,
   "metadata": {},
   "outputs": [],
   "source": [
    "X_R = X_reg_scal.iloc[:, :-1].values\n",
    "y_R = X_reg_scal.iloc[:, -1].values"
   ]
  },
  {
   "attachments": {},
   "cell_type": "markdown",
   "metadata": {},
   "source": [
    "Y los dividimos en entrenamiento y test (70-30):"
   ]
  },
  {
   "cell_type": "code",
   "execution_count": 22,
   "metadata": {},
   "outputs": [],
   "source": [
    "X_trainR, X_testR, y_trainR, y_testR = train_test_split(X_R, y_R, test_size=0.30, random_state=RANDOM_STATE, stratify=y_R)"
   ]
  },
  {
   "cell_type": "code",
   "execution_count": 23,
   "metadata": {},
   "outputs": [
    {
     "data": {
      "text/plain": [
       "((4069, 64), (1744, 64))"
      ]
     },
     "execution_count": 23,
     "metadata": {},
     "output_type": "execute_result"
    }
   ],
   "source": [
    "X_trainR.shape, X_testR.shape"
   ]
  },
  {
   "attachments": {},
   "cell_type": "markdown",
   "metadata": {},
   "source": [
    "#### Clasificación"
   ]
  },
  {
   "attachments": {},
   "cell_type": "markdown",
   "metadata": {},
   "source": [
    "Dividiremos en 60-20-20 para entrenamiento, test y validación. Aunque las clases están balanceadas, utilizaremos la función de sklearn para asegurarnos de que se mantienen las proporciones de cada clase en cada conjunto."
   ]
  },
  {
   "cell_type": "code",
   "execution_count": 24,
   "metadata": {},
   "outputs": [],
   "source": [
    "X_train, X, y_train, y = train_test_split(X_scal.iloc[:, :-1], X_scal.iloc[:, -1],test_size=0.4, random_state=RANDOM_STATE, stratify=X_scal.iloc[:, -1])\n",
    "X_val, X_test, y_val, y_test = train_test_split(X, y, test_size=0.5, random_state=RANDOM_STATE, stratify=y)"
   ]
  },
  {
   "cell_type": "code",
   "execution_count": 25,
   "metadata": {},
   "outputs": [
    {
     "data": {
      "text/plain": [
       "((7006, 64), (2336, 64), (2336, 64))"
      ]
     },
     "execution_count": 25,
     "metadata": {},
     "output_type": "execute_result"
    }
   ],
   "source": [
    "X_train.shape, X_val.shape, X_test.shape"
   ]
  },
  {
   "attachments": {},
   "cell_type": "markdown",
   "metadata": {},
   "source": [
    "# 5. Regresión logística <a class=\"anchor\" id=\"Reg-logística\"></a>"
   ]
  },
  {
   "attachments": {},
   "cell_type": "markdown",
   "metadata": {},
   "source": [
    "Primero estudiaremos los datos para ver cómo de fuerte es la correlación entre las variables, esto es la relación lineal existente entre ellas, y si hay alguna que no aporta información. \n",
    "\n",
    "Para ello usaremos la matriz de correlación ya que son demasiados valores para verlos en una tabla:"
   ]
  },
  {
   "cell_type": "code",
   "execution_count": 26,
   "metadata": {},
   "outputs": [
    {
     "data": {
      "text/plain": [
       "<Axes: >"
      ]
     },
     "execution_count": 26,
     "metadata": {},
     "output_type": "execute_result"
    },
    {
     "data": {
      "image/png": "[encoded data removed]",
      "text/plain": [
       "<Figure size 640x480 with 2 Axes>"
      ]
     },
     "metadata": {},
     "output_type": "display_data"
    }
   ],
   "source": [
    "corr_matrix = X_reg_scal.corr()\n",
    "corr_matrix.to_csv('corr_matrix.csv', index=False)\n",
    "sns.heatmap(corr_matrix, cmap='coolwarm')"
   ]
  },
  {
   "attachments": {},
   "cell_type": "markdown",
   "metadata": {},
   "source": [
    "Podemos observar aquí que el único caso en el que tenemos un color rojo (1.0 en correlación) es en la diagonal lo cual es evidente ya que una variable está correlacionada consigo misma. Esto nos indica que no hay variables que estén linealmente relacionadas entre sí y que todas aportan información. La máxima correlación que tenemos es de 0.6 en menos de 10 variables (lo que se puede ver de color más clarito, esto se puede comprobar em corr_matrix.csv) pero en general se pueden ver colores más oscuros, lo cual indica que la correlación es baja. Esto nos indica que no es una relación lineal fuerte y por tanto puede ser no lineal así que mapearemos los datos a un espacio de mayor dimensión para ver si podemos separarlos linealmente."
   ]
  },
  {
   "attachments": {},
   "cell_type": "markdown",
   "metadata": {},
   "source": [
    "#### Constantes:"
   ]
  },
  {
   "cell_type": "code",
   "execution_count": 27,
   "metadata": {},
   "outputs": [],
   "source": [
    "iteraciones = 20\n",
    "degree = 2"
   ]
  },
  {
   "attachments": {},
   "cell_type": "markdown",
   "metadata": {},
   "source": [
    "#### Funciones necesarias para la regresión logística:"
   ]
  },
  {
   "attachments": {},
   "cell_type": "markdown",
   "metadata": {},
   "source": [
    "Mapeo de los atributos:\n",
    "Hemos visto que las variables no presentan una correlación muy fuerte entre ellas, no obstante puede ser que presenten una relación no lineal entre ellas. Por ello, vamos a mapear los atributos a un espacio de mayor dimensión para ver si así se puede obtener un mejor resultado. Usaremos la función PolynomialFeatures de sklearn."
   ]
  },
  {
   "cell_type": "code",
   "execution_count": 28,
   "metadata": {},
   "outputs": [],
   "source": [
    "def map_features(X, degree):\n",
    "    poly = PolynomialFeatures(degree=degree, include_bias=False)\n",
    "    X_poly = poly.fit_transform(X)\n",
    "    return X_poly"
   ]
  },
  {
   "attachments": {},
   "cell_type": "markdown",
   "metadata": {},
   "source": [
    "1. Cálculo de la función de coste y su gradiente"
   ]
  },
  {
   "attachments": {},
   "cell_type": "markdown",
   "metadata": {},
   "source": [
    "Definición de la función sigmoide a la que se le pasa el vector w, el valor de b y el vector x y se hace el producto escalar para calcular z."
   ]
  },
  {
   "cell_type": "code",
   "execution_count": 29,
   "metadata": {},
   "outputs": [],
   "source": [
    "def func_sigmoide(x, w, b):\n",
    "    z = np.dot(x,w)+b\n",
    "    return 1/(1+np.exp(-z))"
   ]
  },
  {
   "attachments": {},
   "cell_type": "markdown",
   "metadata": {},
   "source": [
    "Función que devuelve la predicción según el modelo entrenado."
   ]
  },
  {
   "cell_type": "code",
   "execution_count": 30,
   "metadata": {},
   "outputs": [],
   "source": [
    "def predict(X, w, b, degree):\n",
    "    XX = map_features(X, degree)\n",
    "    y_hat= func_sigmoide(XX, w, b)\n",
    "    y_hat = np.where(y_hat >= 0.5, 1, 0)\n",
    "    return y_hat"
   ]
  },
  {
   "attachments": {
    "image.png": {
     "image/png": "[encoded data removed]"
    }
   },
   "cell_type": "markdown",
   "metadata": {},
   "source": [
    "Función de coste regularizada: (siendo θ nuestro w,b)\n",
    "\n",
    "![image.png](attachment:image.png)\n",
    "\n",
    "*Figura 1: Función de coste regularizada*"
   ]
  },
  {
   "cell_type": "code",
   "execution_count": 31,
   "metadata": {},
   "outputs": [],
   "source": [
    "def func_coste(X, Y, w, b, L):\n",
    "    m = len(Y)\n",
    "    f = func_sigmoide(X, w, b)\n",
    "    coste = (-1/m)*np.sum(Y*np.log(f)+(1-Y)*np.log(1-f))\n",
    "    coste += (L/(2*m))*np.sum(w**2)\n",
    "    return coste"
   ]
  },
  {
   "attachments": {
    "image-2.png": {
     "image/png": "[encoded data removed]"
    },
    "image.png": {
     "image/png": "[encoded data removed]"
    }
   },
   "cell_type": "markdown",
   "metadata": {},
   "source": [
    "La función del cálculo de gradiente con regularización es:\n",
    "\n",
    "Para w:\n",
    "\n",
    "![image.png](attachment:image.png)\n",
    "\n",
    "Para b:\n",
    "\n",
    "![image.png](attachment:image-2.png)\n",
    "\n",
    "*Figuras 2 y 3: Gradiente de la función de coste regularizada*\n"
   ]
  },
  {
   "cell_type": "code",
   "execution_count": 32,
   "metadata": {},
   "outputs": [],
   "source": [
    "def funcion_grad(X, y, w, b, L):\n",
    "    m = X.shape[0] #antes len(y)\n",
    "    gw = np.zeros(w.shape)\n",
    "    gb = 0\n",
    "    y_hat = func_sigmoide(X, w, b)\n",
    "    dif = y_hat-y\n",
    "    \n",
    "    gb = np.sum(dif)/m                                    \n",
    "    gw = (1/m) * np.dot(dif,X) + L*w/m\n",
    "    \n",
    "    return gw, gb"
   ]
  },
  {
   "cell_type": "code",
   "execution_count": 33,
   "metadata": {},
   "outputs": [],
   "source": [
    "def funcion_grad_desc(X, y, w, b, alpha, num_iter, L):   \n",
    "    for i in range(num_iter):\n",
    "        gw, gb = funcion_grad(X, y, w, b, L)\n",
    "        w = w - alpha*gw\n",
    "        b = b - alpha*gb\n",
    "    return w, b"
   ]
  },
  {
   "attachments": {},
   "cell_type": "markdown",
   "metadata": {},
   "source": [
    "## Adaptación"
   ]
  },
  {
   "attachments": {},
   "cell_type": "markdown",
   "metadata": {},
   "source": [
    "Vamos a adaptar nuestros datos ya que, como ya ha sido mencionado, no son linealmente separables. Para ello vamos a usar la función PolynomialFeatures de sklearn que nos permite mapear los atributos a un espacio de mayor dimensión. En este caso, vamos a probar a mapearlos con grado 2. Elegimos este grado ya que si lo ponemos más alto, el tiempo de ejecución se dispara y el gasto en memoria es enorme y no obtenemos mejores resultados. (Si lo hacemos de grado 3 en vez de 2144 columnas tenemos 278401)"
   ]
  },
  {
   "cell_type": "code",
   "execution_count": 34,
   "metadata": {},
   "outputs": [
    {
     "data": {
      "text/plain": [
       "(4069, 2144)"
      ]
     },
     "execution_count": 34,
     "metadata": {},
     "output_type": "execute_result"
    }
   ],
   "source": [
    "XX_train = map_features(X_trainR, degree)\n",
    "XX_train.shape"
   ]
  },
  {
   "attachments": {},
   "cell_type": "markdown",
   "metadata": {},
   "source": [
    "## Ajuste\n",
    "\n",
    "Haremos una regresión logística con regularización, para ello probaremos con diferentes valores de lambda y veremos cuál es el que mejor resultado nos da. \n",
    "Los valores que vamos a probar son:\n",
    "\n",
    "Lambda: 0.1, 1, 2, 4, 6, 8, 10\n",
    "\n",
    "Alpha: 0.001, 0.01, 0.1\n",
    "\n",
    "Por último las iteraciones las establecemos en 100, ya que con más iteraciones el tiempo de ejecución se dispara además de que se produce sobreajuste."
   ]
  },
  {
   "cell_type": "code",
   "execution_count": 35,
   "metadata": {},
   "outputs": [],
   "source": [
    "def regresion_logistica(X, y, alpha, num_iter, L):\n",
    "    w, b = funcion_grad_desc(X, y, np.zeros(X.shape[1]), 0, alpha, num_iter, L)\n",
    "    return w, b"
   ]
  },
  {
   "cell_type": "code",
   "execution_count": 36,
   "metadata": {},
   "outputs": [
    {
     "name": "stdout",
     "output_type": "stream",
     "text": [
      "Lambda:  0.001\n",
      "    Alpha:  0.1 Train:  99.65593511919391 Test:  99.2545871559633\n",
      "    Alpha:  0.01 Train:  98.84492504300812 Test:  98.5091743119266\n",
      "    Alpha:  0.001 Train:  91.79159498648316 Test:  91.05504587155964\n",
      "Lambda:  0.1\n",
      "    Alpha:  0.1 Train:  99.65593511919391 Test:  99.2545871559633\n",
      "    Alpha:  0.01 Train:  98.84492504300812 Test:  98.5091743119266\n",
      "    Alpha:  0.001 Train:  91.79159498648316 Test:  91.05504587155964\n",
      "Lambda:  1\n",
      "    Alpha:  0.1 Train:  99.65593511919391 Test:  99.2545871559633\n",
      "    Alpha:  0.01 Train:  98.84492504300812 Test:  98.5091743119266\n",
      "    Alpha:  0.001 Train:  91.79159498648316 Test:  91.05504587155964\n",
      "Lambda:  10\n",
      "    Alpha:  0.1 Train:  99.65593511919391 Test:  99.2545871559633\n",
      "    Alpha:  0.01 Train:  98.84492504300812 Test:  98.5091743119266\n",
      "    Alpha:  0.001 Train:  91.79159498648316 Test:  91.05504587155964\n",
      "Lambda:  50\n",
      "    Alpha:  0.1 Train:  99.65593511919391 Test:  99.31192660550458\n",
      "    Alpha:  0.01 Train:  98.84492504300812 Test:  98.5091743119266\n",
      "    Alpha:  0.001 Train:  91.79159498648316 Test:  91.05504587155964\n",
      "Lambda:  100\n",
      "    Alpha:  0.1 Train:  99.65593511919391 Test:  99.31192660550458\n",
      "    Alpha:  0.01 Train:  98.84492504300812 Test:  98.5091743119266\n",
      "    Alpha:  0.001 Train:  91.79159498648316 Test:  91.05504587155964\n"
     ]
    }
   ],
   "source": [
    "Ls = [0.001, 0.1, 1, 10, 50, 100]\n",
    "alphas = [0.1, 0.01, 0.001]\n",
    "\n",
    "train_acc = []\n",
    "test_acc = []\n",
    "for l in Ls:\n",
    "    print (\"Lambda: \", l)\n",
    "    train_list = []\n",
    "    test_list = []\n",
    "    for a in alphas:\n",
    "        w, b = regresion_logistica(XX_train, y_trainR, a, iteraciones, l)\n",
    "        \n",
    "        y_hat_train = predict(X_trainR, w, b, degree)\n",
    "        train = np.mean(y_hat_train == y_trainR)*100\n",
    "        \n",
    "        y_hat = predict(X_testR, w, b, degree)\n",
    "        test = np.mean(y_hat == y_testR)*100\n",
    "        \n",
    "        print (\"    Alpha: \", a, \"Train: \", train, \"Test: \", test)\n",
    "        train_list.append(train)\n",
    "        test_list.append(test)\n",
    "    \n",
    "    train_acc.append(train_list)\n",
    "    test_acc.append(test_list)  "
   ]
  },
  {
   "attachments": {},
   "cell_type": "markdown",
   "metadata": {},
   "source": [
    "Podemos ver que la regularización apenas tiene efecto en el modelo, esto se puede deber a que el modelo obtiene un buen resultado tanto en entrenamiento como en test y no necesita una medida extra para evitar el sobreajuste. No obstante, podemos ver que entre alpha=0.1 y alpha=0.01 hay una diferencia mínima en las precisiones de entrenamiento y test, por lo que elegiremos alpha=0.1 ya que es el que mejor resultado nos da.\n",
    "\n",
    "Por otro lado podemos ver que el modelo se ajusta muy bien a los datos de entrenamiento y test, aunque la precisión de test es ligeramente menor que la de entrenamiento, que es normal. Por tanto, podemos decir que el modelo no sufre de sobreajuste."
   ]
  },
  {
   "attachments": {},
   "cell_type": "markdown",
   "metadata": {},
   "source": [
    "Podemos comparar estos resultados con los obtenidos con el método de sklearn:"
   ]
  },
  {
   "cell_type": "code",
   "execution_count": 37,
   "metadata": {},
   "outputs": [
    {
     "name": "stdout",
     "output_type": "stream",
     "text": [
      "Precisión:  0.9936926605504587\n"
     ]
    }
   ],
   "source": [
    "regresion = LogisticRegression(penalty='l1', solver='liblinear')\n",
    "\n",
    "regresion.fit(XX_train, y_trainR)\n",
    "\n",
    "y_pred = regresion.predict(map_features(X_testR, degree))\n",
    "\n",
    "accuracy = regresion.score(map_features(X_testR, degree), y_testR)\n",
    "print(\"Precisión: \", accuracy)\n"
   ]
  },
  {
   "attachments": {},
   "cell_type": "markdown",
   "metadata": {},
   "source": [
    "En este caso hemos hecho un modelo con regularización L1 a través del parámetro penalty = 'l1', a diferencia de la regulrización que estabamos usando antes esta regularización fuerza a que algunos atributos sean 0 y por tanto no se tengan en cuenta. En este caso, podemos ver que el modelo obtiene un resultado muy similar al nuestro. En ambos casos el modelo no sufre de sobreajuste y obtiene un resultado muy bueno tanto en entrenamiento como en test."
   ]
  },
  {
   "attachments": {},
   "cell_type": "markdown",
   "metadata": {},
   "source": [
    "4. Pintamos la curva de aprendizaje según los distintos valores de lambda con sus valores de alpha:"
   ]
  },
  {
   "cell_type": "code",
   "execution_count": 38,
   "metadata": {},
   "outputs": [
    {
     "data": {
      "image/png": "[encoded data removed]",
      "text/plain": [
       "<Figure size 640x480 with 1 Axes>"
      ]
     },
     "metadata": {},
     "output_type": "display_data"
    }
   ],
   "source": [
    "for i in range(len(Ls)):\n",
    "    plt.plot(alphas, test_acc[i], label='Lambda='+str(Ls[i]))\n",
    "\n",
    "plt.xlabel('Tasa de aprendizaje')\n",
    "plt.ylabel('Precisión (%)')\n",
    "plt.title('Precisiones de test para diferentes valores de lambda y alpha')\n",
    "plt.legend()\n",
    "plt.show()\n"
   ]
  },
  {
   "attachments": {},
   "cell_type": "markdown",
   "metadata": {},
   "source": [
    "Analizando los resultados, podemos observar que para todos los valores de lambda y alpha, el modelo presenta un alto rendimiento con los datos de entrenamiento, con una precisión cercana al 100%. Además, en el conjunto de prueba, los resultados apenas difieren y en general, la precisión es practicamente igual que en el conjunto de entrenamiento.\n",
    "\n",
    "Por otro lado, al variar el valor de lambda no se aprecia una mejora en el rendimiento del modelo, lo cual sugiere que la regularización no es necesaria para nuestros datos. En cuanto a la tasa de aprendizaje, se puede observar que el mejor rendimiento se obtiene con un valor de alpha de 0.1, aunque la diferencia en la precisión entre los diferentes valores de alpha es muy pequeña.\n",
    "\n",
    "En general, estos resultados sugieren que el modelo de regresión logística es capaz de ajustarse adecuadamente a los datos de entrenamiento.\n"
   ]
  },
  {
   "attachments": {},
   "cell_type": "markdown",
   "metadata": {},
   "source": [
    "## Resultados"
   ]
  },
  {
   "attachments": {},
   "cell_type": "markdown",
   "metadata": {},
   "source": [
    "El modelo de regresión logística con regularización es el siguiente:"
   ]
  },
  {
   "cell_type": "code",
   "execution_count": 39,
   "metadata": {},
   "outputs": [],
   "source": [
    "lambda_reg = 0 \n",
    "alpha_reg = 0.1\n",
    "degree = 2"
   ]
  },
  {
   "attachments": {},
   "cell_type": "markdown",
   "metadata": {},
   "source": [
    "Ya hemos visto que la regularización apenas tiene efecto en el modelo, esto se puede deber a que el modelo obtiene un buen resultado tanto en entrenamiento como en test y no necesita una medida extra para evitar el sobreajuste. No obstante, podemos ver que entre alpha=0.1 y alpha=0.01 hay una diferencia mínima en las precisiones de entrenamiento y test, por lo que elegiremos alpha=0.1 ya que es el que mejor resultado nos da."
   ]
  },
  {
   "cell_type": "code",
   "execution_count": 40,
   "metadata": {},
   "outputs": [
    {
     "name": "stdout",
     "output_type": "stream",
     "text": [
      "Precisión de entrenamiento:  99.65593511919391 %\n",
      "Precisión de test:  99.2545871559633 %\n"
     ]
    }
   ],
   "source": [
    "w, b = regresion_logistica(XX_train, y_trainR, alpha_reg, iteraciones, lambda_reg)\n",
    "        \n",
    "y_hat_train = predict(X_trainR, w, b, degree)\n",
    "y_hat = predict(X_testR, w, b, degree)\n",
    "\n",
    "print(\"Precisión de entrenamiento: \", np.mean(y_hat_train == y_trainR)*100, \"%\")\n",
    "y_hat = predict(X_testR, w, b, degree)\n",
    "print(\"Precisión de test: \", np.mean(y_hat == y_testR)*100, \"%\")"
   ]
  },
  {
   "attachments": {},
   "cell_type": "markdown",
   "metadata": {},
   "source": [
    "Obtenemos una precisión de 99.65% en entrenamiento y 99.25% en test. Estos resultados son muy buenos y podemos deducir de los datos que no las variables presentan una relación no lineal entre ellas. Esto lo sabemos porque hemos mapeado los datos a un espacio de mayor dimensión y hemos obtenido un resultado muy bueno ya que si se hace sin mapearlos se obtiene como mucho un 60% de precisión. De cualquier manera esto se podía intuir ya que en la matriz de correlación no se veían variables que estuvieran linealmente relacionadas entre sí.  "
   ]
  },
  {
   "attachments": {},
   "cell_type": "markdown",
   "metadata": {},
   "source": [
    "## Estudio de la precisión"
   ]
  },
  {
   "attachments": {},
   "cell_type": "markdown",
   "metadata": {},
   "source": [
    "Podemos ver la matriz de confusión para ver cómo de bien clasifica el modelo:"
   ]
  },
  {
   "cell_type": "code",
   "execution_count": 41,
   "metadata": {},
   "outputs": [
    {
     "data": {
      "image/png": "[encoded data removed]",
      "text/plain": [
       "<Figure size 640x480 with 2 Axes>"
      ]
     },
     "metadata": {},
     "output_type": "display_data"
    }
   ],
   "source": [
    "f,ax = plt.subplots()\n",
    "labels = [\"Piedra\", \"Tijeras\"]\n",
    "matriz_conf = confusion_matrix(y_testR,y_hat)\n",
    "sns.heatmap(matriz_conf, annot=True, ax=ax, fmt='g', xticklabels=labels, yticklabels=labels)\n",
    "plt.xlabel(\"Clase asignada\")\n",
    "plt.ylabel(\"Clase real\")\n",
    "plt.title(\"Matriz de confusión\")\n",
    "plt.show()"
   ]
  },
  {
   "attachments": {},
   "cell_type": "markdown",
   "metadata": {},
   "source": [
    "Esta matriz muestra la cantidad de verdaderos Piedra y Tijeras que se han clasificado correctamente y los falsos Piedra y Tijeras que se han clasificado incorrectamente. Podemos ver que el modelo clasifica muy bien los datos, ya que solo se han clasificado incorrectamente 6 Piedra y 7 Tijeras de 1744."
   ]
  },
  {
   "attachments": {},
   "cell_type": "markdown",
   "metadata": {},
   "source": [
    "\n",
    "\n",
    "Por otro lado podemos ver la precisión, recall y f1-score para cada clase:"
   ]
  },
  {
   "cell_type": "code",
   "execution_count": 42,
   "metadata": {},
   "outputs": [
    {
     "name": "stdout",
     "output_type": "stream",
     "text": [
      "              precision    recall  f1-score   support\n",
      "\n",
      "           0       0.99      0.99      0.99       873\n",
      "           1       0.99      0.99      0.99       871\n",
      "\n",
      "    accuracy                           0.99      1744\n",
      "   macro avg       0.99      0.99      0.99      1744\n",
      "weighted avg       0.99      0.99      0.99      1744\n",
      "\n"
     ]
    }
   ],
   "source": [
    "print(classification_report(y_testR, y_hat))"
   ]
  },
  {
   "attachments": {},
   "cell_type": "markdown",
   "metadata": {},
   "source": [
    "Aquí podemos ver información sobre la precisión, el recall y F1-score para cada clase y su media ponderada. En este caso, para ambas clases se obtiene una precisión del 99% lo que muestra que el modelo ha tenido una tasa muy baja de falsos Piedra y de falsos Tijeras. El recall también es de 99% lo que nos indica que el modelo ha sido capaz de recuperar la gran mayoría de '1' es decir, tijeras y por tanto ha tenido una tasa muy baja de falsos negativos. Por último, el F1-score es de 99% lo que nos indica que el modelo ha tenido un buen balance entre precisión y recall.\n",
    "\n",
    "La media de estas metricas es, por tanto, del 99% lo que nos indica que el modelo entrenado con regresión logística ha tenido un buen rendimiento general."
   ]
  },
  {
   "attachments": {},
   "cell_type": "markdown",
   "metadata": {},
   "source": [
    "# 6. Red neuronal multiclase <a class=\"anchor\" id=\"Red-neuronal\"></a> "
   ]
  },
  {
   "attachments": {},
   "cell_type": "markdown",
   "metadata": {},
   "source": [
    "Vamos a desarrollar una red neuronal para clasificar los gestos. Exploraremos el proceso de construcción, entrenamiento y evaluación de una red neuronal multicapa. Para ello usaremos la librería Keras de Tensor Flow.\n",
    "\n",
    "En este caso ya usaremos los cuatro gestos para entrenar el modelo cuyo objetivo es clasificarlo en uno de estos, por lo que usaremos el dataset de clasificación. \n",
    "\n",
    "Se trata de un problema de clasificación multiclase, por lo que usaremos:\n",
    "- **Función de activación softmax** en la capa de salida. Esta función es una generalización de la función sigmoide para más de dos clases la cual devuelve un vector de probabilidades de que la entrada pertenezca a cada una de las clases (una distribución de probabilidad). \n",
    "- **Optimizador Adam**, el cual utiliza una tasa de aprendizaje adaptativa para cada parámetro en lugar de una global y que, además, es una buena opción por su eficiencia computacional y su capacidad para manejar problemas con muchos datos y parámetros. \n",
    "- La función de coste que usaremos será la **entropía cruzada categórica**, la cual es la más utilizada para problemas de clasificación multiclase.\n",
    "- Por último, en las capas ocultas usaremos la función de **activación ReLU**, la cual es la más utilizada en redes neuronales ya que es muy eficiente computacionalmente."
   ]
  },
  {
   "attachments": {},
   "cell_type": "markdown",
   "metadata": {},
   "source": [
    "Los datos de entrada son los valores de los sensores y la salida es un vector de 4 posiciones con la probabilidad de que la entrada pertenezca a cada una de las clases.\n",
    "\n",
    "Estos datos están ya normalizados y divididos en entrenamiento, validación y test. Recordemos qué datos tenemos:"
   ]
  },
  {
   "cell_type": "code",
   "execution_count": 43,
   "metadata": {},
   "outputs": [
    {
     "data": {
      "text/plain": [
       "((7006, 64), (2336, 64), (2336, 64))"
      ]
     },
     "execution_count": 43,
     "metadata": {},
     "output_type": "execute_result"
    }
   ],
   "source": [
    "X_train.shape, X_val.shape, X_test.shape"
   ]
  },
  {
   "attachments": {},
   "cell_type": "markdown",
   "metadata": {},
   "source": [
    "En total tenemos 7006 datos de entrenamiento, 2336 de validación y 2336 de test. Además son 64 columnas, es decir, la cantidad de datos de entrenamiento es bastante alta, por lo que usaremos un modelo complejo con regularización."
   ]
  },
  {
   "attachments": {},
   "cell_type": "markdown",
   "metadata": {},
   "source": [
    "Modelo con 150 unidades en la primera capa, 50 en la segunda y 4 en la de salida:"
   ]
  },
  {
   "attachments": {},
   "cell_type": "markdown",
   "metadata": {},
   "source": [
    "## Adaptación"
   ]
  },
  {
   "attachments": {},
   "cell_type": "markdown",
   "metadata": {},
   "source": [
    "Al igual que hicimos en la regresión logística, vamos a mapear los datos a un espacio de mayor dimensión ya que esto ha dado un buen resultado en la regresión y al final cada neurona de una red neuronal aplica el mismo método. Para ello usaremos la función PolynomialFeatures de sklearn:"
   ]
  },
  {
   "cell_type": "code",
   "execution_count": 44,
   "metadata": {},
   "outputs": [],
   "source": [
    "XX_train = map_features(X_train, degree)\n",
    "XX_val = map_features(X_val, degree)\n",
    "XX_test = map_features(X_test, degree)"
   ]
  },
  {
   "cell_type": "code",
   "execution_count": 45,
   "metadata": {},
   "outputs": [
    {
     "data": {
      "text/plain": [
       "((7006, 2144), (2336, 2144), (2336, 2144))"
      ]
     },
     "execution_count": 45,
     "metadata": {},
     "output_type": "execute_result"
    }
   ],
   "source": [
    "XX_train.shape, XX_val.shape, XX_test.shape"
   ]
  },
  {
   "attachments": {},
   "cell_type": "markdown",
   "metadata": {},
   "source": [
    "## Ajuste"
   ]
  },
  {
   "attachments": {},
   "cell_type": "markdown",
   "metadata": {},
   "source": [
    "Los hiperparámetros que vamos a ajustar son:\n",
    "\n",
    "- **Tasa de aprendizaje** que es la tasa de aprendizaje del optimizador Adam\n",
    "- **Número de neuronas** en la capa oculta\n",
    "- **Número de iteraciones** que es el número de veces que se entrena el modelo\n",
    "\n",
    "La tasa de aprendizaje es importante ya que si es demasiado baja, el modelo puede tardar mucho en aprender y si es demasiado alta, el modelo puede no converger. En este caso probaremos con valores entre 0.0.001 y 1.\n",
    "\n",
    "El número de neuronas puede afectar a la precisión ya que si es demasiado bajo, el modelo no tendrá suficiente capacidad para aprender y si es demasiado alto, el modelo puede sobreajustarse a los datos de entrenamiento. En este caso probaremos con valores entre 10 y 150.\n",
    "\n",
    "Por último, el número de iteraciones, si es demasiado bajo el modelo no tendrá tiempo de aprender lo suficiente y si es demasiado alto, como en el caso de las neuronas, el modelo puede sobreajustarse a los datos de entrenamiento. Probaremos con valores entre 20 y 100."
   ]
  },
  {
   "cell_type": "code",
   "execution_count": 46,
   "metadata": {},
   "outputs": [],
   "source": [
    "from scikeras.wrappers import KerasClassifier\n",
    "from keras.optimizers import Adam\n",
    "from keras.callbacks import EarlyStopping\n",
    "from bayes_opt import BayesianOptimization"
   ]
  },
  {
   "cell_type": "code",
   "execution_count": 71,
   "metadata": {},
   "outputs": [],
   "source": [
    "def nn_cl_bo(neurons, learning_rate,  batch_size, epochs, layers, lmda):\n",
    "    neurons = round(neurons)\n",
    "    batch_size = round(batch_size)\n",
    "    epochs = round(epochs)\n",
    "    layers = round(layers)\n",
    "    \n",
    "    def nn_cl_fun():\n",
    "        nn = Sequential()\n",
    "        nn.add(Dense(neurons, input_dim=XX_train.shape[1], activation='relu', kernel_regularizer=tf.keras.regularizers.l2(lmda)))\n",
    "        for i in range(layers):\n",
    "            nn.add(Dense(neurons, activation='relu', kernel_regularizer=tf.keras.regularizers.l2(lmda)))\n",
    "        nn.add(Dense(4, activation='softmax'))\n",
    "        nn.compile(loss='SparseCategoricalCrossentropy', optimizer=Adam(learning_rate= learning_rate), metrics=['accuracy'])\n",
    "        return nn\n",
    "    \n",
    "    es = EarlyStopping(monitor='accuracy', mode='max', verbose=0, patience=20)\n",
    "    nn = KerasClassifier(model=nn_cl_fun, epochs=epochs, batch_size=batch_size, verbose=0, random_state=RANDOM_STATE)\n",
    "    \n",
    "    nn.fit(XX_train, y_train, validation_data = (XX_val, y_val),callbacks=[es], batch_size=batch_size, epochs=epochs)\n",
    "    return nn.score(XX_test, y_test)"
   ]
  },
  {
   "cell_type": "code",
   "execution_count": 72,
   "metadata": {},
   "outputs": [],
   "source": [
    "params_nn ={\n",
    "    'neurons': (50, 150),\n",
    "    'learning_rate':(0.001, 0.1),\n",
    "    'batch_size':(128, 3000),\n",
    "    'epochs':(20, 150),\n",
    "    'layers' : (1, 3),\n",
    "    'lmda' : (0.001, 0.1)\n",
    "}"
   ]
  },
  {
   "cell_type": "code",
   "execution_count": 73,
   "metadata": {},
   "outputs": [
    {
     "name": "stdout",
     "output_type": "stream",
     "text": [
      "|   iter    |  target   | batch_... |  epochs   |  layers   | learni... |   lmda    |  neurons  |\n",
      "-------------------------------------------------------------------------------------------------\n",
      "| \u001b[0m1        \u001b[0m | \u001b[0m0.875    \u001b[0m | \u001b[0m1.204e+03\u001b[0m | \u001b[0m143.6    \u001b[0m | \u001b[0m2.464    \u001b[0m | \u001b[0m0.06027  \u001b[0m | \u001b[0m0.01645  \u001b[0m | \u001b[0m65.6     \u001b[0m |\n",
      "| \u001b[95m2        \u001b[0m | \u001b[95m0.8767   \u001b[0m | \u001b[95m294.8    \u001b[0m | \u001b[95m132.6    \u001b[0m | \u001b[95m2.202    \u001b[0m | \u001b[95m0.0711   \u001b[0m | \u001b[95m0.003038 \u001b[0m | \u001b[95m147.0    \u001b[0m |\n",
      "| \u001b[95m3        \u001b[0m | \u001b[95m0.9148   \u001b[0m | \u001b[95m2.519e+03\u001b[0m | \u001b[95m47.6     \u001b[0m | \u001b[95m1.364    \u001b[0m | \u001b[95m0.01916  \u001b[0m | \u001b[95m0.03112  \u001b[0m | \u001b[95m102.5    \u001b[0m |\n",
      "| \u001b[0m4        \u001b[0m | \u001b[0m0.893    \u001b[0m | \u001b[0m1.369e+03\u001b[0m | \u001b[0m57.86    \u001b[0m | \u001b[0m2.224    \u001b[0m | \u001b[0m0.01481  \u001b[0m | \u001b[0m0.02992  \u001b[0m | \u001b[0m86.64    \u001b[0m |\n",
      "| \u001b[0m5        \u001b[0m | \u001b[0m0.8917   \u001b[0m | \u001b[0m1.438e+03\u001b[0m | \u001b[0m122.1    \u001b[0m | \u001b[0m1.399    \u001b[0m | \u001b[0m0.05191  \u001b[0m | \u001b[0m0.05965  \u001b[0m | \u001b[0m54.65    \u001b[0m |\n",
      "| \u001b[0m6        \u001b[0m | \u001b[0m0.8634   \u001b[0m | \u001b[0m1.873e+03\u001b[0m | \u001b[0m42.17    \u001b[0m | \u001b[0m1.13     \u001b[0m | \u001b[0m0.09494  \u001b[0m | \u001b[0m0.0966   \u001b[0m | \u001b[0m130.8    \u001b[0m |\n",
      "| \u001b[0m7        \u001b[0m | \u001b[0m0.8767   \u001b[0m | \u001b[0m1.003e+03\u001b[0m | \u001b[0m32.7     \u001b[0m | \u001b[0m2.368    \u001b[0m | \u001b[0m0.04458  \u001b[0m | \u001b[0m0.01308  \u001b[0m | \u001b[0m99.52    \u001b[0m |\n",
      "| \u001b[0m8        \u001b[0m | \u001b[0m0.7997   \u001b[0m | \u001b[0m226.8    \u001b[0m | \u001b[0m138.2    \u001b[0m | \u001b[0m1.518    \u001b[0m | \u001b[0m0.06659  \u001b[0m | \u001b[0m0.03186  \u001b[0m | \u001b[0m102.0    \u001b[0m |\n",
      "| \u001b[0m9        \u001b[0m | \u001b[0m0.6858   \u001b[0m | \u001b[0m1.698e+03\u001b[0m | \u001b[0m44.03    \u001b[0m | \u001b[0m2.939    \u001b[0m | \u001b[0m0.07774  \u001b[0m | \u001b[0m0.09401  \u001b[0m | \u001b[0m139.5    \u001b[0m |\n",
      "| \u001b[0m10       \u001b[0m | \u001b[0m0.9127   \u001b[0m | \u001b[0m1.845e+03\u001b[0m | \u001b[0m139.8    \u001b[0m | \u001b[0m1.177    \u001b[0m | \u001b[0m0.0204   \u001b[0m | \u001b[0m0.005478 \u001b[0m | \u001b[0m82.53    \u001b[0m |\n",
      "| \u001b[0m11       \u001b[0m | \u001b[0m0.881    \u001b[0m | \u001b[0m1.244e+03\u001b[0m | \u001b[0m55.28    \u001b[0m | \u001b[0m2.657    \u001b[0m | \u001b[0m0.03632  \u001b[0m | \u001b[0m0.02881  \u001b[0m | \u001b[0m104.3    \u001b[0m |\n",
      "| \u001b[0m12       \u001b[0m | \u001b[0m0.7414   \u001b[0m | \u001b[0m532.7    \u001b[0m | \u001b[0m124.3    \u001b[0m | \u001b[0m1.149    \u001b[0m | \u001b[0m0.0987   \u001b[0m | \u001b[0m0.07745  \u001b[0m | \u001b[0m69.87    \u001b[0m |\n",
      "| \u001b[0m13       \u001b[0m | \u001b[0m0.6682   \u001b[0m | \u001b[0m143.9    \u001b[0m | \u001b[0m126.0    \u001b[0m | \u001b[0m2.414    \u001b[0m | \u001b[0m0.07317  \u001b[0m | \u001b[0m0.07736  \u001b[0m | \u001b[0m57.4     \u001b[0m |\n",
      "| \u001b[0m14       \u001b[0m | \u001b[0m0.7684   \u001b[0m | \u001b[0m1.158e+03\u001b[0m | \u001b[0m35.06    \u001b[0m | \u001b[0m2.726    \u001b[0m | \u001b[0m0.06271  \u001b[0m | \u001b[0m0.03376  \u001b[0m | \u001b[0m56.36    \u001b[0m |\n",
      "| \u001b[0m15       \u001b[0m | \u001b[0m0.8626   \u001b[0m | \u001b[0m1.021e+03\u001b[0m | \u001b[0m62.27    \u001b[0m | \u001b[0m2.459    \u001b[0m | \u001b[0m0.06412  \u001b[0m | \u001b[0m0.08883  \u001b[0m | \u001b[0m97.22    \u001b[0m |\n",
      "| \u001b[0m16       \u001b[0m | \u001b[0m0.7256   \u001b[0m | \u001b[0m471.5    \u001b[0m | \u001b[0m112.7    \u001b[0m | \u001b[0m2.522    \u001b[0m | \u001b[0m0.05657  \u001b[0m | \u001b[0m0.07733  \u001b[0m | \u001b[0m99.38    \u001b[0m |\n",
      "| \u001b[0m17       \u001b[0m | \u001b[0m0.9135   \u001b[0m | \u001b[0m1.629e+03\u001b[0m | \u001b[0m75.58    \u001b[0m | \u001b[0m1.051    \u001b[0m | \u001b[0m0.01168  \u001b[0m | \u001b[0m0.004111 \u001b[0m | \u001b[0m113.6    \u001b[0m |\n",
      "| \u001b[0m18       \u001b[0m | \u001b[0m0.8634   \u001b[0m | \u001b[0m1.031e+03\u001b[0m | \u001b[0m86.11    \u001b[0m | \u001b[0m2.815    \u001b[0m | \u001b[0m0.02568  \u001b[0m | \u001b[0m0.04163  \u001b[0m | \u001b[0m125.6    \u001b[0m |\n",
      "| \u001b[0m19       \u001b[0m | \u001b[0m0.8998   \u001b[0m | \u001b[0m785.1    \u001b[0m | \u001b[0m30.01    \u001b[0m | \u001b[0m1.58     \u001b[0m | \u001b[0m0.01696  \u001b[0m | \u001b[0m0.09304  \u001b[0m | \u001b[0m130.8    \u001b[0m |\n",
      "| \u001b[0m20       \u001b[0m | \u001b[0m0.9041   \u001b[0m | \u001b[0m1.947e+03\u001b[0m | \u001b[0m133.3    \u001b[0m | \u001b[0m2.607    \u001b[0m | \u001b[0m0.01947  \u001b[0m | \u001b[0m0.08936  \u001b[0m | \u001b[0m103.9    \u001b[0m |\n",
      "| \u001b[0m21       \u001b[0m | \u001b[0m0.9084   \u001b[0m | \u001b[0m2.447e+03\u001b[0m | \u001b[0m136.5    \u001b[0m | \u001b[0m1.636    \u001b[0m | \u001b[0m0.0119   \u001b[0m | \u001b[0m0.02357  \u001b[0m | \u001b[0m92.71    \u001b[0m |\n",
      "| \u001b[0m22       \u001b[0m | \u001b[0m0.9062   \u001b[0m | \u001b[0m2.477e+03\u001b[0m | \u001b[0m131.9    \u001b[0m | \u001b[0m1.014    \u001b[0m | \u001b[0m0.05156  \u001b[0m | \u001b[0m0.04232  \u001b[0m | \u001b[0m72.21    \u001b[0m |\n",
      "| \u001b[0m23       \u001b[0m | \u001b[0m0.7907   \u001b[0m | \u001b[0m472.3    \u001b[0m | \u001b[0m63.89    \u001b[0m | \u001b[0m2.886    \u001b[0m | \u001b[0m0.033    \u001b[0m | \u001b[0m0.05236  \u001b[0m | \u001b[0m120.3    \u001b[0m |\n",
      "| \u001b[0m24       \u001b[0m | \u001b[0m0.8784   \u001b[0m | \u001b[0m1.172e+03\u001b[0m | \u001b[0m146.3    \u001b[0m | \u001b[0m2.925    \u001b[0m | \u001b[0m0.02593  \u001b[0m | \u001b[0m0.05023  \u001b[0m | \u001b[0m80.09    \u001b[0m |\n",
      "| \u001b[0m25       \u001b[0m | \u001b[0m0.9041   \u001b[0m | \u001b[0m946.1    \u001b[0m | \u001b[0m24.8     \u001b[0m | \u001b[0m2.219    \u001b[0m | \u001b[0m0.05077  \u001b[0m | \u001b[0m0.006096 \u001b[0m | \u001b[0m77.86    \u001b[0m |\n",
      "| \u001b[0m26       \u001b[0m | \u001b[0m0.9092   \u001b[0m | \u001b[0m1.564e+03\u001b[0m | \u001b[0m115.4    \u001b[0m | \u001b[0m1.0      \u001b[0m | \u001b[0m0.001    \u001b[0m | \u001b[0m0.001    \u001b[0m | \u001b[0m84.08    \u001b[0m |\n",
      "| \u001b[0m27       \u001b[0m | \u001b[0m0.9131   \u001b[0m | \u001b[0m1.567e+03\u001b[0m | \u001b[0m115.8    \u001b[0m | \u001b[0m2.675    \u001b[0m | \u001b[0m0.01086  \u001b[0m | \u001b[0m0.007421 \u001b[0m | \u001b[0m84.03    \u001b[0m |\n",
      "| \u001b[0m28       \u001b[0m | \u001b[0m0.7979   \u001b[0m | \u001b[0m2.412e+03\u001b[0m | \u001b[0m20.9     \u001b[0m | \u001b[0m1.0      \u001b[0m | \u001b[0m0.1      \u001b[0m | \u001b[0m0.1      \u001b[0m | \u001b[0m60.66    \u001b[0m |\n",
      "| \u001b[0m29       \u001b[0m | \u001b[0m0.9097   \u001b[0m | \u001b[0m2.55e+03 \u001b[0m | \u001b[0m138.7    \u001b[0m | \u001b[0m1.849    \u001b[0m | \u001b[0m0.009667 \u001b[0m | \u001b[0m0.03787  \u001b[0m | \u001b[0m148.7    \u001b[0m |\n",
      "| \u001b[0m30       \u001b[0m | \u001b[0m0.896    \u001b[0m | \u001b[0m2.628e+03\u001b[0m | \u001b[0m62.84    \u001b[0m | \u001b[0m2.446    \u001b[0m | \u001b[0m0.001    \u001b[0m | \u001b[0m0.001    \u001b[0m | \u001b[0m88.43    \u001b[0m |\n",
      "| \u001b[0m31       \u001b[0m | \u001b[0m0.8292   \u001b[0m | \u001b[0m1.572e+03\u001b[0m | \u001b[0m20.44    \u001b[0m | \u001b[0m2.125    \u001b[0m | \u001b[0m0.08042  \u001b[0m | \u001b[0m0.08275  \u001b[0m | \u001b[0m50.78    \u001b[0m |\n",
      "| \u001b[0m32       \u001b[0m | \u001b[0m0.8767   \u001b[0m | \u001b[0m1.624e+03\u001b[0m | \u001b[0m146.6    \u001b[0m | \u001b[0m1.836    \u001b[0m | \u001b[0m0.04706  \u001b[0m | \u001b[0m0.07955  \u001b[0m | \u001b[0m137.0    \u001b[0m |\n",
      "| \u001b[95m33       \u001b[0m | \u001b[95m0.9221   \u001b[0m | \u001b[95m881.1    \u001b[0m | \u001b[95m98.8     \u001b[0m | \u001b[95m1.0      \u001b[0m | \u001b[95m0.001    \u001b[0m | \u001b[95m0.001    \u001b[0m | \u001b[95m150.0    \u001b[0m |\n",
      "| \u001b[0m34       \u001b[0m | \u001b[0m0.8532   \u001b[0m | \u001b[0m848.6    \u001b[0m | \u001b[0m126.0    \u001b[0m | \u001b[0m2.366    \u001b[0m | \u001b[0m0.08517  \u001b[0m | \u001b[0m0.04431  \u001b[0m | \u001b[0m52.75    \u001b[0m |\n",
      "| \u001b[0m35       \u001b[0m | \u001b[0m0.914    \u001b[0m | \u001b[0m1.319e+03\u001b[0m | \u001b[0m150.0    \u001b[0m | \u001b[0m1.605    \u001b[0m | \u001b[0m0.001    \u001b[0m | \u001b[0m0.04717  \u001b[0m | \u001b[0m150.0    \u001b[0m |\n",
      "| \u001b[0m36       \u001b[0m | \u001b[0m0.8866   \u001b[0m | \u001b[0m868.7    \u001b[0m | \u001b[0m20.8     \u001b[0m | \u001b[0m2.065    \u001b[0m | \u001b[0m0.01022  \u001b[0m | \u001b[0m0.08261  \u001b[0m | \u001b[0m148.6    \u001b[0m |\n",
      "| \u001b[0m37       \u001b[0m | \u001b[0m0.8973   \u001b[0m | \u001b[0m2.02e+03 \u001b[0m | \u001b[0m33.27    \u001b[0m | \u001b[0m1.315    \u001b[0m | \u001b[0m0.01326  \u001b[0m | \u001b[0m0.0766   \u001b[0m | \u001b[0m53.29    \u001b[0m |\n",
      "| \u001b[0m38       \u001b[0m | \u001b[0m0.8951   \u001b[0m | \u001b[0m2.068e+03\u001b[0m | \u001b[0m150.0    \u001b[0m | \u001b[0m1.0      \u001b[0m | \u001b[0m0.1      \u001b[0m | \u001b[0m0.001    \u001b[0m | \u001b[0m50.0     \u001b[0m |\n",
      "| \u001b[0m39       \u001b[0m | \u001b[0m0.9015   \u001b[0m | \u001b[0m2.084e+03\u001b[0m | \u001b[0m71.73    \u001b[0m | \u001b[0m1.0      \u001b[0m | \u001b[0m0.001    \u001b[0m | \u001b[0m0.001    \u001b[0m | \u001b[0m150.0    \u001b[0m |\n",
      "| \u001b[0m40       \u001b[0m | \u001b[0m0.8369   \u001b[0m | \u001b[0m2.153e+03\u001b[0m | \u001b[0m30.18    \u001b[0m | \u001b[0m1.938    \u001b[0m | \u001b[0m0.0993   \u001b[0m | \u001b[0m0.07974  \u001b[0m | \u001b[0m53.14    \u001b[0m |\n",
      "| \u001b[0m41       \u001b[0m | \u001b[0m0.2487   \u001b[0m | \u001b[0m1.421e+03\u001b[0m | \u001b[0m150.0    \u001b[0m | \u001b[0m3.0      \u001b[0m | \u001b[0m0.1      \u001b[0m | \u001b[0m0.1      \u001b[0m | \u001b[0m150.0    \u001b[0m |\n",
      "| \u001b[0m42       \u001b[0m | \u001b[0m0.9212   \u001b[0m | \u001b[0m1.251e+03\u001b[0m | \u001b[0m150.0    \u001b[0m | \u001b[0m1.0      \u001b[0m | \u001b[0m0.001    \u001b[0m | \u001b[0m0.001    \u001b[0m | \u001b[0m150.0    \u001b[0m |\n",
      "| \u001b[0m43       \u001b[0m | \u001b[0m0.9101   \u001b[0m | \u001b[0m1.299e+03\u001b[0m | \u001b[0m126.4    \u001b[0m | \u001b[0m1.0      \u001b[0m | \u001b[0m0.001    \u001b[0m | \u001b[0m0.001    \u001b[0m | \u001b[0m74.15    \u001b[0m |\n",
      "| \u001b[0m44       \u001b[0m | \u001b[0m0.905    \u001b[0m | \u001b[0m2.582e+03\u001b[0m | \u001b[0m144.3    \u001b[0m | \u001b[0m3.0      \u001b[0m | \u001b[0m0.1      \u001b[0m | \u001b[0m0.001    \u001b[0m | \u001b[0m51.04    \u001b[0m |\n",
      "| \u001b[0m45       \u001b[0m | \u001b[0m0.5043   \u001b[0m | \u001b[0m1.99e+03 \u001b[0m | \u001b[0m48.6     \u001b[0m | \u001b[0m3.0      \u001b[0m | \u001b[0m0.1      \u001b[0m | \u001b[0m0.008034 \u001b[0m | \u001b[0m150.0    \u001b[0m |\n",
      "| \u001b[0m46       \u001b[0m | \u001b[0m0.9084   \u001b[0m | \u001b[0m2.131e+03\u001b[0m | \u001b[0m132.3    \u001b[0m | \u001b[0m1.0      \u001b[0m | \u001b[0m0.001    \u001b[0m | \u001b[0m0.001    \u001b[0m | \u001b[0m132.0    \u001b[0m |\n",
      "| \u001b[0m47       \u001b[0m | \u001b[0m0.9007   \u001b[0m | \u001b[0m1.286e+03\u001b[0m | \u001b[0m90.96    \u001b[0m | \u001b[0m1.963    \u001b[0m | \u001b[0m0.01961  \u001b[0m | \u001b[0m0.02745  \u001b[0m | \u001b[0m148.5    \u001b[0m |\n",
      "| \u001b[0m48       \u001b[0m | \u001b[0m0.9024   \u001b[0m | \u001b[0m1.914e+03\u001b[0m | \u001b[0m150.0    \u001b[0m | \u001b[0m1.0      \u001b[0m | \u001b[0m0.001    \u001b[0m | \u001b[0m0.001    \u001b[0m | \u001b[0m50.0     \u001b[0m |\n",
      "| \u001b[0m49       \u001b[0m | \u001b[0m0.8947   \u001b[0m | \u001b[0m793.1    \u001b[0m | \u001b[0m125.9    \u001b[0m | \u001b[0m1.0      \u001b[0m | \u001b[0m0.02093  \u001b[0m | \u001b[0m0.06907  \u001b[0m | \u001b[0m150.0    \u001b[0m |\n",
      "| \u001b[0m50       \u001b[0m | \u001b[0m0.9041   \u001b[0m | \u001b[0m2.652e+03\u001b[0m | \u001b[0m148.7    \u001b[0m | \u001b[0m2.823    \u001b[0m | \u001b[0m0.03357  \u001b[0m | \u001b[0m0.007461 \u001b[0m | \u001b[0m127.3    \u001b[0m |\n",
      "=================================================================================================\n"
     ]
    }
   ],
   "source": [
    "nn_bo = BayesianOptimization(nn_cl_bo, params_nn, random_state=RANDOM_STATE)\n",
    "nn_bo.maximize(init_points=25)"
   ]
  },
  {
   "attachments": {},
   "cell_type": "markdown",
   "metadata": {},
   "source": [
    "De esta tabla podemos observar en el último morado los parámetros para el mejor target que, en nuestro caso, es la precisión de test. \n",
    "\n",
    "Los mejores parámetros son:"
   ]
  },
  {
   "cell_type": "code",
   "execution_count": 74,
   "metadata": {},
   "outputs": [
    {
     "data": {
      "text/plain": [
       "{'batch_size': 881.1189642268528,\n",
       " 'epochs': 98.79643151077138,\n",
       " 'layers': 1.0,\n",
       " 'learning_rate': 0.001,\n",
       " 'lmda': 0.001,\n",
       " 'neurons': 150.0}"
      ]
     },
     "execution_count": 74,
     "metadata": {},
     "output_type": "execute_result"
    }
   ],
   "source": [
    "params_nn_ = nn_bo.max['params']\n",
    "params_nn_"
   ]
  },
  {
   "attachments": {},
   "cell_type": "markdown",
   "metadata": {},
   "source": [
    "Nos guardaremos estos parámetros para entrenar el modelo final."
   ]
  },
  {
   "cell_type": "code",
   "execution_count": 75,
   "metadata": {},
   "outputs": [],
   "source": [
    "best_batch_size = round(params_nn_['batch_size'])\n",
    "best_epochs = round(params_nn_['epochs'])\n",
    "best_learning_rate = params_nn_['learning_rate']\n",
    "best_neurons = round(params_nn_['neurons'])\n",
    "best_layers = round(params_nn_['layers'])\n",
    "best_lmda = params_nn_['lmda']"
   ]
  },
  {
   "attachments": {},
   "cell_type": "markdown",
   "metadata": {},
   "source": [
    "## Red neuronal con mejor resultado:"
   ]
  },
  {
   "cell_type": "code",
   "execution_count": 76,
   "metadata": {},
   "outputs": [],
   "source": [
    "modelo = Sequential()\n",
    "\n",
    "modelo.add(Dense(best_neurons, input_dim=XX_train.shape[1], activation='relu', kernel_regularizer=tf.keras.regularizers.l2(best_lmda)))\n",
    "for i in range(best_layers):\n",
    "    modelo.add(Dense(best_neurons, activation='relu', kernel_regularizer=tf.keras.regularizers.l2(best_lmda)))\n",
    "modelo.add(Dense(4, activation='softmax'))\n",
    "modelo.add(Dense(4, activation='softmax'))\n",
    "\n",
    "modelo.compile(loss='SparseCategoricalCrossentropy', optimizer=Adam(best_learning_rate), metrics=['accuracy'])\n",
    "\n",
    "es = EarlyStopping(monitor='accuracy', mode='max', verbose=0, patience=20)\n",
    "\n",
    "history = modelo.fit(XX_train, y_train, validation_data=(XX_val, y_val), epochs=best_epochs, batch_size=best_batch_size, verbose=0, callbacks=[es])"
   ]
  },
  {
   "attachments": {},
   "cell_type": "markdown",
   "metadata": {},
   "source": [
    "Esta es la precisión de entrenamiento, test y evaluación para cada iteración:"
   ]
  },
  {
   "cell_type": "code",
   "execution_count": 77,
   "metadata": {},
   "outputs": [
    {
     "name": "stdout",
     "output_type": "stream",
     "text": [
      "Precisión en el conjunto de test: 91.13869667053223 %\n"
     ]
    }
   ],
   "source": [
    "score = modelo.evaluate(XX_test, y_test, verbose=0)\n",
    "print('Precisión en el conjunto de test:', score[1]*100 ,'%')"
   ]
  },
  {
   "cell_type": "code",
   "execution_count": 78,
   "metadata": {},
   "outputs": [
    {
     "name": "stdout",
     "output_type": "stream",
     "text": [
      "Precisión en el conjunto de entrenamiento: 99.70025420188904 %\n"
     ]
    }
   ],
   "source": [
    "score = modelo.evaluate(XX_train, y_train, verbose=0)\n",
    "print('Precisión en el conjunto de entrenamiento:', score[1]*100 ,'%')"
   ]
  },
  {
   "cell_type": "code",
   "execution_count": 79,
   "metadata": {},
   "outputs": [
    {
     "name": "stdout",
     "output_type": "stream",
     "text": [
      "Precisión en el conjunto de validación: 92.25171208381653 %\n"
     ]
    }
   ],
   "source": [
    "score = modelo.evaluate(XX_val, y_val, verbose=0)\n",
    "print('Precisión en el conjunto de validación:', score[1]*100 ,'%')"
   ]
  },
  {
   "attachments": {},
   "cell_type": "markdown",
   "metadata": {},
   "source": [
    "## Estudio de la precisión:\n"
   ]
  },
  {
   "attachments": {},
   "cell_type": "markdown",
   "metadata": {},
   "source": [
    "Primero veremos las medidas de calidad respecto a los datos de entrenamiento (métricas de entrenamiento):\n",
    "- Precision: fracción de predicciones correctas que el modelo ha hecho\n",
    "- Recall: fracción de ejemplos positivos que el modelo ha predicho correctamente\n",
    "- F1-score: medida de la precisión y exhaustividad del modelo"
   ]
  },
  {
   "cell_type": "code",
   "execution_count": null,
   "metadata": {},
   "outputs": [],
   "source": [
    "cr = classification_report(y_test, y_hat)\n",
    "print (cr)"
   ]
  },
  {
   "attachments": {},
   "cell_type": "markdown",
   "metadata": {},
   "source": [
    "TODO conclusiones"
   ]
  },
  {
   "attachments": {},
   "cell_type": "markdown",
   "metadata": {},
   "source": [
    "Podemos ver también cómo de bien clasifica cada clase con la matriz de confusión:"
   ]
  },
  {
   "cell_type": "code",
   "execution_count": null,
   "metadata": {},
   "outputs": [],
   "source": [
    "f,ax = plt.subplots(figsize=(15, 15))\n",
    "matriz_conf = confusion_matrix(y_test,y_hat)\n",
    "sns.set(font_scale=1.4)\n",
    "sns.heatmap(matriz_conf, annot=True, ax=ax)\n",
    "plt.xlabel(\"Clase asignada\")\n",
    "plt.ylabel(\"Clase real\")\n",
    "plt.title(\"Matriz de confusión\")\n",
    "plt.show()"
   ]
  },
  {
   "attachments": {},
   "cell_type": "markdown",
   "metadata": {},
   "source": [
    "# 10. Bibiliografía <a class=\"anchor\" id=\"Bibliografía\"></a>"
   ]
  },
  {
   "attachments": {},
   "cell_type": "markdown",
   "metadata": {},
   "source": [
    "- Ng, A. “C1_W3 classification + regularization.” Stanford. Disponible en el Campus Virtual.\n",
    "- Ng, A. \"C2_W1 NN.\" Stanford. Disponible en el Campus Virtual.\n",
    "- Ng, A. \"C2_W2 NN training + multiclass.\" Stanford. Disponible en el Campus Virtual.\n",
    "- Ng, A. \"C2_W3 evaluation.\" Stanford. Disponible en el Campus Virtual.\n",
    "\n",
    "- Amat Rodrigo, J. (2020) Regresión Lineal con python, Regresión lineal con python. Cienciadedatos.net. Disponible en: https://www.cienciadedatos.net/documentos/py10-regresion-lineal-python.html (Visitado: 28 de abril, 2023). \n",
    "\n",
    "- Amat Rodrigo, J. (2020) Regresión Lineal con python, Regresión lineal con python. Cienciadedatos.net. Disponible en: https://www.cienciadedatos.net/documentos/py10-regresion-lineal-python.html (Visitado: 28 de abril, 2023). \n",
    "\n",
    "- Redacción KeepCoding (2022) Función Softmax en tensorflow, Función softmax en TensorFlow . KeepCoding Bootcamps. Disponible en: https://keepcoding.io/blog/funcion-softmax-tensorflow/#Funcion_softmax_en_TensorFlow (Visitado: 1 de mayo, 2023). \n",
    "\n",
    "- Brownlee, J. (2021) Gentle introduction to the adam optimization algorithm for deep learning, MachineLearningMastery.com. machinelearningmastery.com. Disponible en: https://machinelearningmastery.com/adam-optimization-algorithm-for-deep-learning/ (Visitado: 1 de mayo, 2023). \n",
    "\n",
    "- Rendyk (2022) Tuning the hyperparameters and layers of neural network deep learning, Analytics Vidhya. Data Science Blogathon. Disponible en: https://www.analyticsvidhya.com/blog/2021/05/tuning-the-hyperparameters-and-layers-of-neural-network-deep-learning/ (Visitado: 7 de mayo, 2023). \n",
    "\n",
    "- Natsume, Y. (2022) Bayesian optimization with python, Medium. Towards Data Science. Disponible en: https://towardsdatascience.com/bayesian-optimization-with-python-85c66df711ec (Visitado: 7 de mayo, 2023). \n",
    "\n",
    "- Prácticas 4, 6, 7 de la asignatura de Aprendizaje Automático."
   ]
  },
  {
   "attachments": {},
   "cell_type": "markdown",
   "metadata": {},
   "source": [
    "### Figuras:"
   ]
  },
  {
   "attachments": {},
   "cell_type": "markdown",
   "metadata": {},
   "source": [
    "- Figura 1:\n",
    "    Ng, A. Machine Learning , Machine learning. Disponible en: http://openclassroom.stanford.edu/MainFolder/DocumentPage.php?course=MachineLearning&amp;doc=exercises%2Fex5%2Fex5.html (Visitado: 1 de mayo, 2023). \n",
    "\n",
    "- Figuras 2 y 3:\n",
    "    Ng, A. “C1_W3 classification + regularization.” Stanford. "
   ]
  }
 ],
 "metadata": {
  "kernelspec": {
   "display_name": "Python 3",
   "language": "python",
   "name": "python3"
  },
  "language_info": {
   "codemirror_mode": {
    "name": "ipython",
    "version": 3
   },
   "file_extension": ".py",
   "mimetype": "text/x-python",
   "name": "python",
   "nbconvert_exporter": "python",
   "pygments_lexer": "ipython3",
   "version": "3.10.6"
  },
  "orig_nbformat": 4
 },
 "nbformat": 4,
 "nbformat_minor": 2
}
